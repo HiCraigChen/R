{
 "cells": [
  {
   "cell_type": "code",
   "execution_count": 1,
   "metadata": {
    "collapsed": true
   },
   "outputs": [],
   "source": [
    "animal <- c('d','c','d','d','c')"
   ]
  },
  {
   "cell_type": "code",
   "execution_count": 2,
   "metadata": {
    "collapsed": true
   },
   "outputs": [],
   "source": [
    "id <- c(1,2,3,4,5)"
   ]
  },
  {
   "cell_type": "code",
   "execution_count": 3,
   "metadata": {
    "collapsed": false
   },
   "outputs": [
    {
     "data": {
      "text/html": [
       "<ol class=list-inline>\n",
       "\t<li>d</li>\n",
       "\t<li>c</li>\n",
       "\t<li>d</li>\n",
       "\t<li>d</li>\n",
       "\t<li>c</li>\n",
       "</ol>\n"
      ],
      "text/latex": [
       "\\begin{enumerate*}\n",
       "\\item d\n",
       "\\item c\n",
       "\\item d\n",
       "\\item d\n",
       "\\item c\n",
       "\\end{enumerate*}\n"
      ],
      "text/markdown": [
       "1. d\n",
       "2. c\n",
       "3. d\n",
       "4. d\n",
       "5. c\n",
       "\n",
       "\n"
      ],
      "text/plain": [
       "[1] d c d d c\n",
       "Levels: c d"
      ]
     },
     "metadata": {},
     "output_type": "display_data"
    }
   ],
   "source": [
    "factor(animal)"
   ]
  },
  {
   "cell_type": "code",
   "execution_count": 4,
   "metadata": {
    "collapsed": true
   },
   "outputs": [],
   "source": [
    "fact.animal <- factor(animal)"
   ]
  },
  {
   "cell_type": "code",
   "execution_count": 5,
   "metadata": {
    "collapsed": true
   },
   "outputs": [],
   "source": [
    "# Nominal - No order\n",
    "# Ordinal - Order"
   ]
  },
  {
   "cell_type": "code",
   "execution_count": 6,
   "metadata": {
    "collapsed": true
   },
   "outputs": [],
   "source": [
    "ord.cat <- c('cold','med','hot')"
   ]
  },
  {
   "cell_type": "code",
   "execution_count": 7,
   "metadata": {
    "collapsed": true
   },
   "outputs": [],
   "source": [
    "temps <- c('cold','med','hot','hot','hot','cold','med')"
   ]
  },
  {
   "cell_type": "code",
   "execution_count": 8,
   "metadata": {
    "collapsed": false
   },
   "outputs": [
    {
     "data": {
      "text/html": [
       "<ol class=list-inline>\n",
       "\t<li>'cold'</li>\n",
       "\t<li>'med'</li>\n",
       "\t<li>'hot'</li>\n",
       "\t<li>'hot'</li>\n",
       "\t<li>'hot'</li>\n",
       "\t<li>'cold'</li>\n",
       "\t<li>'med'</li>\n",
       "</ol>\n"
      ],
      "text/latex": [
       "\\begin{enumerate*}\n",
       "\\item 'cold'\n",
       "\\item 'med'\n",
       "\\item 'hot'\n",
       "\\item 'hot'\n",
       "\\item 'hot'\n",
       "\\item 'cold'\n",
       "\\item 'med'\n",
       "\\end{enumerate*}\n"
      ],
      "text/markdown": [
       "1. 'cold'\n",
       "2. 'med'\n",
       "3. 'hot'\n",
       "4. 'hot'\n",
       "5. 'hot'\n",
       "6. 'cold'\n",
       "7. 'med'\n",
       "\n",
       "\n"
      ],
      "text/plain": [
       "[1] \"cold\" \"med\"  \"hot\"  \"hot\"  \"hot\"  \"cold\" \"med\" "
      ]
     },
     "metadata": {},
     "output_type": "display_data"
    }
   ],
   "source": [
    "temps"
   ]
  },
  {
   "cell_type": "code",
   "execution_count": 9,
   "metadata": {
    "collapsed": true
   },
   "outputs": [],
   "source": [
    "fact.temp <- factor(temps,ordered = T,levels = c('cold','med','hot'))"
   ]
  },
  {
   "cell_type": "code",
   "execution_count": 10,
   "metadata": {
    "collapsed": false
   },
   "outputs": [
    {
     "data": {
      "text/html": [
       "<ol class=list-inline>\n",
       "\t<li>cold</li>\n",
       "\t<li>med</li>\n",
       "\t<li>hot</li>\n",
       "\t<li>hot</li>\n",
       "\t<li>hot</li>\n",
       "\t<li>cold</li>\n",
       "\t<li>med</li>\n",
       "</ol>\n"
      ],
      "text/latex": [
       "\\begin{enumerate*}\n",
       "\\item cold\n",
       "\\item med\n",
       "\\item hot\n",
       "\\item hot\n",
       "\\item hot\n",
       "\\item cold\n",
       "\\item med\n",
       "\\end{enumerate*}\n"
      ],
      "text/markdown": [
       "1. cold\n",
       "2. med\n",
       "3. hot\n",
       "4. hot\n",
       "5. hot\n",
       "6. cold\n",
       "7. med\n",
       "\n",
       "\n"
      ],
      "text/plain": [
       "[1] cold med  hot  hot  hot  cold med \n",
       "Levels: cold < med < hot"
      ]
     },
     "metadata": {},
     "output_type": "display_data"
    }
   ],
   "source": [
    "fact.temp"
   ]
  },
  {
   "cell_type": "code",
   "execution_count": 11,
   "metadata": {
    "collapsed": false
   },
   "outputs": [
    {
     "data": {
      "text/html": [
       "<dl class=dl-horizontal>\n",
       "\t<dt>cold</dt>\n",
       "\t\t<dd>2</dd>\n",
       "\t<dt>med</dt>\n",
       "\t\t<dd>2</dd>\n",
       "\t<dt>hot</dt>\n",
       "\t\t<dd>3</dd>\n",
       "</dl>\n"
      ],
      "text/latex": [
       "\\begin{description*}\n",
       "\\item[cold] 2\n",
       "\\item[med] 2\n",
       "\\item[hot] 3\n",
       "\\end{description*}\n"
      ],
      "text/markdown": [
       "cold\n",
       ":   2med\n",
       ":   2hot\n",
       ":   3\n",
       "\n"
      ],
      "text/plain": [
       "cold  med  hot \n",
       "   2    2    3 "
      ]
     },
     "metadata": {},
     "output_type": "display_data"
    }
   ],
   "source": [
    "summary(fact.temp)"
   ]
  },
  {
   "cell_type": "code",
   "execution_count": 12,
   "metadata": {
    "collapsed": false
   },
   "outputs": [
    {
     "data": {
      "text/plain": [
       "   Length     Class      Mode \n",
       "        7 character character "
      ]
     },
     "metadata": {},
     "output_type": "display_data"
    }
   ],
   "source": [
    "summary(temps)"
   ]
  },
  {
   "cell_type": "code",
   "execution_count": null,
   "metadata": {
    "collapsed": true
   },
   "outputs": [],
   "source": []
  }
 ],
 "metadata": {
  "kernelspec": {
   "display_name": "R",
   "language": "R",
   "name": "ir"
  },
  "language_info": {
   "codemirror_mode": "r",
   "file_extension": ".r",
   "mimetype": "text/x-r-source",
   "name": "R",
   "pygments_lexer": "r",
   "version": "3.3.2"
  }
 },
 "nbformat": 4,
 "nbformat_minor": 2
}
