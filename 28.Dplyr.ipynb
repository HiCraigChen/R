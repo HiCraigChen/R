{
 "cells": [
  {
   "cell_type": "code",
   "execution_count": 1,
   "metadata": {
    "collapsed": false
   },
   "outputs": [
    {
     "name": "stderr",
     "output_type": "stream",
     "text": [
      "also installing the dependencies ‘assertthat’, ‘DBI’\n",
      "\n"
     ]
    },
    {
     "name": "stdout",
     "output_type": "stream",
     "text": [
      "\n",
      "The downloaded binary packages are in\n",
      "\t/var/folders/py/lhhb009s773f7xlgffm6ysjw0000gn/T//RtmpmsjMiQ/downloaded_packages\n"
     ]
    }
   ],
   "source": [
    "install.packages('dplyr')"
   ]
  },
  {
   "cell_type": "code",
   "execution_count": 2,
   "metadata": {
    "collapsed": false
   },
   "outputs": [
    {
     "name": "stdout",
     "output_type": "stream",
     "text": [
      "\n",
      "The downloaded binary packages are in\n",
      "\t/var/folders/py/lhhb009s773f7xlgffm6ysjw0000gn/T//RtmpmsjMiQ/downloaded_packages\n"
     ]
    }
   ],
   "source": [
    "install.packages('nycflights13',repos = 'http://cran.us.r-project.org')"
   ]
  },
  {
   "cell_type": "code",
   "execution_count": 3,
   "metadata": {
    "collapsed": true
   },
   "outputs": [],
   "source": [
    "library(nycflights13)"
   ]
  },
  {
   "cell_type": "code",
   "execution_count": 6,
   "metadata": {
    "collapsed": false
   },
   "outputs": [
    {
     "name": "stderr",
     "output_type": "stream",
     "text": [
      "\n",
      "Attaching package: ‘dplyr’\n",
      "\n",
      "The following objects are masked from ‘package:stats’:\n",
      "\n",
      "    filter, lag\n",
      "\n",
      "The following objects are masked from ‘package:base’:\n",
      "\n",
      "    intersect, setdiff, setequal, union\n",
      "\n"
     ]
    }
   ],
   "source": [
    "library(dplyr)  #rewrite the orginal R function"
   ]
  },
  {
   "cell_type": "code",
   "execution_count": 5,
   "metadata": {
    "collapsed": false
   },
   "outputs": [
    {
     "data": {
      "text/plain": [
       "      year          month             day           dep_time    sched_dep_time\n",
       " Min.   :2013   Min.   : 1.000   Min.   : 1.00   Min.   :   1   Min.   : 106  \n",
       " 1st Qu.:2013   1st Qu.: 4.000   1st Qu.: 8.00   1st Qu.: 907   1st Qu.: 906  \n",
       " Median :2013   Median : 7.000   Median :16.00   Median :1401   Median :1359  \n",
       " Mean   :2013   Mean   : 6.549   Mean   :15.71   Mean   :1349   Mean   :1344  \n",
       " 3rd Qu.:2013   3rd Qu.:10.000   3rd Qu.:23.00   3rd Qu.:1744   3rd Qu.:1729  \n",
       " Max.   :2013   Max.   :12.000   Max.   :31.00   Max.   :2400   Max.   :2359  \n",
       "                                                 NA's   :8255                 \n",
       "   dep_delay          arr_time    sched_arr_time   arr_delay       \n",
       " Min.   : -43.00   Min.   :   1   Min.   :   1   Min.   : -86.000  \n",
       " 1st Qu.:  -5.00   1st Qu.:1104   1st Qu.:1124   1st Qu.: -17.000  \n",
       " Median :  -2.00   Median :1535   Median :1556   Median :  -5.000  \n",
       " Mean   :  12.64   Mean   :1502   Mean   :1536   Mean   :   6.895  \n",
       " 3rd Qu.:  11.00   3rd Qu.:1940   3rd Qu.:1945   3rd Qu.:  14.000  \n",
       " Max.   :1301.00   Max.   :2400   Max.   :2359   Max.   :1272.000  \n",
       " NA's   :8255      NA's   :8713                  NA's   :9430      \n",
       "   carrier              flight       tailnum             origin         \n",
       " Length:336776      Min.   :   1   Length:336776      Length:336776     \n",
       " Class :character   1st Qu.: 553   Class :character   Class :character  \n",
       " Mode  :character   Median :1496   Mode  :character   Mode  :character  \n",
       "                    Mean   :1972                                        \n",
       "                    3rd Qu.:3465                                        \n",
       "                    Max.   :8500                                        \n",
       "                                                                        \n",
       "     dest              air_time        distance         hour      \n",
       " Length:336776      Min.   : 20.0   Min.   :  17   Min.   : 1.00  \n",
       " Class :character   1st Qu.: 82.0   1st Qu.: 502   1st Qu.: 9.00  \n",
       " Mode  :character   Median :129.0   Median : 872   Median :13.00  \n",
       "                    Mean   :150.7   Mean   :1040   Mean   :13.18  \n",
       "                    3rd Qu.:192.0   3rd Qu.:1389   3rd Qu.:17.00  \n",
       "                    Max.   :695.0   Max.   :4983   Max.   :23.00  \n",
       "                    NA's   :9430                                  \n",
       "     minute        time_hour                  \n",
       " Min.   : 0.00   Min.   :2013-01-01 05:00:00  \n",
       " 1st Qu.: 8.00   1st Qu.:2013-04-04 13:00:00  \n",
       " Median :29.00   Median :2013-07-03 10:00:00  \n",
       " Mean   :26.23   Mean   :2013-07-03 05:02:36  \n",
       " 3rd Qu.:44.00   3rd Qu.:2013-10-01 07:00:00  \n",
       " Max.   :59.00   Max.   :2013-12-31 23:00:00  \n",
       "                                              "
      ]
     },
     "metadata": {},
     "output_type": "display_data"
    }
   ],
   "source": [
    "summary(flights)"
   ]
  },
  {
   "cell_type": "code",
   "execution_count": 7,
   "metadata": {
    "collapsed": false
   },
   "outputs": [
    {
     "data": {
      "text/html": [
       "<table>\n",
       "<thead><tr><th scope=col>year</th><th scope=col>month</th><th scope=col>day</th><th scope=col>dep_time</th><th scope=col>sched_dep_time</th><th scope=col>dep_delay</th><th scope=col>arr_time</th><th scope=col>sched_arr_time</th><th scope=col>arr_delay</th><th scope=col>carrier</th><th scope=col>flight</th><th scope=col>tailnum</th><th scope=col>origin</th><th scope=col>dest</th><th scope=col>air_time</th><th scope=col>distance</th><th scope=col>hour</th><th scope=col>minute</th><th scope=col>time_hour</th></tr></thead>\n",
       "<tbody>\n",
       "\t<tr><td>2013               </td><td>1                  </td><td>1                  </td><td>517                </td><td>515                </td><td> 2                 </td><td> 830               </td><td> 819               </td><td> 11                </td><td>UA                 </td><td>1545               </td><td>N14228             </td><td>EWR                </td><td>IAH                </td><td>227                </td><td>1400               </td><td>5                  </td><td>15                 </td><td>2013-01-01 05:00:00</td></tr>\n",
       "\t<tr><td>2013               </td><td>1                  </td><td>1                  </td><td>533                </td><td>529                </td><td> 4                 </td><td> 850               </td><td> 830               </td><td> 20                </td><td>UA                 </td><td>1714               </td><td>N24211             </td><td>LGA                </td><td>IAH                </td><td>227                </td><td>1416               </td><td>5                  </td><td>29                 </td><td>2013-01-01 05:00:00</td></tr>\n",
       "\t<tr><td>2013               </td><td>1                  </td><td>1                  </td><td>542                </td><td>540                </td><td> 2                 </td><td> 923               </td><td> 850               </td><td> 33                </td><td>AA                 </td><td>1141               </td><td>N619AA             </td><td>JFK                </td><td>MIA                </td><td>160                </td><td>1089               </td><td>5                  </td><td>40                 </td><td>2013-01-01 05:00:00</td></tr>\n",
       "\t<tr><td>2013               </td><td>1                  </td><td>1                  </td><td>544                </td><td>545                </td><td>-1                 </td><td>1004               </td><td>1022               </td><td>-18                </td><td>B6                 </td><td> 725               </td><td>N804JB             </td><td>JFK                </td><td>BQN                </td><td>183                </td><td>1576               </td><td>5                  </td><td>45                 </td><td>2013-01-01 05:00:00</td></tr>\n",
       "\t<tr><td>2013               </td><td>1                  </td><td>1                  </td><td>554                </td><td>600                </td><td>-6                 </td><td> 812               </td><td> 837               </td><td>-25                </td><td>DL                 </td><td> 461               </td><td>N668DN             </td><td>LGA                </td><td>ATL                </td><td>116                </td><td> 762               </td><td>6                  </td><td> 0                 </td><td>2013-01-01 06:00:00</td></tr>\n",
       "\t<tr><td>2013               </td><td>1                  </td><td>1                  </td><td>554                </td><td>558                </td><td>-4                 </td><td> 740               </td><td> 728               </td><td> 12                </td><td>UA                 </td><td>1696               </td><td>N39463             </td><td>EWR                </td><td>ORD                </td><td>150                </td><td> 719               </td><td>5                  </td><td>58                 </td><td>2013-01-01 05:00:00</td></tr>\n",
       "</tbody>\n",
       "</table>\n"
      ],
      "text/latex": [
       "\\begin{tabular}{r|lllllllllllllllllll}\n",
       " year & month & day & dep\\_time & sched\\_dep\\_time & dep\\_delay & arr\\_time & sched\\_arr\\_time & arr\\_delay & carrier & flight & tailnum & origin & dest & air\\_time & distance & hour & minute & time\\_hour\\\\\n",
       "\\hline\n",
       "\t 2013                & 1                   & 1                   & 517                 & 515                 &  2                  &  830                &  819                &  11                 & UA                  & 1545                & N14228              & EWR                 & IAH                 & 227                 & 1400                & 5                   & 15                  & 2013-01-01 05:00:00\\\\\n",
       "\t 2013                & 1                   & 1                   & 533                 & 529                 &  4                  &  850                &  830                &  20                 & UA                  & 1714                & N24211              & LGA                 & IAH                 & 227                 & 1416                & 5                   & 29                  & 2013-01-01 05:00:00\\\\\n",
       "\t 2013                & 1                   & 1                   & 542                 & 540                 &  2                  &  923                &  850                &  33                 & AA                  & 1141                & N619AA              & JFK                 & MIA                 & 160                 & 1089                & 5                   & 40                  & 2013-01-01 05:00:00\\\\\n",
       "\t 2013                & 1                   & 1                   & 544                 & 545                 & -1                  & 1004                & 1022                & -18                 & B6                  &  725                & N804JB              & JFK                 & BQN                 & 183                 & 1576                & 5                   & 45                  & 2013-01-01 05:00:00\\\\\n",
       "\t 2013                & 1                   & 1                   & 554                 & 600                 & -6                  &  812                &  837                & -25                 & DL                  &  461                & N668DN              & LGA                 & ATL                 & 116                 &  762                & 6                   &  0                  & 2013-01-01 06:00:00\\\\\n",
       "\t 2013                & 1                   & 1                   & 554                 & 558                 & -4                  &  740                &  728                &  12                 & UA                  & 1696                & N39463              & EWR                 & ORD                 & 150                 &  719                & 5                   & 58                  & 2013-01-01 05:00:00\\\\\n",
       "\\end{tabular}\n"
      ],
      "text/markdown": [
       "\n",
       "year | month | day | dep_time | sched_dep_time | dep_delay | arr_time | sched_arr_time | arr_delay | carrier | flight | tailnum | origin | dest | air_time | distance | hour | minute | time_hour | \n",
       "|---|---|---|---|---|---|\n",
       "| 2013                | 1                   | 1                   | 517                 | 515                 |  2                  |  830                |  819                |  11                 | UA                  | 1545                | N14228              | EWR                 | IAH                 | 227                 | 1400                | 5                   | 15                  | 2013-01-01 05:00:00 | \n",
       "| 2013                | 1                   | 1                   | 533                 | 529                 |  4                  |  850                |  830                |  20                 | UA                  | 1714                | N24211              | LGA                 | IAH                 | 227                 | 1416                | 5                   | 29                  | 2013-01-01 05:00:00 | \n",
       "| 2013                | 1                   | 1                   | 542                 | 540                 |  2                  |  923                |  850                |  33                 | AA                  | 1141                | N619AA              | JFK                 | MIA                 | 160                 | 1089                | 5                   | 40                  | 2013-01-01 05:00:00 | \n",
       "| 2013                | 1                   | 1                   | 544                 | 545                 | -1                  | 1004                | 1022                | -18                 | B6                  |  725                | N804JB              | JFK                 | BQN                 | 183                 | 1576                | 5                   | 45                  | 2013-01-01 05:00:00 | \n",
       "| 2013                | 1                   | 1                   | 554                 | 600                 | -6                  |  812                |  837                | -25                 | DL                  |  461                | N668DN              | LGA                 | ATL                 | 116                 |  762                | 6                   |  0                  | 2013-01-01 06:00:00 | \n",
       "| 2013                | 1                   | 1                   | 554                 | 558                 | -4                  |  740                |  728                |  12                 | UA                  | 1696                | N39463              | EWR                 | ORD                 | 150                 |  719                | 5                   | 58                  | 2013-01-01 05:00:00 | \n",
       "\n",
       "\n"
      ],
      "text/plain": [
       "  year month day dep_time sched_dep_time dep_delay arr_time sched_arr_time\n",
       "1 2013 1     1   517      515             2         830      819          \n",
       "2 2013 1     1   533      529             4         850      830          \n",
       "3 2013 1     1   542      540             2         923      850          \n",
       "4 2013 1     1   544      545            -1        1004     1022          \n",
       "5 2013 1     1   554      600            -6         812      837          \n",
       "6 2013 1     1   554      558            -4         740      728          \n",
       "  arr_delay carrier flight tailnum origin dest air_time distance hour minute\n",
       "1  11       UA      1545   N14228  EWR    IAH  227      1400     5    15    \n",
       "2  20       UA      1714   N24211  LGA    IAH  227      1416     5    29    \n",
       "3  33       AA      1141   N619AA  JFK    MIA  160      1089     5    40    \n",
       "4 -18       B6       725   N804JB  JFK    BQN  183      1576     5    45    \n",
       "5 -25       DL       461   N668DN  LGA    ATL  116       762     6     0    \n",
       "6  12       UA      1696   N39463  EWR    ORD  150       719     5    58    \n",
       "  time_hour          \n",
       "1 2013-01-01 05:00:00\n",
       "2 2013-01-01 05:00:00\n",
       "3 2013-01-01 05:00:00\n",
       "4 2013-01-01 05:00:00\n",
       "5 2013-01-01 06:00:00\n",
       "6 2013-01-01 05:00:00"
      ]
     },
     "metadata": {},
     "output_type": "display_data"
    }
   ],
   "source": [
    "head(flights)"
   ]
  },
  {
   "cell_type": "code",
   "execution_count": 10,
   "metadata": {
    "collapsed": false
   },
   "outputs": [
    {
     "data": {
      "text/html": [
       "<table>\n",
       "<thead><tr><th scope=col>year</th><th scope=col>month</th><th scope=col>day</th><th scope=col>dep_time</th><th scope=col>sched_dep_time</th><th scope=col>dep_delay</th><th scope=col>arr_time</th><th scope=col>sched_arr_time</th><th scope=col>arr_delay</th><th scope=col>carrier</th><th scope=col>flight</th><th scope=col>tailnum</th><th scope=col>origin</th><th scope=col>dest</th><th scope=col>air_time</th><th scope=col>distance</th><th scope=col>hour</th><th scope=col>minute</th><th scope=col>time_hour</th></tr></thead>\n",
       "<tbody>\n",
       "\t<tr><td>2013               </td><td>11                 </td><td>3                  </td><td>538                </td><td>545                </td><td>-7                 </td><td>824                </td><td>855                </td><td>-31                </td><td>AA                 </td><td>2243               </td><td>N5DWAA             </td><td>JFK                </td><td>MIA                </td><td>144                </td><td>1089               </td><td>5                  </td><td>45                 </td><td>2013-11-03 05:00:00</td></tr>\n",
       "\t<tr><td>2013               </td><td>11                 </td><td>3                  </td><td>556                </td><td>600                </td><td>-4                 </td><td>900                </td><td>905                </td><td> -5                </td><td>AA                 </td><td>1175               </td><td>N3CSAA             </td><td>LGA                </td><td>MIA                </td><td>148                </td><td>1096               </td><td>6                  </td><td> 0                 </td><td>2013-11-03 06:00:00</td></tr>\n",
       "\t<tr><td>2013               </td><td>11                 </td><td>3                  </td><td>604                </td><td>610                </td><td>-6                 </td><td>844                </td><td>855                </td><td>-11                </td><td>AA                 </td><td>1103               </td><td>N3KDAA             </td><td>LGA                </td><td>DFW                </td><td>192                </td><td>1389               </td><td>6                  </td><td>10                 </td><td>2013-11-03 06:00:00</td></tr>\n",
       "\t<tr><td>2013               </td><td>11                 </td><td>3                  </td><td>624                </td><td>629                </td><td>-5                 </td><td>907                </td><td>929                </td><td>-22                </td><td>AA                 </td><td>1205               </td><td>N3EJAA             </td><td>EWR                </td><td>MIA                </td><td>141                </td><td>1085               </td><td>6                  </td><td>29                 </td><td>2013-11-03 06:00:00</td></tr>\n",
       "\t<tr><td>2013               </td><td>11                 </td><td>3                  </td><td>625                </td><td>630                </td><td>-5                 </td><td>736                </td><td>805                </td><td>-29                </td><td>AA                 </td><td> 303               </td><td>N4WJAA             </td><td>LGA                </td><td>ORD                </td><td>113                </td><td> 733               </td><td>6                  </td><td>30                 </td><td>2013-11-03 06:00:00</td></tr>\n",
       "\t<tr><td>2013               </td><td>11                 </td><td>3                  </td><td>653                </td><td>655                </td><td>-2                 </td><td>925                </td><td>920                </td><td>  5                </td><td>AA                 </td><td>1263               </td><td>N634AA             </td><td>JFK                </td><td>LAS                </td><td>306                </td><td>2248               </td><td>6                  </td><td>55                 </td><td>2013-11-03 06:00:00</td></tr>\n",
       "</tbody>\n",
       "</table>\n"
      ],
      "text/latex": [
       "\\begin{tabular}{r|lllllllllllllllllll}\n",
       " year & month & day & dep\\_time & sched\\_dep\\_time & dep\\_delay & arr\\_time & sched\\_arr\\_time & arr\\_delay & carrier & flight & tailnum & origin & dest & air\\_time & distance & hour & minute & time\\_hour\\\\\n",
       "\\hline\n",
       "\t 2013                & 11                  & 3                   & 538                 & 545                 & -7                  & 824                 & 855                 & -31                 & AA                  & 2243                & N5DWAA              & JFK                 & MIA                 & 144                 & 1089                & 5                   & 45                  & 2013-11-03 05:00:00\\\\\n",
       "\t 2013                & 11                  & 3                   & 556                 & 600                 & -4                  & 900                 & 905                 &  -5                 & AA                  & 1175                & N3CSAA              & LGA                 & MIA                 & 148                 & 1096                & 6                   &  0                  & 2013-11-03 06:00:00\\\\\n",
       "\t 2013                & 11                  & 3                   & 604                 & 610                 & -6                  & 844                 & 855                 & -11                 & AA                  & 1103                & N3KDAA              & LGA                 & DFW                 & 192                 & 1389                & 6                   & 10                  & 2013-11-03 06:00:00\\\\\n",
       "\t 2013                & 11                  & 3                   & 624                 & 629                 & -5                  & 907                 & 929                 & -22                 & AA                  & 1205                & N3EJAA              & EWR                 & MIA                 & 141                 & 1085                & 6                   & 29                  & 2013-11-03 06:00:00\\\\\n",
       "\t 2013                & 11                  & 3                   & 625                 & 630                 & -5                  & 736                 & 805                 & -29                 & AA                  &  303                & N4WJAA              & LGA                 & ORD                 & 113                 &  733                & 6                   & 30                  & 2013-11-03 06:00:00\\\\\n",
       "\t 2013                & 11                  & 3                   & 653                 & 655                 & -2                  & 925                 & 920                 &   5                 & AA                  & 1263                & N634AA              & JFK                 & LAS                 & 306                 & 2248                & 6                   & 55                  & 2013-11-03 06:00:00\\\\\n",
       "\\end{tabular}\n"
      ],
      "text/markdown": [
       "\n",
       "year | month | day | dep_time | sched_dep_time | dep_delay | arr_time | sched_arr_time | arr_delay | carrier | flight | tailnum | origin | dest | air_time | distance | hour | minute | time_hour | \n",
       "|---|---|---|---|---|---|\n",
       "| 2013                | 11                  | 3                   | 538                 | 545                 | -7                  | 824                 | 855                 | -31                 | AA                  | 2243                | N5DWAA              | JFK                 | MIA                 | 144                 | 1089                | 5                   | 45                  | 2013-11-03 05:00:00 | \n",
       "| 2013                | 11                  | 3                   | 556                 | 600                 | -4                  | 900                 | 905                 |  -5                 | AA                  | 1175                | N3CSAA              | LGA                 | MIA                 | 148                 | 1096                | 6                   |  0                  | 2013-11-03 06:00:00 | \n",
       "| 2013                | 11                  | 3                   | 604                 | 610                 | -6                  | 844                 | 855                 | -11                 | AA                  | 1103                | N3KDAA              | LGA                 | DFW                 | 192                 | 1389                | 6                   | 10                  | 2013-11-03 06:00:00 | \n",
       "| 2013                | 11                  | 3                   | 624                 | 629                 | -5                  | 907                 | 929                 | -22                 | AA                  | 1205                | N3EJAA              | EWR                 | MIA                 | 141                 | 1085                | 6                   | 29                  | 2013-11-03 06:00:00 | \n",
       "| 2013                | 11                  | 3                   | 625                 | 630                 | -5                  | 736                 | 805                 | -29                 | AA                  |  303                | N4WJAA              | LGA                 | ORD                 | 113                 |  733                | 6                   | 30                  | 2013-11-03 06:00:00 | \n",
       "| 2013                | 11                  | 3                   | 653                 | 655                 | -2                  | 925                 | 920                 |   5                 | AA                  | 1263                | N634AA              | JFK                 | LAS                 | 306                 | 2248                | 6                   | 55                  | 2013-11-03 06:00:00 | \n",
       "\n",
       "\n"
      ],
      "text/plain": [
       "  year month day dep_time sched_dep_time dep_delay arr_time sched_arr_time\n",
       "1 2013 11    3   538      545            -7        824      855           \n",
       "2 2013 11    3   556      600            -4        900      905           \n",
       "3 2013 11    3   604      610            -6        844      855           \n",
       "4 2013 11    3   624      629            -5        907      929           \n",
       "5 2013 11    3   625      630            -5        736      805           \n",
       "6 2013 11    3   653      655            -2        925      920           \n",
       "  arr_delay carrier flight tailnum origin dest air_time distance hour minute\n",
       "1 -31       AA      2243   N5DWAA  JFK    MIA  144      1089     5    45    \n",
       "2  -5       AA      1175   N3CSAA  LGA    MIA  148      1096     6     0    \n",
       "3 -11       AA      1103   N3KDAA  LGA    DFW  192      1389     6    10    \n",
       "4 -22       AA      1205   N3EJAA  EWR    MIA  141      1085     6    29    \n",
       "5 -29       AA       303   N4WJAA  LGA    ORD  113       733     6    30    \n",
       "6   5       AA      1263   N634AA  JFK    LAS  306      2248     6    55    \n",
       "  time_hour          \n",
       "1 2013-11-03 05:00:00\n",
       "2 2013-11-03 06:00:00\n",
       "3 2013-11-03 06:00:00\n",
       "4 2013-11-03 06:00:00\n",
       "5 2013-11-03 06:00:00\n",
       "6 2013-11-03 06:00:00"
      ]
     },
     "metadata": {},
     "output_type": "display_data"
    }
   ],
   "source": [
    "head(filter(flights, month == 11, day==3, carrier == \"AA\"))"
   ]
  },
  {
   "cell_type": "code",
   "execution_count": 11,
   "metadata": {
    "collapsed": false
   },
   "outputs": [
    {
     "data": {
      "text/html": [
       "<table>\n",
       "<thead><tr><th scope=col>year</th><th scope=col>month</th><th scope=col>day</th><th scope=col>dep_time</th><th scope=col>sched_dep_time</th><th scope=col>dep_delay</th><th scope=col>arr_time</th><th scope=col>sched_arr_time</th><th scope=col>arr_delay</th><th scope=col>carrier</th><th scope=col>flight</th><th scope=col>tailnum</th><th scope=col>origin</th><th scope=col>dest</th><th scope=col>air_time</th><th scope=col>distance</th><th scope=col>hour</th><th scope=col>minute</th><th scope=col>time_hour</th></tr></thead>\n",
       "<tbody>\n",
       "\t<tr><td>2013               </td><td>1                  </td><td>1                  </td><td>517                </td><td>515                </td><td> 2                 </td><td> 830               </td><td> 819               </td><td> 11                </td><td>UA                 </td><td>1545               </td><td>N14228             </td><td>EWR                </td><td>IAH                </td><td>227                </td><td>1400               </td><td>5                  </td><td>15                 </td><td>2013-01-01 05:00:00</td></tr>\n",
       "\t<tr><td>2013               </td><td>1                  </td><td>1                  </td><td>533                </td><td>529                </td><td> 4                 </td><td> 850               </td><td> 830               </td><td> 20                </td><td>UA                 </td><td>1714               </td><td>N24211             </td><td>LGA                </td><td>IAH                </td><td>227                </td><td>1416               </td><td>5                  </td><td>29                 </td><td>2013-01-01 05:00:00</td></tr>\n",
       "\t<tr><td>2013               </td><td>1                  </td><td>1                  </td><td>542                </td><td>540                </td><td> 2                 </td><td> 923               </td><td> 850               </td><td> 33                </td><td>AA                 </td><td>1141               </td><td>N619AA             </td><td>JFK                </td><td>MIA                </td><td>160                </td><td>1089               </td><td>5                  </td><td>40                 </td><td>2013-01-01 05:00:00</td></tr>\n",
       "\t<tr><td>2013               </td><td>1                  </td><td>1                  </td><td>544                </td><td>545                </td><td>-1                 </td><td>1004               </td><td>1022               </td><td>-18                </td><td>B6                 </td><td> 725               </td><td>N804JB             </td><td>JFK                </td><td>BQN                </td><td>183                </td><td>1576               </td><td>5                  </td><td>45                 </td><td>2013-01-01 05:00:00</td></tr>\n",
       "\t<tr><td>2013               </td><td>1                  </td><td>1                  </td><td>554                </td><td>600                </td><td>-6                 </td><td> 812               </td><td> 837               </td><td>-25                </td><td>DL                 </td><td> 461               </td><td>N668DN             </td><td>LGA                </td><td>ATL                </td><td>116                </td><td> 762               </td><td>6                  </td><td> 0                 </td><td>2013-01-01 06:00:00</td></tr>\n",
       "\t<tr><td>2013               </td><td>1                  </td><td>1                  </td><td>554                </td><td>558                </td><td>-4                 </td><td> 740               </td><td> 728               </td><td> 12                </td><td>UA                 </td><td>1696               </td><td>N39463             </td><td>EWR                </td><td>ORD                </td><td>150                </td><td> 719               </td><td>5                  </td><td>58                 </td><td>2013-01-01 05:00:00</td></tr>\n",
       "\t<tr><td>2013               </td><td>1                  </td><td>1                  </td><td>555                </td><td>600                </td><td>-5                 </td><td> 913               </td><td> 854               </td><td> 19                </td><td>B6                 </td><td> 507               </td><td>N516JB             </td><td>EWR                </td><td>FLL                </td><td>158                </td><td>1065               </td><td>6                  </td><td> 0                 </td><td>2013-01-01 06:00:00</td></tr>\n",
       "\t<tr><td>2013               </td><td>1                  </td><td>1                  </td><td>557                </td><td>600                </td><td>-3                 </td><td> 709               </td><td> 723               </td><td>-14                </td><td>EV                 </td><td>5708               </td><td>N829AS             </td><td>LGA                </td><td>IAD                </td><td> 53                </td><td> 229               </td><td>6                  </td><td> 0                 </td><td>2013-01-01 06:00:00</td></tr>\n",
       "\t<tr><td>2013               </td><td>1                  </td><td>1                  </td><td>557                </td><td>600                </td><td>-3                 </td><td> 838               </td><td> 846               </td><td> -8                </td><td>B6                 </td><td>  79               </td><td>N593JB             </td><td>JFK                </td><td>MCO                </td><td>140                </td><td> 944               </td><td>6                  </td><td> 0                 </td><td>2013-01-01 06:00:00</td></tr>\n",
       "\t<tr><td>2013               </td><td>1                  </td><td>1                  </td><td>558                </td><td>600                </td><td>-2                 </td><td> 753               </td><td> 745               </td><td>  8                </td><td>AA                 </td><td> 301               </td><td>N3ALAA             </td><td>LGA                </td><td>ORD                </td><td>138                </td><td> 733               </td><td>6                  </td><td> 0                 </td><td>2013-01-01 06:00:00</td></tr>\n",
       "</tbody>\n",
       "</table>\n"
      ],
      "text/latex": [
       "\\begin{tabular}{r|lllllllllllllllllll}\n",
       " year & month & day & dep\\_time & sched\\_dep\\_time & dep\\_delay & arr\\_time & sched\\_arr\\_time & arr\\_delay & carrier & flight & tailnum & origin & dest & air\\_time & distance & hour & minute & time\\_hour\\\\\n",
       "\\hline\n",
       "\t 2013                & 1                   & 1                   & 517                 & 515                 &  2                  &  830                &  819                &  11                 & UA                  & 1545                & N14228              & EWR                 & IAH                 & 227                 & 1400                & 5                   & 15                  & 2013-01-01 05:00:00\\\\\n",
       "\t 2013                & 1                   & 1                   & 533                 & 529                 &  4                  &  850                &  830                &  20                 & UA                  & 1714                & N24211              & LGA                 & IAH                 & 227                 & 1416                & 5                   & 29                  & 2013-01-01 05:00:00\\\\\n",
       "\t 2013                & 1                   & 1                   & 542                 & 540                 &  2                  &  923                &  850                &  33                 & AA                  & 1141                & N619AA              & JFK                 & MIA                 & 160                 & 1089                & 5                   & 40                  & 2013-01-01 05:00:00\\\\\n",
       "\t 2013                & 1                   & 1                   & 544                 & 545                 & -1                  & 1004                & 1022                & -18                 & B6                  &  725                & N804JB              & JFK                 & BQN                 & 183                 & 1576                & 5                   & 45                  & 2013-01-01 05:00:00\\\\\n",
       "\t 2013                & 1                   & 1                   & 554                 & 600                 & -6                  &  812                &  837                & -25                 & DL                  &  461                & N668DN              & LGA                 & ATL                 & 116                 &  762                & 6                   &  0                  & 2013-01-01 06:00:00\\\\\n",
       "\t 2013                & 1                   & 1                   & 554                 & 558                 & -4                  &  740                &  728                &  12                 & UA                  & 1696                & N39463              & EWR                 & ORD                 & 150                 &  719                & 5                   & 58                  & 2013-01-01 05:00:00\\\\\n",
       "\t 2013                & 1                   & 1                   & 555                 & 600                 & -5                  &  913                &  854                &  19                 & B6                  &  507                & N516JB              & EWR                 & FLL                 & 158                 & 1065                & 6                   &  0                  & 2013-01-01 06:00:00\\\\\n",
       "\t 2013                & 1                   & 1                   & 557                 & 600                 & -3                  &  709                &  723                & -14                 & EV                  & 5708                & N829AS              & LGA                 & IAD                 &  53                 &  229                & 6                   &  0                  & 2013-01-01 06:00:00\\\\\n",
       "\t 2013                & 1                   & 1                   & 557                 & 600                 & -3                  &  838                &  846                &  -8                 & B6                  &   79                & N593JB              & JFK                 & MCO                 & 140                 &  944                & 6                   &  0                  & 2013-01-01 06:00:00\\\\\n",
       "\t 2013                & 1                   & 1                   & 558                 & 600                 & -2                  &  753                &  745                &   8                 & AA                  &  301                & N3ALAA              & LGA                 & ORD                 & 138                 &  733                & 6                   &  0                  & 2013-01-01 06:00:00\\\\\n",
       "\\end{tabular}\n"
      ],
      "text/markdown": [
       "\n",
       "year | month | day | dep_time | sched_dep_time | dep_delay | arr_time | sched_arr_time | arr_delay | carrier | flight | tailnum | origin | dest | air_time | distance | hour | minute | time_hour | \n",
       "|---|---|---|---|---|---|---|---|---|---|\n",
       "| 2013                | 1                   | 1                   | 517                 | 515                 |  2                  |  830                |  819                |  11                 | UA                  | 1545                | N14228              | EWR                 | IAH                 | 227                 | 1400                | 5                   | 15                  | 2013-01-01 05:00:00 | \n",
       "| 2013                | 1                   | 1                   | 533                 | 529                 |  4                  |  850                |  830                |  20                 | UA                  | 1714                | N24211              | LGA                 | IAH                 | 227                 | 1416                | 5                   | 29                  | 2013-01-01 05:00:00 | \n",
       "| 2013                | 1                   | 1                   | 542                 | 540                 |  2                  |  923                |  850                |  33                 | AA                  | 1141                | N619AA              | JFK                 | MIA                 | 160                 | 1089                | 5                   | 40                  | 2013-01-01 05:00:00 | \n",
       "| 2013                | 1                   | 1                   | 544                 | 545                 | -1                  | 1004                | 1022                | -18                 | B6                  |  725                | N804JB              | JFK                 | BQN                 | 183                 | 1576                | 5                   | 45                  | 2013-01-01 05:00:00 | \n",
       "| 2013                | 1                   | 1                   | 554                 | 600                 | -6                  |  812                |  837                | -25                 | DL                  |  461                | N668DN              | LGA                 | ATL                 | 116                 |  762                | 6                   |  0                  | 2013-01-01 06:00:00 | \n",
       "| 2013                | 1                   | 1                   | 554                 | 558                 | -4                  |  740                |  728                |  12                 | UA                  | 1696                | N39463              | EWR                 | ORD                 | 150                 |  719                | 5                   | 58                  | 2013-01-01 05:00:00 | \n",
       "| 2013                | 1                   | 1                   | 555                 | 600                 | -5                  |  913                |  854                |  19                 | B6                  |  507                | N516JB              | EWR                 | FLL                 | 158                 | 1065                | 6                   |  0                  | 2013-01-01 06:00:00 | \n",
       "| 2013                | 1                   | 1                   | 557                 | 600                 | -3                  |  709                |  723                | -14                 | EV                  | 5708                | N829AS              | LGA                 | IAD                 |  53                 |  229                | 6                   |  0                  | 2013-01-01 06:00:00 | \n",
       "| 2013                | 1                   | 1                   | 557                 | 600                 | -3                  |  838                |  846                |  -8                 | B6                  |   79                | N593JB              | JFK                 | MCO                 | 140                 |  944                | 6                   |  0                  | 2013-01-01 06:00:00 | \n",
       "| 2013                | 1                   | 1                   | 558                 | 600                 | -2                  |  753                |  745                |   8                 | AA                  |  301                | N3ALAA              | LGA                 | ORD                 | 138                 |  733                | 6                   |  0                  | 2013-01-01 06:00:00 | \n",
       "\n",
       "\n"
      ],
      "text/plain": [
       "   year month day dep_time sched_dep_time dep_delay arr_time sched_arr_time\n",
       "1  2013 1     1   517      515             2         830      819          \n",
       "2  2013 1     1   533      529             4         850      830          \n",
       "3  2013 1     1   542      540             2         923      850          \n",
       "4  2013 1     1   544      545            -1        1004     1022          \n",
       "5  2013 1     1   554      600            -6         812      837          \n",
       "6  2013 1     1   554      558            -4         740      728          \n",
       "7  2013 1     1   555      600            -5         913      854          \n",
       "8  2013 1     1   557      600            -3         709      723          \n",
       "9  2013 1     1   557      600            -3         838      846          \n",
       "10 2013 1     1   558      600            -2         753      745          \n",
       "   arr_delay carrier flight tailnum origin dest air_time distance hour minute\n",
       "1   11       UA      1545   N14228  EWR    IAH  227      1400     5    15    \n",
       "2   20       UA      1714   N24211  LGA    IAH  227      1416     5    29    \n",
       "3   33       AA      1141   N619AA  JFK    MIA  160      1089     5    40    \n",
       "4  -18       B6       725   N804JB  JFK    BQN  183      1576     5    45    \n",
       "5  -25       DL       461   N668DN  LGA    ATL  116       762     6     0    \n",
       "6   12       UA      1696   N39463  EWR    ORD  150       719     5    58    \n",
       "7   19       B6       507   N516JB  EWR    FLL  158      1065     6     0    \n",
       "8  -14       EV      5708   N829AS  LGA    IAD   53       229     6     0    \n",
       "9   -8       B6        79   N593JB  JFK    MCO  140       944     6     0    \n",
       "10   8       AA       301   N3ALAA  LGA    ORD  138       733     6     0    \n",
       "   time_hour          \n",
       "1  2013-01-01 05:00:00\n",
       "2  2013-01-01 05:00:00\n",
       "3  2013-01-01 05:00:00\n",
       "4  2013-01-01 05:00:00\n",
       "5  2013-01-01 06:00:00\n",
       "6  2013-01-01 05:00:00\n",
       "7  2013-01-01 06:00:00\n",
       "8  2013-01-01 06:00:00\n",
       "9  2013-01-01 06:00:00\n",
       "10 2013-01-01 06:00:00"
      ]
     },
     "metadata": {},
     "output_type": "display_data"
    }
   ],
   "source": [
    "slice(flights,1:10)"
   ]
  },
  {
   "cell_type": "code",
   "execution_count": 13,
   "metadata": {
    "collapsed": false
   },
   "outputs": [
    {
     "data": {
      "text/html": [
       "<table>\n",
       "<thead><tr><th scope=col>year</th><th scope=col>month</th><th scope=col>day</th><th scope=col>dep_time</th><th scope=col>sched_dep_time</th><th scope=col>dep_delay</th><th scope=col>arr_time</th><th scope=col>sched_arr_time</th><th scope=col>arr_delay</th><th scope=col>carrier</th><th scope=col>flight</th><th scope=col>tailnum</th><th scope=col>origin</th><th scope=col>dest</th><th scope=col>air_time</th><th scope=col>distance</th><th scope=col>hour</th><th scope=col>minute</th><th scope=col>time_hour</th></tr></thead>\n",
       "<tbody>\n",
       "\t<tr><td>2013               </td><td>1                  </td><td>1                  </td><td>1929               </td><td>1920               </td><td>  9                </td><td> 3                 </td><td>   7               </td><td> -4                </td><td>UA                 </td><td>1071               </td><td>N27205             </td><td>EWR                </td><td>BQN                </td><td>192                </td><td>1585               </td><td>19                 </td><td>20                 </td><td>2013-01-01 19:00:00</td></tr>\n",
       "\t<tr><td>2013               </td><td>1                  </td><td>1                  </td><td>2121               </td><td>2040               </td><td> 41                </td><td> 6                 </td><td>2323               </td><td> 43                </td><td>B6                 </td><td> 227               </td><td>N307JB             </td><td>EWR                </td><td>MCO                </td><td>143                </td><td> 937               </td><td>20                 </td><td>40                 </td><td>2013-01-01 20:00:00</td></tr>\n",
       "\t<tr><td>2013               </td><td>1                  </td><td>1                  </td><td>2058               </td><td>2100               </td><td> -2                </td><td> 8                 </td><td>2359               </td><td>  9                </td><td>UA                 </td><td>1241               </td><td>N27724             </td><td>EWR                </td><td>TPA                </td><td>159                </td><td> 997               </td><td>21                 </td><td> 0                 </td><td>2013-01-01 21:00:00</td></tr>\n",
       "\t<tr><td>2013               </td><td>1                  </td><td>1                  </td><td>2120               </td><td>2130               </td><td>-10                </td><td>16                 </td><td>  18               </td><td> -2                </td><td>B6                 </td><td> 383               </td><td>N603JB             </td><td>LGA                </td><td>FLL                </td><td>160                </td><td>1076               </td><td>21                 </td><td>30                 </td><td>2013-01-01 21:00:00</td></tr>\n",
       "\t<tr><td>2013               </td><td>1                  </td><td>1                  </td><td>2134               </td><td>2045               </td><td> 49                </td><td>20                 </td><td>2352               </td><td> 28                </td><td>UA                 </td><td>1106               </td><td>N27733             </td><td>EWR                </td><td>FLL                </td><td>152                </td><td>1065               </td><td>20                 </td><td>45                 </td><td>2013-01-01 20:00:00</td></tr>\n",
       "\t<tr><td>2013               </td><td>1                  </td><td>1                  </td><td>2312               </td><td>2000               </td><td>192                </td><td>21                 </td><td>2110               </td><td>191                </td><td>EV                 </td><td>4312               </td><td>N13958             </td><td>EWR                </td><td>DCA                </td><td> 44                </td><td> 199               </td><td>20                 </td><td> 0                 </td><td>2013-01-01 20:00:00</td></tr>\n",
       "</tbody>\n",
       "</table>\n"
      ],
      "text/latex": [
       "\\begin{tabular}{r|lllllllllllllllllll}\n",
       " year & month & day & dep\\_time & sched\\_dep\\_time & dep\\_delay & arr\\_time & sched\\_arr\\_time & arr\\_delay & carrier & flight & tailnum & origin & dest & air\\_time & distance & hour & minute & time\\_hour\\\\\n",
       "\\hline\n",
       "\t 2013                & 1                   & 1                   & 1929                & 1920                &   9                 &  3                  &    7                &  -4                 & UA                  & 1071                & N27205              & EWR                 & BQN                 & 192                 & 1585                & 19                  & 20                  & 2013-01-01 19:00:00\\\\\n",
       "\t 2013                & 1                   & 1                   & 2121                & 2040                &  41                 &  6                  & 2323                &  43                 & B6                  &  227                & N307JB              & EWR                 & MCO                 & 143                 &  937                & 20                  & 40                  & 2013-01-01 20:00:00\\\\\n",
       "\t 2013                & 1                   & 1                   & 2058                & 2100                &  -2                 &  8                  & 2359                &   9                 & UA                  & 1241                & N27724              & EWR                 & TPA                 & 159                 &  997                & 21                  &  0                  & 2013-01-01 21:00:00\\\\\n",
       "\t 2013                & 1                   & 1                   & 2120                & 2130                & -10                 & 16                  &   18                &  -2                 & B6                  &  383                & N603JB              & LGA                 & FLL                 & 160                 & 1076                & 21                  & 30                  & 2013-01-01 21:00:00\\\\\n",
       "\t 2013                & 1                   & 1                   & 2134                & 2045                &  49                 & 20                  & 2352                &  28                 & UA                  & 1106                & N27733              & EWR                 & FLL                 & 152                 & 1065                & 20                  & 45                  & 2013-01-01 20:00:00\\\\\n",
       "\t 2013                & 1                   & 1                   & 2312                & 2000                & 192                 & 21                  & 2110                & 191                 & EV                  & 4312                & N13958              & EWR                 & DCA                 &  44                 &  199                & 20                  &  0                  & 2013-01-01 20:00:00\\\\\n",
       "\\end{tabular}\n"
      ],
      "text/markdown": [
       "\n",
       "year | month | day | dep_time | sched_dep_time | dep_delay | arr_time | sched_arr_time | arr_delay | carrier | flight | tailnum | origin | dest | air_time | distance | hour | minute | time_hour | \n",
       "|---|---|---|---|---|---|\n",
       "| 2013                | 1                   | 1                   | 1929                | 1920                |   9                 |  3                  |    7                |  -4                 | UA                  | 1071                | N27205              | EWR                 | BQN                 | 192                 | 1585                | 19                  | 20                  | 2013-01-01 19:00:00 | \n",
       "| 2013                | 1                   | 1                   | 2121                | 2040                |  41                 |  6                  | 2323                |  43                 | B6                  |  227                | N307JB              | EWR                 | MCO                 | 143                 |  937                | 20                  | 40                  | 2013-01-01 20:00:00 | \n",
       "| 2013                | 1                   | 1                   | 2058                | 2100                |  -2                 |  8                  | 2359                |   9                 | UA                  | 1241                | N27724              | EWR                 | TPA                 | 159                 |  997                | 21                  |  0                  | 2013-01-01 21:00:00 | \n",
       "| 2013                | 1                   | 1                   | 2120                | 2130                | -10                 | 16                  |   18                |  -2                 | B6                  |  383                | N603JB              | LGA                 | FLL                 | 160                 | 1076                | 21                  | 30                  | 2013-01-01 21:00:00 | \n",
       "| 2013                | 1                   | 1                   | 2134                | 2045                |  49                 | 20                  | 2352                |  28                 | UA                  | 1106                | N27733              | EWR                 | FLL                 | 152                 | 1065                | 20                  | 45                  | 2013-01-01 20:00:00 | \n",
       "| 2013                | 1                   | 1                   | 2312                | 2000                | 192                 | 21                  | 2110                | 191                 | EV                  | 4312                | N13958              | EWR                 | DCA                 |  44                 |  199                | 20                  |  0                  | 2013-01-01 20:00:00 | \n",
       "\n",
       "\n"
      ],
      "text/plain": [
       "  year month day dep_time sched_dep_time dep_delay arr_time sched_arr_time\n",
       "1 2013 1     1   1929     1920             9        3          7          \n",
       "2 2013 1     1   2121     2040            41        6       2323          \n",
       "3 2013 1     1   2058     2100            -2        8       2359          \n",
       "4 2013 1     1   2120     2130           -10       16         18          \n",
       "5 2013 1     1   2134     2045            49       20       2352          \n",
       "6 2013 1     1   2312     2000           192       21       2110          \n",
       "  arr_delay carrier flight tailnum origin dest air_time distance hour minute\n",
       "1  -4       UA      1071   N27205  EWR    BQN  192      1585     19   20    \n",
       "2  43       B6       227   N307JB  EWR    MCO  143       937     20   40    \n",
       "3   9       UA      1241   N27724  EWR    TPA  159       997     21    0    \n",
       "4  -2       B6       383   N603JB  LGA    FLL  160      1076     21   30    \n",
       "5  28       UA      1106   N27733  EWR    FLL  152      1065     20   45    \n",
       "6 191       EV      4312   N13958  EWR    DCA   44       199     20    0    \n",
       "  time_hour          \n",
       "1 2013-01-01 19:00:00\n",
       "2 2013-01-01 20:00:00\n",
       "3 2013-01-01 21:00:00\n",
       "4 2013-01-01 21:00:00\n",
       "5 2013-01-01 20:00:00\n",
       "6 2013-01-01 20:00:00"
      ]
     },
     "metadata": {},
     "output_type": "display_data"
    }
   ],
   "source": [
    "head(arrange(flights, year, month, day ,arr_time))"
   ]
  },
  {
   "cell_type": "code",
   "execution_count": 14,
   "metadata": {
    "collapsed": false
   },
   "outputs": [
    {
     "data": {
      "text/html": [
       "<table>\n",
       "<thead><tr><th scope=col>year</th><th scope=col>month</th><th scope=col>day</th><th scope=col>dep_time</th><th scope=col>sched_dep_time</th><th scope=col>dep_delay</th><th scope=col>arr_time</th><th scope=col>sched_arr_time</th><th scope=col>arr_delay</th><th scope=col>carrier</th><th scope=col>flight</th><th scope=col>tailnum</th><th scope=col>origin</th><th scope=col>dest</th><th scope=col>air_time</th><th scope=col>distance</th><th scope=col>hour</th><th scope=col>minute</th><th scope=col>time_hour</th></tr></thead>\n",
       "<tbody>\n",
       "\t<tr><td>2013               </td><td>1                  </td><td>1                  </td><td>2209               </td><td>2155               </td><td> 14                </td><td>2400               </td><td>2337               </td><td> 23                </td><td>B6                 </td><td>1109               </td><td>N216JB             </td><td>JFK                </td><td>RDU                </td><td> 86                </td><td> 427               </td><td>21                 </td><td>55                 </td><td>2013-01-01 21:00:00</td></tr>\n",
       "\t<tr><td>2013               </td><td>1                  </td><td>1                  </td><td>1952               </td><td>1930               </td><td> 22                </td><td>2358               </td><td>2207               </td><td> NA                </td><td>EV                 </td><td>4333               </td><td>N11194             </td><td>EWR                </td><td>TUL                </td><td> NA                </td><td>1215               </td><td>19                 </td><td>30                 </td><td>2013-01-01 19:00:00</td></tr>\n",
       "\t<tr><td>2013               </td><td>1                  </td><td>1                  </td><td>2025               </td><td>2028               </td><td> -3                </td><td>2358               </td><td>2351               </td><td>  7                </td><td>UA                 </td><td>1615               </td><td>N76516             </td><td>EWR                </td><td>AUS                </td><td>248                </td><td>1504               </td><td>20                 </td><td>28                 </td><td>2013-01-01 20:00:00</td></tr>\n",
       "\t<tr><td>2013               </td><td>1                  </td><td>1                  </td><td>2119               </td><td>1930               </td><td>109                </td><td>2358               </td><td>2136               </td><td>142                </td><td>EV                 </td><td>4543               </td><td>N13123             </td><td>EWR                </td><td>DSM                </td><td>200                </td><td>1017               </td><td>19                 </td><td>30                 </td><td>2013-01-01 19:00:00</td></tr>\n",
       "\t<tr><td>2013               </td><td>1                  </td><td>1                  </td><td>2052               </td><td>2045               </td><td>  7                </td><td>2357               </td><td>2359               </td><td> -2                </td><td>B6                 </td><td> 147               </td><td>N535JB             </td><td>JFK                </td><td>RSW                </td><td>163                </td><td>1074               </td><td>20                 </td><td>45                 </td><td>2013-01-01 20:00:00</td></tr>\n",
       "\t<tr><td>2013               </td><td>1                  </td><td>1                  </td><td>2030               </td><td>2035               </td><td> -5                </td><td>2354               </td><td>2342               </td><td> 12                </td><td>B6                 </td><td> 629               </td><td>N192JB             </td><td>JFK                </td><td>HOU                </td><td>245                </td><td>1428               </td><td>20                 </td><td>35                 </td><td>2013-01-01 20:00:00</td></tr>\n",
       "</tbody>\n",
       "</table>\n"
      ],
      "text/latex": [
       "\\begin{tabular}{r|lllllllllllllllllll}\n",
       " year & month & day & dep\\_time & sched\\_dep\\_time & dep\\_delay & arr\\_time & sched\\_arr\\_time & arr\\_delay & carrier & flight & tailnum & origin & dest & air\\_time & distance & hour & minute & time\\_hour\\\\\n",
       "\\hline\n",
       "\t 2013                & 1                   & 1                   & 2209                & 2155                &  14                 & 2400                & 2337                &  23                 & B6                  & 1109                & N216JB              & JFK                 & RDU                 &  86                 &  427                & 21                  & 55                  & 2013-01-01 21:00:00\\\\\n",
       "\t 2013                & 1                   & 1                   & 1952                & 1930                &  22                 & 2358                & 2207                &  NA                 & EV                  & 4333                & N11194              & EWR                 & TUL                 &  NA                 & 1215                & 19                  & 30                  & 2013-01-01 19:00:00\\\\\n",
       "\t 2013                & 1                   & 1                   & 2025                & 2028                &  -3                 & 2358                & 2351                &   7                 & UA                  & 1615                & N76516              & EWR                 & AUS                 & 248                 & 1504                & 20                  & 28                  & 2013-01-01 20:00:00\\\\\n",
       "\t 2013                & 1                   & 1                   & 2119                & 1930                & 109                 & 2358                & 2136                & 142                 & EV                  & 4543                & N13123              & EWR                 & DSM                 & 200                 & 1017                & 19                  & 30                  & 2013-01-01 19:00:00\\\\\n",
       "\t 2013                & 1                   & 1                   & 2052                & 2045                &   7                 & 2357                & 2359                &  -2                 & B6                  &  147                & N535JB              & JFK                 & RSW                 & 163                 & 1074                & 20                  & 45                  & 2013-01-01 20:00:00\\\\\n",
       "\t 2013                & 1                   & 1                   & 2030                & 2035                &  -5                 & 2354                & 2342                &  12                 & B6                  &  629                & N192JB              & JFK                 & HOU                 & 245                 & 1428                & 20                  & 35                  & 2013-01-01 20:00:00\\\\\n",
       "\\end{tabular}\n"
      ],
      "text/markdown": [
       "\n",
       "year | month | day | dep_time | sched_dep_time | dep_delay | arr_time | sched_arr_time | arr_delay | carrier | flight | tailnum | origin | dest | air_time | distance | hour | minute | time_hour | \n",
       "|---|---|---|---|---|---|\n",
       "| 2013                | 1                   | 1                   | 2209                | 2155                |  14                 | 2400                | 2337                |  23                 | B6                  | 1109                | N216JB              | JFK                 | RDU                 |  86                 |  427                | 21                  | 55                  | 2013-01-01 21:00:00 | \n",
       "| 2013                | 1                   | 1                   | 1952                | 1930                |  22                 | 2358                | 2207                |  NA                 | EV                  | 4333                | N11194              | EWR                 | TUL                 |  NA                 | 1215                | 19                  | 30                  | 2013-01-01 19:00:00 | \n",
       "| 2013                | 1                   | 1                   | 2025                | 2028                |  -3                 | 2358                | 2351                |   7                 | UA                  | 1615                | N76516              | EWR                 | AUS                 | 248                 | 1504                | 20                  | 28                  | 2013-01-01 20:00:00 | \n",
       "| 2013                | 1                   | 1                   | 2119                | 1930                | 109                 | 2358                | 2136                | 142                 | EV                  | 4543                | N13123              | EWR                 | DSM                 | 200                 | 1017                | 19                  | 30                  | 2013-01-01 19:00:00 | \n",
       "| 2013                | 1                   | 1                   | 2052                | 2045                |   7                 | 2357                | 2359                |  -2                 | B6                  |  147                | N535JB              | JFK                 | RSW                 | 163                 | 1074                | 20                  | 45                  | 2013-01-01 20:00:00 | \n",
       "| 2013                | 1                   | 1                   | 2030                | 2035                |  -5                 | 2354                | 2342                |  12                 | B6                  |  629                | N192JB              | JFK                 | HOU                 | 245                 | 1428                | 20                  | 35                  | 2013-01-01 20:00:00 | \n",
       "\n",
       "\n"
      ],
      "text/plain": [
       "  year month day dep_time sched_dep_time dep_delay arr_time sched_arr_time\n",
       "1 2013 1     1   2209     2155            14       2400     2337          \n",
       "2 2013 1     1   1952     1930            22       2358     2207          \n",
       "3 2013 1     1   2025     2028            -3       2358     2351          \n",
       "4 2013 1     1   2119     1930           109       2358     2136          \n",
       "5 2013 1     1   2052     2045             7       2357     2359          \n",
       "6 2013 1     1   2030     2035            -5       2354     2342          \n",
       "  arr_delay carrier flight tailnum origin dest air_time distance hour minute\n",
       "1  23       B6      1109   N216JB  JFK    RDU   86       427     21   55    \n",
       "2  NA       EV      4333   N11194  EWR    TUL   NA      1215     19   30    \n",
       "3   7       UA      1615   N76516  EWR    AUS  248      1504     20   28    \n",
       "4 142       EV      4543   N13123  EWR    DSM  200      1017     19   30    \n",
       "5  -2       B6       147   N535JB  JFK    RSW  163      1074     20   45    \n",
       "6  12       B6       629   N192JB  JFK    HOU  245      1428     20   35    \n",
       "  time_hour          \n",
       "1 2013-01-01 21:00:00\n",
       "2 2013-01-01 19:00:00\n",
       "3 2013-01-01 20:00:00\n",
       "4 2013-01-01 19:00:00\n",
       "5 2013-01-01 20:00:00\n",
       "6 2013-01-01 20:00:00"
      ]
     },
     "metadata": {},
     "output_type": "display_data"
    }
   ],
   "source": [
    "head(arrange(flights, year, month, day ,desc(arr_time)))"
   ]
  },
  {
   "cell_type": "code",
   "execution_count": 15,
   "metadata": {
    "collapsed": false
   },
   "outputs": [
    {
     "data": {
      "text/html": [
       "<table>\n",
       "<thead><tr><th scope=col>carrier</th></tr></thead>\n",
       "<tbody>\n",
       "\t<tr><td>UA</td></tr>\n",
       "\t<tr><td>UA</td></tr>\n",
       "\t<tr><td>AA</td></tr>\n",
       "\t<tr><td>B6</td></tr>\n",
       "\t<tr><td>DL</td></tr>\n",
       "\t<tr><td>UA</td></tr>\n",
       "</tbody>\n",
       "</table>\n"
      ],
      "text/latex": [
       "\\begin{tabular}{r|l}\n",
       " carrier\\\\\n",
       "\\hline\n",
       "\t UA\\\\\n",
       "\t UA\\\\\n",
       "\t AA\\\\\n",
       "\t B6\\\\\n",
       "\t DL\\\\\n",
       "\t UA\\\\\n",
       "\\end{tabular}\n"
      ],
      "text/markdown": [
       "\n",
       "carrier | \n",
       "|---|---|---|---|---|---|\n",
       "| UA | \n",
       "| UA | \n",
       "| AA | \n",
       "| B6 | \n",
       "| DL | \n",
       "| UA | \n",
       "\n",
       "\n"
      ],
      "text/plain": [
       "  carrier\n",
       "1 UA     \n",
       "2 UA     \n",
       "3 AA     \n",
       "4 B6     \n",
       "5 DL     \n",
       "6 UA     "
      ]
     },
     "metadata": {},
     "output_type": "display_data"
    }
   ],
   "source": [
    "head(select(flights,carrier))"
   ]
  },
  {
   "cell_type": "code",
   "execution_count": 16,
   "metadata": {
    "collapsed": false
   },
   "outputs": [
    {
     "data": {
      "text/html": [
       "<table>\n",
       "<thead><tr><th scope=col>carrier</th><th scope=col>arr_time</th></tr></thead>\n",
       "<tbody>\n",
       "\t<tr><td>UA  </td><td> 830</td></tr>\n",
       "\t<tr><td>UA  </td><td> 850</td></tr>\n",
       "\t<tr><td>AA  </td><td> 923</td></tr>\n",
       "\t<tr><td>B6  </td><td>1004</td></tr>\n",
       "\t<tr><td>DL  </td><td> 812</td></tr>\n",
       "\t<tr><td>UA  </td><td> 740</td></tr>\n",
       "</tbody>\n",
       "</table>\n"
      ],
      "text/latex": [
       "\\begin{tabular}{r|ll}\n",
       " carrier & arr\\_time\\\\\n",
       "\\hline\n",
       "\t UA   &  830\\\\\n",
       "\t UA   &  850\\\\\n",
       "\t AA   &  923\\\\\n",
       "\t B6   & 1004\\\\\n",
       "\t DL   &  812\\\\\n",
       "\t UA   &  740\\\\\n",
       "\\end{tabular}\n"
      ],
      "text/markdown": [
       "\n",
       "carrier | arr_time | \n",
       "|---|---|---|---|---|---|\n",
       "| UA   |  830 | \n",
       "| UA   |  850 | \n",
       "| AA   |  923 | \n",
       "| B6   | 1004 | \n",
       "| DL   |  812 | \n",
       "| UA   |  740 | \n",
       "\n",
       "\n"
      ],
      "text/plain": [
       "  carrier arr_time\n",
       "1 UA       830    \n",
       "2 UA       850    \n",
       "3 AA       923    \n",
       "4 B6      1004    \n",
       "5 DL       812    \n",
       "6 UA       740    "
      ]
     },
     "metadata": {},
     "output_type": "display_data"
    }
   ],
   "source": [
    "head(select(flights,carrier,arr_time))"
   ]
  },
  {
   "cell_type": "code",
   "execution_count": 17,
   "metadata": {
    "collapsed": false
   },
   "outputs": [
    {
     "data": {
      "text/html": [
       "<table>\n",
       "<thead><tr><th scope=col>year</th><th scope=col>month</th><th scope=col>day</th><th scope=col>dep_time</th><th scope=col>sched_dep_time</th><th scope=col>dep_delay</th><th scope=col>arr_time</th><th scope=col>sched_arr_time</th><th scope=col>arr_delay</th><th scope=col>airline_carrier</th><th scope=col>flight</th><th scope=col>tailnum</th><th scope=col>origin</th><th scope=col>dest</th><th scope=col>air_time</th><th scope=col>distance</th><th scope=col>hour</th><th scope=col>minute</th><th scope=col>time_hour</th></tr></thead>\n",
       "<tbody>\n",
       "\t<tr><td>2013               </td><td>1                  </td><td>1                  </td><td>517                </td><td>515                </td><td> 2                 </td><td> 830               </td><td> 819               </td><td> 11                </td><td>UA                 </td><td>1545               </td><td>N14228             </td><td>EWR                </td><td>IAH                </td><td>227                </td><td>1400               </td><td>5                  </td><td>15                 </td><td>2013-01-01 05:00:00</td></tr>\n",
       "\t<tr><td>2013               </td><td>1                  </td><td>1                  </td><td>533                </td><td>529                </td><td> 4                 </td><td> 850               </td><td> 830               </td><td> 20                </td><td>UA                 </td><td>1714               </td><td>N24211             </td><td>LGA                </td><td>IAH                </td><td>227                </td><td>1416               </td><td>5                  </td><td>29                 </td><td>2013-01-01 05:00:00</td></tr>\n",
       "\t<tr><td>2013               </td><td>1                  </td><td>1                  </td><td>542                </td><td>540                </td><td> 2                 </td><td> 923               </td><td> 850               </td><td> 33                </td><td>AA                 </td><td>1141               </td><td>N619AA             </td><td>JFK                </td><td>MIA                </td><td>160                </td><td>1089               </td><td>5                  </td><td>40                 </td><td>2013-01-01 05:00:00</td></tr>\n",
       "\t<tr><td>2013               </td><td>1                  </td><td>1                  </td><td>544                </td><td>545                </td><td>-1                 </td><td>1004               </td><td>1022               </td><td>-18                </td><td>B6                 </td><td> 725               </td><td>N804JB             </td><td>JFK                </td><td>BQN                </td><td>183                </td><td>1576               </td><td>5                  </td><td>45                 </td><td>2013-01-01 05:00:00</td></tr>\n",
       "\t<tr><td>2013               </td><td>1                  </td><td>1                  </td><td>554                </td><td>600                </td><td>-6                 </td><td> 812               </td><td> 837               </td><td>-25                </td><td>DL                 </td><td> 461               </td><td>N668DN             </td><td>LGA                </td><td>ATL                </td><td>116                </td><td> 762               </td><td>6                  </td><td> 0                 </td><td>2013-01-01 06:00:00</td></tr>\n",
       "\t<tr><td>2013               </td><td>1                  </td><td>1                  </td><td>554                </td><td>558                </td><td>-4                 </td><td> 740               </td><td> 728               </td><td> 12                </td><td>UA                 </td><td>1696               </td><td>N39463             </td><td>EWR                </td><td>ORD                </td><td>150                </td><td> 719               </td><td>5                  </td><td>58                 </td><td>2013-01-01 05:00:00</td></tr>\n",
       "</tbody>\n",
       "</table>\n"
      ],
      "text/latex": [
       "\\begin{tabular}{r|lllllllllllllllllll}\n",
       " year & month & day & dep\\_time & sched\\_dep\\_time & dep\\_delay & arr\\_time & sched\\_arr\\_time & arr\\_delay & airline\\_carrier & flight & tailnum & origin & dest & air\\_time & distance & hour & minute & time\\_hour\\\\\n",
       "\\hline\n",
       "\t 2013                & 1                   & 1                   & 517                 & 515                 &  2                  &  830                &  819                &  11                 & UA                  & 1545                & N14228              & EWR                 & IAH                 & 227                 & 1400                & 5                   & 15                  & 2013-01-01 05:00:00\\\\\n",
       "\t 2013                & 1                   & 1                   & 533                 & 529                 &  4                  &  850                &  830                &  20                 & UA                  & 1714                & N24211              & LGA                 & IAH                 & 227                 & 1416                & 5                   & 29                  & 2013-01-01 05:00:00\\\\\n",
       "\t 2013                & 1                   & 1                   & 542                 & 540                 &  2                  &  923                &  850                &  33                 & AA                  & 1141                & N619AA              & JFK                 & MIA                 & 160                 & 1089                & 5                   & 40                  & 2013-01-01 05:00:00\\\\\n",
       "\t 2013                & 1                   & 1                   & 544                 & 545                 & -1                  & 1004                & 1022                & -18                 & B6                  &  725                & N804JB              & JFK                 & BQN                 & 183                 & 1576                & 5                   & 45                  & 2013-01-01 05:00:00\\\\\n",
       "\t 2013                & 1                   & 1                   & 554                 & 600                 & -6                  &  812                &  837                & -25                 & DL                  &  461                & N668DN              & LGA                 & ATL                 & 116                 &  762                & 6                   &  0                  & 2013-01-01 06:00:00\\\\\n",
       "\t 2013                & 1                   & 1                   & 554                 & 558                 & -4                  &  740                &  728                &  12                 & UA                  & 1696                & N39463              & EWR                 & ORD                 & 150                 &  719                & 5                   & 58                  & 2013-01-01 05:00:00\\\\\n",
       "\\end{tabular}\n"
      ],
      "text/markdown": [
       "\n",
       "year | month | day | dep_time | sched_dep_time | dep_delay | arr_time | sched_arr_time | arr_delay | airline_carrier | flight | tailnum | origin | dest | air_time | distance | hour | minute | time_hour | \n",
       "|---|---|---|---|---|---|\n",
       "| 2013                | 1                   | 1                   | 517                 | 515                 |  2                  |  830                |  819                |  11                 | UA                  | 1545                | N14228              | EWR                 | IAH                 | 227                 | 1400                | 5                   | 15                  | 2013-01-01 05:00:00 | \n",
       "| 2013                | 1                   | 1                   | 533                 | 529                 |  4                  |  850                |  830                |  20                 | UA                  | 1714                | N24211              | LGA                 | IAH                 | 227                 | 1416                | 5                   | 29                  | 2013-01-01 05:00:00 | \n",
       "| 2013                | 1                   | 1                   | 542                 | 540                 |  2                  |  923                |  850                |  33                 | AA                  | 1141                | N619AA              | JFK                 | MIA                 | 160                 | 1089                | 5                   | 40                  | 2013-01-01 05:00:00 | \n",
       "| 2013                | 1                   | 1                   | 544                 | 545                 | -1                  | 1004                | 1022                | -18                 | B6                  |  725                | N804JB              | JFK                 | BQN                 | 183                 | 1576                | 5                   | 45                  | 2013-01-01 05:00:00 | \n",
       "| 2013                | 1                   | 1                   | 554                 | 600                 | -6                  |  812                |  837                | -25                 | DL                  |  461                | N668DN              | LGA                 | ATL                 | 116                 |  762                | 6                   |  0                  | 2013-01-01 06:00:00 | \n",
       "| 2013                | 1                   | 1                   | 554                 | 558                 | -4                  |  740                |  728                |  12                 | UA                  | 1696                | N39463              | EWR                 | ORD                 | 150                 |  719                | 5                   | 58                  | 2013-01-01 05:00:00 | \n",
       "\n",
       "\n"
      ],
      "text/plain": [
       "  year month day dep_time sched_dep_time dep_delay arr_time sched_arr_time\n",
       "1 2013 1     1   517      515             2         830      819          \n",
       "2 2013 1     1   533      529             4         850      830          \n",
       "3 2013 1     1   542      540             2         923      850          \n",
       "4 2013 1     1   544      545            -1        1004     1022          \n",
       "5 2013 1     1   554      600            -6         812      837          \n",
       "6 2013 1     1   554      558            -4         740      728          \n",
       "  arr_delay airline_carrier flight tailnum origin dest air_time distance hour\n",
       "1  11       UA              1545   N14228  EWR    IAH  227      1400     5   \n",
       "2  20       UA              1714   N24211  LGA    IAH  227      1416     5   \n",
       "3  33       AA              1141   N619AA  JFK    MIA  160      1089     5   \n",
       "4 -18       B6               725   N804JB  JFK    BQN  183      1576     5   \n",
       "5 -25       DL               461   N668DN  LGA    ATL  116       762     6   \n",
       "6  12       UA              1696   N39463  EWR    ORD  150       719     5   \n",
       "  minute time_hour          \n",
       "1 15     2013-01-01 05:00:00\n",
       "2 29     2013-01-01 05:00:00\n",
       "3 40     2013-01-01 05:00:00\n",
       "4 45     2013-01-01 05:00:00\n",
       "5  0     2013-01-01 06:00:00\n",
       "6 58     2013-01-01 05:00:00"
      ]
     },
     "metadata": {},
     "output_type": "display_data"
    }
   ],
   "source": [
    "# change col name\n",
    "head(rename(flights, airline_carrier = carrier))"
   ]
  },
  {
   "cell_type": "code",
   "execution_count": 18,
   "metadata": {
    "collapsed": false
   },
   "outputs": [
    {
     "data": {
      "text/html": [
       "<table>\n",
       "<thead><tr><th scope=col>carrier</th></tr></thead>\n",
       "<tbody>\n",
       "\t<tr><td>UA</td></tr>\n",
       "\t<tr><td>AA</td></tr>\n",
       "\t<tr><td>B6</td></tr>\n",
       "\t<tr><td>DL</td></tr>\n",
       "\t<tr><td>EV</td></tr>\n",
       "\t<tr><td>MQ</td></tr>\n",
       "\t<tr><td>US</td></tr>\n",
       "\t<tr><td>WN</td></tr>\n",
       "\t<tr><td>VX</td></tr>\n",
       "\t<tr><td>FL</td></tr>\n",
       "\t<tr><td>AS</td></tr>\n",
       "\t<tr><td>9E</td></tr>\n",
       "\t<tr><td>F9</td></tr>\n",
       "\t<tr><td>HA</td></tr>\n",
       "\t<tr><td>YV</td></tr>\n",
       "\t<tr><td>OO</td></tr>\n",
       "</tbody>\n",
       "</table>\n"
      ],
      "text/latex": [
       "\\begin{tabular}{r|l}\n",
       " carrier\\\\\n",
       "\\hline\n",
       "\t UA\\\\\n",
       "\t AA\\\\\n",
       "\t B6\\\\\n",
       "\t DL\\\\\n",
       "\t EV\\\\\n",
       "\t MQ\\\\\n",
       "\t US\\\\\n",
       "\t WN\\\\\n",
       "\t VX\\\\\n",
       "\t FL\\\\\n",
       "\t AS\\\\\n",
       "\t 9E\\\\\n",
       "\t F9\\\\\n",
       "\t HA\\\\\n",
       "\t YV\\\\\n",
       "\t OO\\\\\n",
       "\\end{tabular}\n"
      ],
      "text/markdown": [
       "\n",
       "carrier | \n",
       "|---|---|---|---|---|---|---|---|---|---|---|---|---|---|---|---|\n",
       "| UA | \n",
       "| AA | \n",
       "| B6 | \n",
       "| DL | \n",
       "| EV | \n",
       "| MQ | \n",
       "| US | \n",
       "| WN | \n",
       "| VX | \n",
       "| FL | \n",
       "| AS | \n",
       "| 9E | \n",
       "| F9 | \n",
       "| HA | \n",
       "| YV | \n",
       "| OO | \n",
       "\n",
       "\n"
      ],
      "text/plain": [
       "   carrier\n",
       "1  UA     \n",
       "2  AA     \n",
       "3  B6     \n",
       "4  DL     \n",
       "5  EV     \n",
       "6  MQ     \n",
       "7  US     \n",
       "8  WN     \n",
       "9  VX     \n",
       "10 FL     \n",
       "11 AS     \n",
       "12 9E     \n",
       "13 F9     \n",
       "14 HA     \n",
       "15 YV     \n",
       "16 OO     "
      ]
     },
     "metadata": {},
     "output_type": "display_data"
    }
   ],
   "source": [
    "distinct(select(flights, carrier))"
   ]
  },
  {
   "cell_type": "code",
   "execution_count": 19,
   "metadata": {
    "collapsed": false
   },
   "outputs": [
    {
     "data": {
      "text/html": [
       "<table>\n",
       "<thead><tr><th scope=col>year</th><th scope=col>month</th><th scope=col>day</th><th scope=col>dep_time</th><th scope=col>sched_dep_time</th><th scope=col>dep_delay</th><th scope=col>arr_time</th><th scope=col>sched_arr_time</th><th scope=col>arr_delay</th><th scope=col>carrier</th><th scope=col>flight</th><th scope=col>tailnum</th><th scope=col>origin</th><th scope=col>dest</th><th scope=col>air_time</th><th scope=col>distance</th><th scope=col>hour</th><th scope=col>minute</th><th scope=col>time_hour</th><th scope=col>new_col</th></tr></thead>\n",
       "<tbody>\n",
       "\t<tr><td>2013               </td><td>1                  </td><td>1                  </td><td>517                </td><td>515                </td><td> 2                 </td><td> 830               </td><td> 819               </td><td> 11                </td><td>UA                 </td><td>1545               </td><td>N14228             </td><td>EWR                </td><td>IAH                </td><td>227                </td><td>1400               </td><td>5                  </td><td>15                 </td><td>2013-01-01 05:00:00</td><td>  9                </td></tr>\n",
       "\t<tr><td>2013               </td><td>1                  </td><td>1                  </td><td>533                </td><td>529                </td><td> 4                 </td><td> 850               </td><td> 830               </td><td> 20                </td><td>UA                 </td><td>1714               </td><td>N24211             </td><td>LGA                </td><td>IAH                </td><td>227                </td><td>1416               </td><td>5                  </td><td>29                 </td><td>2013-01-01 05:00:00</td><td> 16                </td></tr>\n",
       "\t<tr><td>2013               </td><td>1                  </td><td>1                  </td><td>542                </td><td>540                </td><td> 2                 </td><td> 923               </td><td> 850               </td><td> 33                </td><td>AA                 </td><td>1141               </td><td>N619AA             </td><td>JFK                </td><td>MIA                </td><td>160                </td><td>1089               </td><td>5                  </td><td>40                 </td><td>2013-01-01 05:00:00</td><td> 31                </td></tr>\n",
       "\t<tr><td>2013               </td><td>1                  </td><td>1                  </td><td>544                </td><td>545                </td><td>-1                 </td><td>1004               </td><td>1022               </td><td>-18                </td><td>B6                 </td><td> 725               </td><td>N804JB             </td><td>JFK                </td><td>BQN                </td><td>183                </td><td>1576               </td><td>5                  </td><td>45                 </td><td>2013-01-01 05:00:00</td><td>-17                </td></tr>\n",
       "\t<tr><td>2013               </td><td>1                  </td><td>1                  </td><td>554                </td><td>600                </td><td>-6                 </td><td> 812               </td><td> 837               </td><td>-25                </td><td>DL                 </td><td> 461               </td><td>N668DN             </td><td>LGA                </td><td>ATL                </td><td>116                </td><td> 762               </td><td>6                  </td><td> 0                 </td><td>2013-01-01 06:00:00</td><td>-19                </td></tr>\n",
       "\t<tr><td>2013               </td><td>1                  </td><td>1                  </td><td>554                </td><td>558                </td><td>-4                 </td><td> 740               </td><td> 728               </td><td> 12                </td><td>UA                 </td><td>1696               </td><td>N39463             </td><td>EWR                </td><td>ORD                </td><td>150                </td><td> 719               </td><td>5                  </td><td>58                 </td><td>2013-01-01 05:00:00</td><td> 16                </td></tr>\n",
       "</tbody>\n",
       "</table>\n"
      ],
      "text/latex": [
       "\\begin{tabular}{r|llllllllllllllllllll}\n",
       " year & month & day & dep\\_time & sched\\_dep\\_time & dep\\_delay & arr\\_time & sched\\_arr\\_time & arr\\_delay & carrier & flight & tailnum & origin & dest & air\\_time & distance & hour & minute & time\\_hour & new\\_col\\\\\n",
       "\\hline\n",
       "\t 2013                & 1                   & 1                   & 517                 & 515                 &  2                  &  830                &  819                &  11                 & UA                  & 1545                & N14228              & EWR                 & IAH                 & 227                 & 1400                & 5                   & 15                  & 2013-01-01 05:00:00 &   9                \\\\\n",
       "\t 2013                & 1                   & 1                   & 533                 & 529                 &  4                  &  850                &  830                &  20                 & UA                  & 1714                & N24211              & LGA                 & IAH                 & 227                 & 1416                & 5                   & 29                  & 2013-01-01 05:00:00 &  16                \\\\\n",
       "\t 2013                & 1                   & 1                   & 542                 & 540                 &  2                  &  923                &  850                &  33                 & AA                  & 1141                & N619AA              & JFK                 & MIA                 & 160                 & 1089                & 5                   & 40                  & 2013-01-01 05:00:00 &  31                \\\\\n",
       "\t 2013                & 1                   & 1                   & 544                 & 545                 & -1                  & 1004                & 1022                & -18                 & B6                  &  725                & N804JB              & JFK                 & BQN                 & 183                 & 1576                & 5                   & 45                  & 2013-01-01 05:00:00 & -17                \\\\\n",
       "\t 2013                & 1                   & 1                   & 554                 & 600                 & -6                  &  812                &  837                & -25                 & DL                  &  461                & N668DN              & LGA                 & ATL                 & 116                 &  762                & 6                   &  0                  & 2013-01-01 06:00:00 & -19                \\\\\n",
       "\t 2013                & 1                   & 1                   & 554                 & 558                 & -4                  &  740                &  728                &  12                 & UA                  & 1696                & N39463              & EWR                 & ORD                 & 150                 &  719                & 5                   & 58                  & 2013-01-01 05:00:00 &  16                \\\\\n",
       "\\end{tabular}\n"
      ],
      "text/markdown": [
       "\n",
       "year | month | day | dep_time | sched_dep_time | dep_delay | arr_time | sched_arr_time | arr_delay | carrier | flight | tailnum | origin | dest | air_time | distance | hour | minute | time_hour | new_col | \n",
       "|---|---|---|---|---|---|\n",
       "| 2013                | 1                   | 1                   | 517                 | 515                 |  2                  |  830                |  819                |  11                 | UA                  | 1545                | N14228              | EWR                 | IAH                 | 227                 | 1400                | 5                   | 15                  | 2013-01-01 05:00:00 |   9                 | \n",
       "| 2013                | 1                   | 1                   | 533                 | 529                 |  4                  |  850                |  830                |  20                 | UA                  | 1714                | N24211              | LGA                 | IAH                 | 227                 | 1416                | 5                   | 29                  | 2013-01-01 05:00:00 |  16                 | \n",
       "| 2013                | 1                   | 1                   | 542                 | 540                 |  2                  |  923                |  850                |  33                 | AA                  | 1141                | N619AA              | JFK                 | MIA                 | 160                 | 1089                | 5                   | 40                  | 2013-01-01 05:00:00 |  31                 | \n",
       "| 2013                | 1                   | 1                   | 544                 | 545                 | -1                  | 1004                | 1022                | -18                 | B6                  |  725                | N804JB              | JFK                 | BQN                 | 183                 | 1576                | 5                   | 45                  | 2013-01-01 05:00:00 | -17                 | \n",
       "| 2013                | 1                   | 1                   | 554                 | 600                 | -6                  |  812                |  837                | -25                 | DL                  |  461                | N668DN              | LGA                 | ATL                 | 116                 |  762                | 6                   |  0                  | 2013-01-01 06:00:00 | -19                 | \n",
       "| 2013                | 1                   | 1                   | 554                 | 558                 | -4                  |  740                |  728                |  12                 | UA                  | 1696                | N39463              | EWR                 | ORD                 | 150                 |  719                | 5                   | 58                  | 2013-01-01 05:00:00 |  16                 | \n",
       "\n",
       "\n"
      ],
      "text/plain": [
       "  year month day dep_time sched_dep_time dep_delay arr_time sched_arr_time\n",
       "1 2013 1     1   517      515             2         830      819          \n",
       "2 2013 1     1   533      529             4         850      830          \n",
       "3 2013 1     1   542      540             2         923      850          \n",
       "4 2013 1     1   544      545            -1        1004     1022          \n",
       "5 2013 1     1   554      600            -6         812      837          \n",
       "6 2013 1     1   554      558            -4         740      728          \n",
       "  arr_delay carrier flight tailnum origin dest air_time distance hour minute\n",
       "1  11       UA      1545   N14228  EWR    IAH  227      1400     5    15    \n",
       "2  20       UA      1714   N24211  LGA    IAH  227      1416     5    29    \n",
       "3  33       AA      1141   N619AA  JFK    MIA  160      1089     5    40    \n",
       "4 -18       B6       725   N804JB  JFK    BQN  183      1576     5    45    \n",
       "5 -25       DL       461   N668DN  LGA    ATL  116       762     6     0    \n",
       "6  12       UA      1696   N39463  EWR    ORD  150       719     5    58    \n",
       "  time_hour           new_col\n",
       "1 2013-01-01 05:00:00   9    \n",
       "2 2013-01-01 05:00:00  16    \n",
       "3 2013-01-01 05:00:00  31    \n",
       "4 2013-01-01 05:00:00 -17    \n",
       "5 2013-01-01 06:00:00 -19    \n",
       "6 2013-01-01 05:00:00  16    "
      ]
     },
     "metadata": {},
     "output_type": "display_data"
    }
   ],
   "source": [
    "head(mutate(flights, new_col = arr_delay - dep_delay))"
   ]
  },
  {
   "cell_type": "code",
   "execution_count": 22,
   "metadata": {
    "collapsed": false
   },
   "outputs": [
    {
     "data": {
      "text/html": [
       "<table>\n",
       "<thead><tr><th scope=col>new_col</th></tr></thead>\n",
       "<tbody>\n",
       "\t<tr><td>  9</td></tr>\n",
       "\t<tr><td> 16</td></tr>\n",
       "\t<tr><td> 31</td></tr>\n",
       "\t<tr><td>-17</td></tr>\n",
       "\t<tr><td>-19</td></tr>\n",
       "\t<tr><td> 16</td></tr>\n",
       "</tbody>\n",
       "</table>\n"
      ],
      "text/latex": [
       "\\begin{tabular}{r|l}\n",
       " new\\_col\\\\\n",
       "\\hline\n",
       "\t   9\\\\\n",
       "\t  16\\\\\n",
       "\t  31\\\\\n",
       "\t -17\\\\\n",
       "\t -19\\\\\n",
       "\t  16\\\\\n",
       "\\end{tabular}\n"
      ],
      "text/markdown": [
       "\n",
       "new_col | \n",
       "|---|---|---|---|---|---|\n",
       "|   9 | \n",
       "|  16 | \n",
       "|  31 | \n",
       "| -17 | \n",
       "| -19 | \n",
       "|  16 | \n",
       "\n",
       "\n"
      ],
      "text/plain": [
       "  new_col\n",
       "1   9    \n",
       "2  16    \n",
       "3  31    \n",
       "4 -17    \n",
       "5 -19    \n",
       "6  16    "
      ]
     },
     "metadata": {},
     "output_type": "display_data"
    }
   ],
   "source": [
    "head(transmute(flights, new_col = arr_delay - dep_delay))"
   ]
  },
  {
   "cell_type": "code",
   "execution_count": 23,
   "metadata": {
    "collapsed": false
   },
   "outputs": [
    {
     "data": {
      "text/html": [
       "<table>\n",
       "<thead><tr><th scope=col>avg_air_time</th></tr></thead>\n",
       "<tbody>\n",
       "\t<tr><td>150.6865</td></tr>\n",
       "</tbody>\n",
       "</table>\n"
      ],
      "text/latex": [
       "\\begin{tabular}{r|l}\n",
       " avg\\_air\\_time\\\\\n",
       "\\hline\n",
       "\t 150.6865\\\\\n",
       "\\end{tabular}\n"
      ],
      "text/markdown": [
       "\n",
       "avg_air_time | \n",
       "|---|\n",
       "| 150.6865 | \n",
       "\n",
       "\n"
      ],
      "text/plain": [
       "  avg_air_time\n",
       "1 150.6865    "
      ]
     },
     "metadata": {},
     "output_type": "display_data"
    }
   ],
   "source": [
    "summarise(flights, avg_air_time = mean(air_time, na.rm = TRUE))  # Remove na value"
   ]
  },
  {
   "cell_type": "code",
   "execution_count": 24,
   "metadata": {
    "collapsed": false
   },
   "outputs": [
    {
     "data": {
      "text/html": [
       "<table>\n",
       "<thead><tr><th scope=col>total_air_time</th></tr></thead>\n",
       "<tbody>\n",
       "\t<tr><td>49326610</td></tr>\n",
       "</tbody>\n",
       "</table>\n"
      ],
      "text/latex": [
       "\\begin{tabular}{r|l}\n",
       " total\\_air\\_time\\\\\n",
       "\\hline\n",
       "\t 49326610\\\\\n",
       "\\end{tabular}\n"
      ],
      "text/markdown": [
       "\n",
       "total_air_time | \n",
       "|---|\n",
       "| 49326610 | \n",
       "\n",
       "\n"
      ],
      "text/plain": [
       "  total_air_time\n",
       "1 49326610      "
      ]
     },
     "metadata": {},
     "output_type": "display_data"
    }
   ],
   "source": [
    "summarise(flights, total_air_time = sum(air_time, na.rm = TRUE))  # Remove na value"
   ]
  },
  {
   "cell_type": "code",
   "execution_count": 26,
   "metadata": {
    "collapsed": false
   },
   "outputs": [
    {
     "data": {
      "text/html": [
       "<table>\n",
       "<thead><tr><th scope=col>year</th><th scope=col>month</th><th scope=col>day</th><th scope=col>dep_time</th><th scope=col>sched_dep_time</th><th scope=col>dep_delay</th><th scope=col>arr_time</th><th scope=col>sched_arr_time</th><th scope=col>arr_delay</th><th scope=col>carrier</th><th scope=col>flight</th><th scope=col>tailnum</th><th scope=col>origin</th><th scope=col>dest</th><th scope=col>air_time</th><th scope=col>distance</th><th scope=col>hour</th><th scope=col>minute</th><th scope=col>time_hour</th></tr></thead>\n",
       "<tbody>\n",
       "\t<tr><td>2013               </td><td> 2                 </td><td>12                 </td><td>1650               </td><td>1655               </td><td> -5                </td><td>1951               </td><td>2030               </td><td>-39                </td><td>VX                 </td><td> 413               </td><td>N837VA             </td><td>JFK                </td><td>LAX                </td><td>334                </td><td>2475               </td><td>16                 </td><td>55                 </td><td>2013-02-12 16:00:00</td></tr>\n",
       "\t<tr><td>2013               </td><td> 2                 </td><td>26                 </td><td>1925               </td><td>1900               </td><td> 25                </td><td>2108               </td><td>2018               </td><td> 50                </td><td>EV                 </td><td>5714               </td><td>N832AS             </td><td>JFK                </td><td>IAD                </td><td> 63                </td><td> 228               </td><td>19                 </td><td> 0                 </td><td>2013-02-26 19:00:00</td></tr>\n",
       "\t<tr><td>2013               </td><td> 3                 </td><td>15                 </td><td>1056               </td><td>1056               </td><td>  0                </td><td>1325               </td><td>1341               </td><td>-16                </td><td>UA                 </td><td>1152               </td><td>N38467             </td><td>EWR                </td><td>LAS                </td><td>304                </td><td>2227               </td><td>10                 </td><td>56                 </td><td>2013-03-15 10:00:00</td></tr>\n",
       "\t<tr><td>2013               </td><td>10                 </td><td>19                 </td><td>1603               </td><td>1608               </td><td> -5                </td><td>1725               </td><td>1742               </td><td>-17                </td><td>EV                 </td><td>5293               </td><td>N710EV             </td><td>LGA                </td><td>ORF                </td><td> 56                </td><td> 296               </td><td>16                 </td><td> 8                 </td><td>2013-10-19 16:00:00</td></tr>\n",
       "\t<tr><td>2013               </td><td> 5                 </td><td> 4                 </td><td>1452               </td><td>1500               </td><td> -8                </td><td>1618               </td><td>1645               </td><td>-27                </td><td>AA                 </td><td> 341               </td><td>N587AA             </td><td>LGA                </td><td>ORD                </td><td>114                </td><td> 733               </td><td>15                 </td><td> 0                 </td><td>2013-05-04 15:00:00</td></tr>\n",
       "\t<tr><td>2013               </td><td>10                 </td><td> 9                 </td><td> 819               </td><td> 830               </td><td>-11                </td><td> 944               </td><td>1007               </td><td>-23                </td><td>9E                 </td><td>3579               </td><td>N601XJ             </td><td>LGA                </td><td>IAD                </td><td> 45                </td><td> 229               </td><td> 8                 </td><td>30                 </td><td>2013-10-09 08:00:00</td></tr>\n",
       "\t<tr><td>2013               </td><td> 8                 </td><td>22                 </td><td>1417               </td><td>1330               </td><td> 47                </td><td>1610               </td><td>1545               </td><td> 25                </td><td>WN                 </td><td>4103               </td><td>N968WN             </td><td>EWR                </td><td>PHX                </td><td>272                </td><td>2133               </td><td>13                 </td><td>30                 </td><td>2013-08-22 13:00:00</td></tr>\n",
       "\t<tr><td>2013               </td><td> 7                 </td><td> 1                 </td><td>1613               </td><td>1559               </td><td> 14                </td><td>1907               </td><td>1910               </td><td> -3                </td><td>DL                 </td><td>1394               </td><td>N3772H             </td><td>JFK                </td><td>PDX                </td><td>301                </td><td>2454               </td><td>15                 </td><td>59                 </td><td>2013-07-01 15:00:00</td></tr>\n",
       "\t<tr><td>2013               </td><td> 3                 </td><td>25                 </td><td>2217               </td><td>2140               </td><td> 37                </td><td>2334               </td><td>2305               </td><td> 29                </td><td>B6                 </td><td> 104               </td><td>N292JB             </td><td>JFK                </td><td>BUF                </td><td> 55                </td><td> 301               </td><td>21                 </td><td>40                 </td><td>2013-03-25 21:00:00</td></tr>\n",
       "\t<tr><td>2013               </td><td> 3                 </td><td>22                 </td><td>1232               </td><td>1200               </td><td> 32                </td><td>1345               </td><td>1315               </td><td> 30                </td><td>MQ                 </td><td>4425               </td><td>N815MQ             </td><td>JFK                </td><td>DCA                </td><td> 53                </td><td> 213               </td><td>12                 </td><td> 0                 </td><td>2013-03-22 12:00:00</td></tr>\n",
       "</tbody>\n",
       "</table>\n"
      ],
      "text/latex": [
       "\\begin{tabular}{r|lllllllllllllllllll}\n",
       " year & month & day & dep\\_time & sched\\_dep\\_time & dep\\_delay & arr\\_time & sched\\_arr\\_time & arr\\_delay & carrier & flight & tailnum & origin & dest & air\\_time & distance & hour & minute & time\\_hour\\\\\n",
       "\\hline\n",
       "\t 2013                &  2                  & 12                  & 1650                & 1655                &  -5                 & 1951                & 2030                & -39                 & VX                  &  413                & N837VA              & JFK                 & LAX                 & 334                 & 2475                & 16                  & 55                  & 2013-02-12 16:00:00\\\\\n",
       "\t 2013                &  2                  & 26                  & 1925                & 1900                &  25                 & 2108                & 2018                &  50                 & EV                  & 5714                & N832AS              & JFK                 & IAD                 &  63                 &  228                & 19                  &  0                  & 2013-02-26 19:00:00\\\\\n",
       "\t 2013                &  3                  & 15                  & 1056                & 1056                &   0                 & 1325                & 1341                & -16                 & UA                  & 1152                & N38467              & EWR                 & LAS                 & 304                 & 2227                & 10                  & 56                  & 2013-03-15 10:00:00\\\\\n",
       "\t 2013                & 10                  & 19                  & 1603                & 1608                &  -5                 & 1725                & 1742                & -17                 & EV                  & 5293                & N710EV              & LGA                 & ORF                 &  56                 &  296                & 16                  &  8                  & 2013-10-19 16:00:00\\\\\n",
       "\t 2013                &  5                  &  4                  & 1452                & 1500                &  -8                 & 1618                & 1645                & -27                 & AA                  &  341                & N587AA              & LGA                 & ORD                 & 114                 &  733                & 15                  &  0                  & 2013-05-04 15:00:00\\\\\n",
       "\t 2013                & 10                  &  9                  &  819                &  830                & -11                 &  944                & 1007                & -23                 & 9E                  & 3579                & N601XJ              & LGA                 & IAD                 &  45                 &  229                &  8                  & 30                  & 2013-10-09 08:00:00\\\\\n",
       "\t 2013                &  8                  & 22                  & 1417                & 1330                &  47                 & 1610                & 1545                &  25                 & WN                  & 4103                & N968WN              & EWR                 & PHX                 & 272                 & 2133                & 13                  & 30                  & 2013-08-22 13:00:00\\\\\n",
       "\t 2013                &  7                  &  1                  & 1613                & 1559                &  14                 & 1907                & 1910                &  -3                 & DL                  & 1394                & N3772H              & JFK                 & PDX                 & 301                 & 2454                & 15                  & 59                  & 2013-07-01 15:00:00\\\\\n",
       "\t 2013                &  3                  & 25                  & 2217                & 2140                &  37                 & 2334                & 2305                &  29                 & B6                  &  104                & N292JB              & JFK                 & BUF                 &  55                 &  301                & 21                  & 40                  & 2013-03-25 21:00:00\\\\\n",
       "\t 2013                &  3                  & 22                  & 1232                & 1200                &  32                 & 1345                & 1315                &  30                 & MQ                  & 4425                & N815MQ              & JFK                 & DCA                 &  53                 &  213                & 12                  &  0                  & 2013-03-22 12:00:00\\\\\n",
       "\\end{tabular}\n"
      ],
      "text/markdown": [
       "\n",
       "year | month | day | dep_time | sched_dep_time | dep_delay | arr_time | sched_arr_time | arr_delay | carrier | flight | tailnum | origin | dest | air_time | distance | hour | minute | time_hour | \n",
       "|---|---|---|---|---|---|---|---|---|---|\n",
       "| 2013                |  2                  | 12                  | 1650                | 1655                |  -5                 | 1951                | 2030                | -39                 | VX                  |  413                | N837VA              | JFK                 | LAX                 | 334                 | 2475                | 16                  | 55                  | 2013-02-12 16:00:00 | \n",
       "| 2013                |  2                  | 26                  | 1925                | 1900                |  25                 | 2108                | 2018                |  50                 | EV                  | 5714                | N832AS              | JFK                 | IAD                 |  63                 |  228                | 19                  |  0                  | 2013-02-26 19:00:00 | \n",
       "| 2013                |  3                  | 15                  | 1056                | 1056                |   0                 | 1325                | 1341                | -16                 | UA                  | 1152                | N38467              | EWR                 | LAS                 | 304                 | 2227                | 10                  | 56                  | 2013-03-15 10:00:00 | \n",
       "| 2013                | 10                  | 19                  | 1603                | 1608                |  -5                 | 1725                | 1742                | -17                 | EV                  | 5293                | N710EV              | LGA                 | ORF                 |  56                 |  296                | 16                  |  8                  | 2013-10-19 16:00:00 | \n",
       "| 2013                |  5                  |  4                  | 1452                | 1500                |  -8                 | 1618                | 1645                | -27                 | AA                  |  341                | N587AA              | LGA                 | ORD                 | 114                 |  733                | 15                  |  0                  | 2013-05-04 15:00:00 | \n",
       "| 2013                | 10                  |  9                  |  819                |  830                | -11                 |  944                | 1007                | -23                 | 9E                  | 3579                | N601XJ              | LGA                 | IAD                 |  45                 |  229                |  8                  | 30                  | 2013-10-09 08:00:00 | \n",
       "| 2013                |  8                  | 22                  | 1417                | 1330                |  47                 | 1610                | 1545                |  25                 | WN                  | 4103                | N968WN              | EWR                 | PHX                 | 272                 | 2133                | 13                  | 30                  | 2013-08-22 13:00:00 | \n",
       "| 2013                |  7                  |  1                  | 1613                | 1559                |  14                 | 1907                | 1910                |  -3                 | DL                  | 1394                | N3772H              | JFK                 | PDX                 | 301                 | 2454                | 15                  | 59                  | 2013-07-01 15:00:00 | \n",
       "| 2013                |  3                  | 25                  | 2217                | 2140                |  37                 | 2334                | 2305                |  29                 | B6                  |  104                | N292JB              | JFK                 | BUF                 |  55                 |  301                | 21                  | 40                  | 2013-03-25 21:00:00 | \n",
       "| 2013                |  3                  | 22                  | 1232                | 1200                |  32                 | 1345                | 1315                |  30                 | MQ                  | 4425                | N815MQ              | JFK                 | DCA                 |  53                 |  213                | 12                  |  0                  | 2013-03-22 12:00:00 | \n",
       "\n",
       "\n"
      ],
      "text/plain": [
       "   year month day dep_time sched_dep_time dep_delay arr_time sched_arr_time\n",
       "1  2013  2    12  1650     1655            -5       1951     2030          \n",
       "2  2013  2    26  1925     1900            25       2108     2018          \n",
       "3  2013  3    15  1056     1056             0       1325     1341          \n",
       "4  2013 10    19  1603     1608            -5       1725     1742          \n",
       "5  2013  5     4  1452     1500            -8       1618     1645          \n",
       "6  2013 10     9   819      830           -11        944     1007          \n",
       "7  2013  8    22  1417     1330            47       1610     1545          \n",
       "8  2013  7     1  1613     1559            14       1907     1910          \n",
       "9  2013  3    25  2217     2140            37       2334     2305          \n",
       "10 2013  3    22  1232     1200            32       1345     1315          \n",
       "   arr_delay carrier flight tailnum origin dest air_time distance hour minute\n",
       "1  -39       VX       413   N837VA  JFK    LAX  334      2475     16   55    \n",
       "2   50       EV      5714   N832AS  JFK    IAD   63       228     19    0    \n",
       "3  -16       UA      1152   N38467  EWR    LAS  304      2227     10   56    \n",
       "4  -17       EV      5293   N710EV  LGA    ORF   56       296     16    8    \n",
       "5  -27       AA       341   N587AA  LGA    ORD  114       733     15    0    \n",
       "6  -23       9E      3579   N601XJ  LGA    IAD   45       229      8   30    \n",
       "7   25       WN      4103   N968WN  EWR    PHX  272      2133     13   30    \n",
       "8   -3       DL      1394   N3772H  JFK    PDX  301      2454     15   59    \n",
       "9   29       B6       104   N292JB  JFK    BUF   55       301     21   40    \n",
       "10  30       MQ      4425   N815MQ  JFK    DCA   53       213     12    0    \n",
       "   time_hour          \n",
       "1  2013-02-12 16:00:00\n",
       "2  2013-02-26 19:00:00\n",
       "3  2013-03-15 10:00:00\n",
       "4  2013-10-19 16:00:00\n",
       "5  2013-05-04 15:00:00\n",
       "6  2013-10-09 08:00:00\n",
       "7  2013-08-22 13:00:00\n",
       "8  2013-07-01 15:00:00\n",
       "9  2013-03-25 21:00:00\n",
       "10 2013-03-22 12:00:00"
      ]
     },
     "metadata": {},
     "output_type": "display_data"
    }
   ],
   "source": [
    "sample_n(flights, 10)"
   ]
  },
  {
   "cell_type": "code",
   "execution_count": 30,
   "metadata": {
    "collapsed": false
   },
   "outputs": [
    {
     "data": {
      "text/html": [
       "<table>\n",
       "<thead><tr><th scope=col>year</th><th scope=col>month</th><th scope=col>day</th><th scope=col>dep_time</th><th scope=col>sched_dep_time</th><th scope=col>dep_delay</th><th scope=col>arr_time</th><th scope=col>sched_arr_time</th><th scope=col>arr_delay</th><th scope=col>carrier</th><th scope=col>flight</th><th scope=col>tailnum</th><th scope=col>origin</th><th scope=col>dest</th><th scope=col>air_time</th><th scope=col>distance</th><th scope=col>hour</th><th scope=col>minute</th><th scope=col>time_hour</th></tr></thead>\n",
       "<tbody>\n",
       "\t<tr><td>2013               </td><td>9                  </td><td>13                 </td><td>2139               </td><td>2113               </td><td>26                 </td><td>2338               </td><td>2307               </td><td> 31                </td><td>EV                 </td><td>4700               </td><td>N14542             </td><td>EWR                </td><td>CLT                </td><td> 92                </td><td> 529               </td><td>21                 </td><td>13                 </td><td>2013-09-13 21:00:00</td></tr>\n",
       "\t<tr><td>2013               </td><td>7                  </td><td>17                 </td><td>1909               </td><td>1915               </td><td>-6                 </td><td>2133               </td><td>2205               </td><td>-32                </td><td>AA                 </td><td> 791               </td><td>N3DPAA             </td><td>LGA                </td><td>DFW                </td><td>177                </td><td>1389               </td><td>19                 </td><td>15                 </td><td>2013-07-17 19:00:00</td></tr>\n",
       "\t<tr><td>2013               </td><td>2                  </td><td>14                 </td><td>1732               </td><td>1730               </td><td> 2                 </td><td>2124               </td><td>2024               </td><td> 60                </td><td>B6                 </td><td>   9               </td><td>N552JB             </td><td>JFK                </td><td>MCO                </td><td>176                </td><td> 944               </td><td>17                 </td><td>30                 </td><td>2013-02-14 17:00:00</td></tr>\n",
       "</tbody>\n",
       "</table>\n"
      ],
      "text/latex": [
       "\\begin{tabular}{r|lllllllllllllllllll}\n",
       " year & month & day & dep\\_time & sched\\_dep\\_time & dep\\_delay & arr\\_time & sched\\_arr\\_time & arr\\_delay & carrier & flight & tailnum & origin & dest & air\\_time & distance & hour & minute & time\\_hour\\\\\n",
       "\\hline\n",
       "\t 2013                & 9                   & 13                  & 2139                & 2113                & 26                  & 2338                & 2307                &  31                 & EV                  & 4700                & N14542              & EWR                 & CLT                 &  92                 &  529                & 21                  & 13                  & 2013-09-13 21:00:00\\\\\n",
       "\t 2013                & 7                   & 17                  & 1909                & 1915                & -6                  & 2133                & 2205                & -32                 & AA                  &  791                & N3DPAA              & LGA                 & DFW                 & 177                 & 1389                & 19                  & 15                  & 2013-07-17 19:00:00\\\\\n",
       "\t 2013                & 2                   & 14                  & 1732                & 1730                &  2                  & 2124                & 2024                &  60                 & B6                  &    9                & N552JB              & JFK                 & MCO                 & 176                 &  944                & 17                  & 30                  & 2013-02-14 17:00:00\\\\\n",
       "\\end{tabular}\n"
      ],
      "text/markdown": [
       "\n",
       "year | month | day | dep_time | sched_dep_time | dep_delay | arr_time | sched_arr_time | arr_delay | carrier | flight | tailnum | origin | dest | air_time | distance | hour | minute | time_hour | \n",
       "|---|---|---|\n",
       "| 2013                | 9                   | 13                  | 2139                | 2113                | 26                  | 2338                | 2307                |  31                 | EV                  | 4700                | N14542              | EWR                 | CLT                 |  92                 |  529                | 21                  | 13                  | 2013-09-13 21:00:00 | \n",
       "| 2013                | 7                   | 17                  | 1909                | 1915                | -6                  | 2133                | 2205                | -32                 | AA                  |  791                | N3DPAA              | LGA                 | DFW                 | 177                 | 1389                | 19                  | 15                  | 2013-07-17 19:00:00 | \n",
       "| 2013                | 2                   | 14                  | 1732                | 1730                |  2                  | 2124                | 2024                |  60                 | B6                  |    9                | N552JB              | JFK                 | MCO                 | 176                 |  944                | 17                  | 30                  | 2013-02-14 17:00:00 | \n",
       "\n",
       "\n"
      ],
      "text/plain": [
       "  year month day dep_time sched_dep_time dep_delay arr_time sched_arr_time\n",
       "1 2013 9     13  2139     2113           26        2338     2307          \n",
       "2 2013 7     17  1909     1915           -6        2133     2205          \n",
       "3 2013 2     14  1732     1730            2        2124     2024          \n",
       "  arr_delay carrier flight tailnum origin dest air_time distance hour minute\n",
       "1  31       EV      4700   N14542  EWR    CLT   92       529     21   13    \n",
       "2 -32       AA       791   N3DPAA  LGA    DFW  177      1389     19   15    \n",
       "3  60       B6         9   N552JB  JFK    MCO  176       944     17   30    \n",
       "  time_hour          \n",
       "1 2013-09-13 21:00:00\n",
       "2 2013-07-17 19:00:00\n",
       "3 2013-02-14 17:00:00"
      ]
     },
     "metadata": {},
     "output_type": "display_data"
    }
   ],
   "source": [
    "sample_frac(flights, 0.00001)"
   ]
  },
  {
   "cell_type": "code",
   "execution_count": null,
   "metadata": {
    "collapsed": true
   },
   "outputs": [],
   "source": []
  }
 ],
 "metadata": {
  "kernelspec": {
   "display_name": "R",
   "language": "R",
   "name": "ir"
  },
  "language_info": {
   "codemirror_mode": "r",
   "file_extension": ".r",
   "mimetype": "text/x-r-source",
   "name": "R",
   "pygments_lexer": "r",
   "version": "3.3.2"
  }
 },
 "nbformat": 4,
 "nbformat_minor": 2
}
