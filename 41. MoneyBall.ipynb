{
 "cells": [
  {
   "cell_type": "code",
   "execution_count": 1,
   "metadata": {
    "collapsed": true
   },
   "outputs": [],
   "source": [
    "batting <- read.csv('Batting.csv')"
   ]
  },
  {
   "cell_type": "code",
   "execution_count": 2,
   "metadata": {
    "collapsed": false
   },
   "outputs": [
    {
     "data": {
      "text/html": [
       "<table>\n",
       "<thead><tr><th scope=col>playerID</th><th scope=col>yearID</th><th scope=col>stint</th><th scope=col>teamID</th><th scope=col>lgID</th><th scope=col>G</th><th scope=col>G_batting</th><th scope=col>AB</th><th scope=col>R</th><th scope=col>H</th><th scope=col>⋯</th><th scope=col>SB</th><th scope=col>CS</th><th scope=col>BB</th><th scope=col>SO</th><th scope=col>IBB</th><th scope=col>HBP</th><th scope=col>SH</th><th scope=col>SF</th><th scope=col>GIDP</th><th scope=col>G_old</th></tr></thead>\n",
       "<tbody>\n",
       "\t<tr><td>aardsda01</td><td>2004     </td><td>1        </td><td>SFN      </td><td>NL       </td><td>11       </td><td>11       </td><td>0        </td><td>0        </td><td>0        </td><td>⋯        </td><td>0        </td><td>0        </td><td>0        </td><td>0        </td><td>0        </td><td>0        </td><td>0        </td><td>0        </td><td>0        </td><td>11       </td></tr>\n",
       "\t<tr><td>aardsda01</td><td>2006     </td><td>1        </td><td>CHN      </td><td>NL       </td><td>45       </td><td>43       </td><td>2        </td><td>0        </td><td>0        </td><td>⋯        </td><td>0        </td><td>0        </td><td>0        </td><td>0        </td><td>0        </td><td>0        </td><td>1        </td><td>0        </td><td>0        </td><td>45       </td></tr>\n",
       "\t<tr><td>aardsda01</td><td>2007     </td><td>1        </td><td>CHA      </td><td>AL       </td><td>25       </td><td> 2       </td><td>0        </td><td>0        </td><td>0        </td><td>⋯        </td><td>0        </td><td>0        </td><td>0        </td><td>0        </td><td>0        </td><td>0        </td><td>0        </td><td>0        </td><td>0        </td><td> 2       </td></tr>\n",
       "\t<tr><td>aardsda01</td><td>2008     </td><td>1        </td><td>BOS      </td><td>AL       </td><td>47       </td><td> 5       </td><td>1        </td><td>0        </td><td>0        </td><td>⋯        </td><td>0        </td><td>0        </td><td>0        </td><td>1        </td><td>0        </td><td>0        </td><td>0        </td><td>0        </td><td>0        </td><td> 5       </td></tr>\n",
       "\t<tr><td>aardsda01</td><td>2009     </td><td>1        </td><td>SEA      </td><td>AL       </td><td>73       </td><td> 3       </td><td>0        </td><td>0        </td><td>0        </td><td>⋯        </td><td>0        </td><td>0        </td><td>0        </td><td>0        </td><td>0        </td><td>0        </td><td>0        </td><td>0        </td><td>0        </td><td>NA       </td></tr>\n",
       "\t<tr><td>aardsda01</td><td>2010     </td><td>1        </td><td>SEA      </td><td>AL       </td><td>53       </td><td> 4       </td><td>0        </td><td>0        </td><td>0        </td><td>⋯        </td><td>0        </td><td>0        </td><td>0        </td><td>0        </td><td>0        </td><td>0        </td><td>0        </td><td>0        </td><td>0        </td><td>NA       </td></tr>\n",
       "</tbody>\n",
       "</table>\n"
      ],
      "text/latex": [
       "\\begin{tabular}{r|llllllllllllllllllllllll}\n",
       " playerID & yearID & stint & teamID & lgID & G & G\\_batting & AB & R & H & ⋯ & SB & CS & BB & SO & IBB & HBP & SH & SF & GIDP & G\\_old\\\\\n",
       "\\hline\n",
       "\t aardsda01 & 2004      & 1         & SFN       & NL        & 11        & 11        & 0         & 0         & 0         & ⋯         & 0         & 0         & 0         & 0         & 0         & 0         & 0         & 0         & 0         & 11       \\\\\n",
       "\t aardsda01 & 2006      & 1         & CHN       & NL        & 45        & 43        & 2         & 0         & 0         & ⋯         & 0         & 0         & 0         & 0         & 0         & 0         & 1         & 0         & 0         & 45       \\\\\n",
       "\t aardsda01 & 2007      & 1         & CHA       & AL        & 25        &  2        & 0         & 0         & 0         & ⋯         & 0         & 0         & 0         & 0         & 0         & 0         & 0         & 0         & 0         &  2       \\\\\n",
       "\t aardsda01 & 2008      & 1         & BOS       & AL        & 47        &  5        & 1         & 0         & 0         & ⋯         & 0         & 0         & 0         & 1         & 0         & 0         & 0         & 0         & 0         &  5       \\\\\n",
       "\t aardsda01 & 2009      & 1         & SEA       & AL        & 73        &  3        & 0         & 0         & 0         & ⋯         & 0         & 0         & 0         & 0         & 0         & 0         & 0         & 0         & 0         & NA       \\\\\n",
       "\t aardsda01 & 2010      & 1         & SEA       & AL        & 53        &  4        & 0         & 0         & 0         & ⋯         & 0         & 0         & 0         & 0         & 0         & 0         & 0         & 0         & 0         & NA       \\\\\n",
       "\\end{tabular}\n"
      ],
      "text/markdown": [
       "\n",
       "playerID | yearID | stint | teamID | lgID | G | G_batting | AB | R | H | ⋯ | SB | CS | BB | SO | IBB | HBP | SH | SF | GIDP | G_old | \n",
       "|---|---|---|---|---|---|\n",
       "| aardsda01 | 2004      | 1         | SFN       | NL        | 11        | 11        | 0         | 0         | 0         | ⋯         | 0         | 0         | 0         | 0         | 0         | 0         | 0         | 0         | 0         | 11        | \n",
       "| aardsda01 | 2006      | 1         | CHN       | NL        | 45        | 43        | 2         | 0         | 0         | ⋯         | 0         | 0         | 0         | 0         | 0         | 0         | 1         | 0         | 0         | 45        | \n",
       "| aardsda01 | 2007      | 1         | CHA       | AL        | 25        |  2        | 0         | 0         | 0         | ⋯         | 0         | 0         | 0         | 0         | 0         | 0         | 0         | 0         | 0         |  2        | \n",
       "| aardsda01 | 2008      | 1         | BOS       | AL        | 47        |  5        | 1         | 0         | 0         | ⋯         | 0         | 0         | 0         | 1         | 0         | 0         | 0         | 0         | 0         |  5        | \n",
       "| aardsda01 | 2009      | 1         | SEA       | AL        | 73        |  3        | 0         | 0         | 0         | ⋯         | 0         | 0         | 0         | 0         | 0         | 0         | 0         | 0         | 0         | NA        | \n",
       "| aardsda01 | 2010      | 1         | SEA       | AL        | 53        |  4        | 0         | 0         | 0         | ⋯         | 0         | 0         | 0         | 0         | 0         | 0         | 0         | 0         | 0         | NA        | \n",
       "\n",
       "\n"
      ],
      "text/plain": [
       "  playerID  yearID stint teamID lgID G  G_batting AB R H ⋯ SB CS BB SO IBB HBP\n",
       "1 aardsda01 2004   1     SFN    NL   11 11        0  0 0 ⋯ 0  0  0  0  0   0  \n",
       "2 aardsda01 2006   1     CHN    NL   45 43        2  0 0 ⋯ 0  0  0  0  0   0  \n",
       "3 aardsda01 2007   1     CHA    AL   25  2        0  0 0 ⋯ 0  0  0  0  0   0  \n",
       "4 aardsda01 2008   1     BOS    AL   47  5        1  0 0 ⋯ 0  0  0  1  0   0  \n",
       "5 aardsda01 2009   1     SEA    AL   73  3        0  0 0 ⋯ 0  0  0  0  0   0  \n",
       "6 aardsda01 2010   1     SEA    AL   53  4        0  0 0 ⋯ 0  0  0  0  0   0  \n",
       "  SH SF GIDP G_old\n",
       "1 0  0  0    11   \n",
       "2 1  0  0    45   \n",
       "3 0  0  0     2   \n",
       "4 0  0  0     5   \n",
       "5 0  0  0    NA   \n",
       "6 0  0  0    NA   "
      ]
     },
     "metadata": {},
     "output_type": "display_data"
    }
   ],
   "source": [
    "head(batting)"
   ]
  },
  {
   "cell_type": "code",
   "execution_count": 3,
   "metadata": {
    "collapsed": false
   },
   "outputs": [
    {
     "data": {
      "text/plain": [
       "      playerID         yearID         stint           teamID        lgID      \n",
       " mcguide01:   31   Min.   :1871   Min.   :1.000   CHN    : 4720   AA  : 1890  \n",
       " henderi01:   29   1st Qu.:1931   1st Qu.:1.000   PHI    : 4621   AL  :44369  \n",
       " newsobo01:   29   Median :1970   Median :1.000   PIT    : 4575   FL  :  470  \n",
       " johnto01 :   28   Mean   :1962   Mean   :1.077   SLN    : 4535   NL  :49944  \n",
       " kaatji01 :   28   3rd Qu.:1995   3rd Qu.:1.000   CIN    : 4393   PL  :  147  \n",
       " ansonca01:   27   Max.   :2013   Max.   :5.000   CLE    : 4318   UA  :  332  \n",
       " (Other)  :97717                                  (Other):70727   NA's:  737  \n",
       "       G            G_batting            AB              R         \n",
       " Min.   :  1.00   Min.   :  0.00   Min.   :  0.0   Min.   :  0.00  \n",
       " 1st Qu.: 13.00   1st Qu.:  7.00   1st Qu.:  9.0   1st Qu.:  0.00  \n",
       " Median : 35.00   Median : 32.00   Median : 61.0   Median :  5.00  \n",
       " Mean   : 51.65   Mean   : 49.13   Mean   :154.1   Mean   : 20.47  \n",
       " 3rd Qu.: 81.00   3rd Qu.: 81.00   3rd Qu.:260.0   3rd Qu.: 31.00  \n",
       " Max.   :165.00   Max.   :165.00   Max.   :716.0   Max.   :192.00  \n",
       "                  NA's   :1406     NA's   :6413    NA's   :6413    \n",
       "       H               X2B            X3B               HR        \n",
       " Min.   :  0.00   Min.   : 0.0   Min.   : 0.000   Min.   : 0.000  \n",
       " 1st Qu.:  1.00   1st Qu.: 0.0   1st Qu.: 0.000   1st Qu.: 0.000  \n",
       " Median : 12.00   Median : 2.0   Median : 0.000   Median : 0.000  \n",
       " Mean   : 40.37   Mean   : 6.8   Mean   : 1.424   Mean   : 3.002  \n",
       " 3rd Qu.: 66.00   3rd Qu.:10.0   3rd Qu.: 2.000   3rd Qu.: 3.000  \n",
       " Max.   :262.00   Max.   :67.0   Max.   :36.000   Max.   :73.000  \n",
       " NA's   :6413     NA's   :6413   NA's   :6413     NA's   :6413    \n",
       "      RBI               SB                CS               BB        \n",
       " Min.   :  0.00   Min.   :  0.000   Min.   : 0.000   Min.   :  0.00  \n",
       " 1st Qu.:  0.00   1st Qu.:  0.000   1st Qu.: 0.000   1st Qu.:  0.00  \n",
       " Median :  5.00   Median :  0.000   Median : 0.000   Median :  4.00  \n",
       " Mean   : 18.47   Mean   :  3.265   Mean   : 1.385   Mean   : 14.21  \n",
       " 3rd Qu.: 28.00   3rd Qu.:  2.000   3rd Qu.: 1.000   3rd Qu.: 21.00  \n",
       " Max.   :191.00   Max.   :138.000   Max.   :42.000   Max.   :232.00  \n",
       " NA's   :6837     NA's   :7713      NA's   :29867    NA's   :6413    \n",
       "       SO              IBB              HBP               SH        \n",
       " Min.   :  0.00   Min.   :  0.00   Min.   : 0.000   Min.   : 0.000  \n",
       " 1st Qu.:  2.00   1st Qu.:  0.00   1st Qu.: 0.000   1st Qu.: 0.000  \n",
       " Median : 11.00   Median :  0.00   Median : 0.000   Median : 1.000  \n",
       " Mean   : 21.95   Mean   :  1.28   Mean   : 1.136   Mean   : 2.564  \n",
       " 3rd Qu.: 31.00   3rd Qu.:  1.00   3rd Qu.: 1.000   3rd Qu.: 3.000  \n",
       " Max.   :223.00   Max.   :120.00   Max.   :51.000   Max.   :67.000  \n",
       " NA's   :14251    NA's   :42977    NA's   :9233     NA's   :12751   \n",
       "       SF             GIDP           G_old       \n",
       " Min.   : 0.0    Min.   : 0.00   Min.   :  0.00  \n",
       " 1st Qu.: 0.0    1st Qu.: 0.00   1st Qu.: 11.00  \n",
       " Median : 0.0    Median : 1.00   Median : 34.00  \n",
       " Mean   : 1.2    Mean   : 3.33   Mean   : 50.99  \n",
       " 3rd Qu.: 2.0    3rd Qu.: 5.00   3rd Qu.: 82.00  \n",
       " Max.   :19.0    Max.   :36.00   Max.   :165.00  \n",
       " NA's   :42446   NA's   :32521   NA's   :5189    "
      ]
     },
     "metadata": {},
     "output_type": "display_data"
    }
   ],
   "source": [
    "summary(batting)"
   ]
  },
  {
   "cell_type": "code",
   "execution_count": 4,
   "metadata": {
    "collapsed": false
   },
   "outputs": [
    {
     "name": "stdout",
     "output_type": "stream",
     "text": [
      "'data.frame':\t97889 obs. of  24 variables:\n",
      " $ playerID : Factor w/ 18107 levels \"aardsda01\",\"aaronha01\",..: 1 1 1 1 1 1 1 2 2 2 ...\n",
      " $ yearID   : int  2004 2006 2007 2008 2009 2010 2012 1954 1955 1956 ...\n",
      " $ stint    : int  1 1 1 1 1 1 1 1 1 1 ...\n",
      " $ teamID   : Factor w/ 149 levels \"ALT\",\"ANA\",\"ARI\",..: 117 35 33 16 116 116 93 80 80 80 ...\n",
      " $ lgID     : Factor w/ 6 levels \"AA\",\"AL\",\"FL\",..: 4 4 2 2 2 2 2 4 4 4 ...\n",
      " $ G        : int  11 45 25 47 73 53 1 122 153 153 ...\n",
      " $ G_batting: int  11 43 2 5 3 4 NA 122 153 153 ...\n",
      " $ AB       : int  0 2 0 1 0 0 NA 468 602 609 ...\n",
      " $ R        : int  0 0 0 0 0 0 NA 58 105 106 ...\n",
      " $ H        : int  0 0 0 0 0 0 NA 131 189 200 ...\n",
      " $ X2B      : int  0 0 0 0 0 0 NA 27 37 34 ...\n",
      " $ X3B      : int  0 0 0 0 0 0 NA 6 9 14 ...\n",
      " $ HR       : int  0 0 0 0 0 0 NA 13 27 26 ...\n",
      " $ RBI      : int  0 0 0 0 0 0 NA 69 106 92 ...\n",
      " $ SB       : int  0 0 0 0 0 0 NA 2 3 2 ...\n",
      " $ CS       : int  0 0 0 0 0 0 NA 2 1 4 ...\n",
      " $ BB       : int  0 0 0 0 0 0 NA 28 49 37 ...\n",
      " $ SO       : int  0 0 0 1 0 0 NA 39 61 54 ...\n",
      " $ IBB      : int  0 0 0 0 0 0 NA NA 5 6 ...\n",
      " $ HBP      : int  0 0 0 0 0 0 NA 3 3 2 ...\n",
      " $ SH       : int  0 1 0 0 0 0 NA 6 7 5 ...\n",
      " $ SF       : int  0 0 0 0 0 0 NA 4 4 7 ...\n",
      " $ GIDP     : int  0 0 0 0 0 0 NA 13 20 21 ...\n",
      " $ G_old    : int  11 45 2 5 NA NA NA 122 153 153 ...\n"
     ]
    }
   ],
   "source": [
    "str(batting)"
   ]
  },
  {
   "cell_type": "code",
   "execution_count": 7,
   "metadata": {
    "collapsed": false
   },
   "outputs": [
    {
     "data": {
      "text/html": [
       "<ol class=list-inline>\n",
       "\t<li>0</li>\n",
       "\t<li>0</li>\n",
       "\t<li>0</li>\n",
       "\t<li>0</li>\n",
       "\t<li>0</li>\n",
       "\t<li>0</li>\n",
       "</ol>\n"
      ],
      "text/latex": [
       "\\begin{enumerate*}\n",
       "\\item 0\n",
       "\\item 0\n",
       "\\item 0\n",
       "\\item 0\n",
       "\\item 0\n",
       "\\item 0\n",
       "\\end{enumerate*}\n"
      ],
      "text/markdown": [
       "1. 0\n",
       "2. 0\n",
       "3. 0\n",
       "4. 0\n",
       "5. 0\n",
       "6. 0\n",
       "\n",
       "\n"
      ],
      "text/plain": [
       "[1] 0 0 0 0 0 0"
      ]
     },
     "metadata": {},
     "output_type": "display_data"
    }
   ],
   "source": [
    "head(batting$X2B)"
   ]
  },
  {
   "cell_type": "code",
   "execution_count": 12,
   "metadata": {
    "collapsed": false
   },
   "outputs": [],
   "source": [
    "batting$BA <- batting$H/batting$AB"
   ]
  },
  {
   "cell_type": "code",
   "execution_count": 13,
   "metadata": {
    "collapsed": false
   },
   "outputs": [
    {
     "data": {
      "text/html": [
       "<ol class=list-inline>\n",
       "\t<li>0.123076923076923</li>\n",
       "\t<li>0.274647887323944</li>\n",
       "\t<li>0.147058823529412</li>\n",
       "\t<li>0.274509803921569</li>\n",
       "\t<li>0.213872832369942</li>\n",
       "</ol>\n"
      ],
      "text/latex": [
       "\\begin{enumerate*}\n",
       "\\item 0.123076923076923\n",
       "\\item 0.274647887323944\n",
       "\\item 0.147058823529412\n",
       "\\item 0.274509803921569\n",
       "\\item 0.213872832369942\n",
       "\\end{enumerate*}\n"
      ],
      "text/markdown": [
       "1. 0.123076923076923\n",
       "2. 0.274647887323944\n",
       "3. 0.147058823529412\n",
       "4. 0.274509803921569\n",
       "5. 0.213872832369942\n",
       "\n",
       "\n"
      ],
      "text/plain": [
       "[1] 0.1230769 0.2746479 0.1470588 0.2745098 0.2138728"
      ]
     },
     "metadata": {},
     "output_type": "display_data"
    }
   ],
   "source": [
    "tail(batting$BA,5)"
   ]
  },
  {
   "cell_type": "code",
   "execution_count": 15,
   "metadata": {
    "collapsed": false
   },
   "outputs": [],
   "source": [
    "batting$OBP <- (batting$H + batting$BB + batting$HBP)/(batting$AB + batting$BB + batting$HBP + batting$SF)"
   ]
  },
  {
   "cell_type": "code",
   "execution_count": 16,
   "metadata": {
    "collapsed": true
   },
   "outputs": [],
   "source": [
    "batting$X1B <- batting$H - batting$X2B - batting$X3B - batting$HR"
   ]
  },
  {
   "cell_type": "code",
   "execution_count": 17,
   "metadata": {
    "collapsed": true
   },
   "outputs": [],
   "source": [
    "batting$SLG <- (batting$H + 2*batting$X2B + 3*batting$X3B + 4*batting$HR)/batting$AB"
   ]
  },
  {
   "cell_type": "code",
   "execution_count": 18,
   "metadata": {
    "collapsed": false
   },
   "outputs": [
    {
     "name": "stdout",
     "output_type": "stream",
     "text": [
      "'data.frame':\t97889 obs. of  28 variables:\n",
      " $ playerID : Factor w/ 18107 levels \"aardsda01\",\"aaronha01\",..: 1 1 1 1 1 1 1 2 2 2 ...\n",
      " $ yearID   : int  2004 2006 2007 2008 2009 2010 2012 1954 1955 1956 ...\n",
      " $ stint    : int  1 1 1 1 1 1 1 1 1 1 ...\n",
      " $ teamID   : Factor w/ 149 levels \"ALT\",\"ANA\",\"ARI\",..: 117 35 33 16 116 116 93 80 80 80 ...\n",
      " $ lgID     : Factor w/ 6 levels \"AA\",\"AL\",\"FL\",..: 4 4 2 2 2 2 2 4 4 4 ...\n",
      " $ G        : int  11 45 25 47 73 53 1 122 153 153 ...\n",
      " $ G_batting: int  11 43 2 5 3 4 NA 122 153 153 ...\n",
      " $ AB       : int  0 2 0 1 0 0 NA 468 602 609 ...\n",
      " $ R        : int  0 0 0 0 0 0 NA 58 105 106 ...\n",
      " $ H        : int  0 0 0 0 0 0 NA 131 189 200 ...\n",
      " $ X2B      : int  0 0 0 0 0 0 NA 27 37 34 ...\n",
      " $ X3B      : int  0 0 0 0 0 0 NA 6 9 14 ...\n",
      " $ HR       : int  0 0 0 0 0 0 NA 13 27 26 ...\n",
      " $ RBI      : int  0 0 0 0 0 0 NA 69 106 92 ...\n",
      " $ SB       : int  0 0 0 0 0 0 NA 2 3 2 ...\n",
      " $ CS       : int  0 0 0 0 0 0 NA 2 1 4 ...\n",
      " $ BB       : int  0 0 0 0 0 0 NA 28 49 37 ...\n",
      " $ SO       : int  0 0 0 1 0 0 NA 39 61 54 ...\n",
      " $ IBB      : int  0 0 0 0 0 0 NA NA 5 6 ...\n",
      " $ HBP      : int  0 0 0 0 0 0 NA 3 3 2 ...\n",
      " $ SH       : int  0 1 0 0 0 0 NA 6 7 5 ...\n",
      " $ SF       : int  0 0 0 0 0 0 NA 4 4 7 ...\n",
      " $ GIDP     : int  0 0 0 0 0 0 NA 13 20 21 ...\n",
      " $ G_old    : int  11 45 2 5 NA NA NA 122 153 153 ...\n",
      " $ BA       : num  NaN 0 NaN 0 NaN ...\n",
      " $ OBP      : num  NaN 0 NaN 0 NaN ...\n",
      " $ X1B      : int  0 0 0 0 0 0 NA 85 116 126 ...\n",
      " $ SLG      : num  NaN 0 NaN 0 NaN ...\n"
     ]
    }
   ],
   "source": [
    "str(batting)"
   ]
  },
  {
   "cell_type": "code",
   "execution_count": 19,
   "metadata": {
    "collapsed": true
   },
   "outputs": [],
   "source": [
    "sal <- read.csv('Salaries.csv')"
   ]
  },
  {
   "cell_type": "code",
   "execution_count": 21,
   "metadata": {
    "collapsed": false
   },
   "outputs": [
    {
     "data": {
      "text/plain": [
       "      playerID         yearID         stint           teamID        lgID      \n",
       " mcguide01:   31   Min.   :1871   Min.   :1.000   CHN    : 4720   AA  : 1890  \n",
       " henderi01:   29   1st Qu.:1931   1st Qu.:1.000   PHI    : 4621   AL  :44369  \n",
       " newsobo01:   29   Median :1970   Median :1.000   PIT    : 4575   FL  :  470  \n",
       " johnto01 :   28   Mean   :1962   Mean   :1.077   SLN    : 4535   NL  :49944  \n",
       " kaatji01 :   28   3rd Qu.:1995   3rd Qu.:1.000   CIN    : 4393   PL  :  147  \n",
       " ansonca01:   27   Max.   :2013   Max.   :5.000   CLE    : 4318   UA  :  332  \n",
       " (Other)  :97717                                  (Other):70727   NA's:  737  \n",
       "       G            G_batting            AB              R         \n",
       " Min.   :  1.00   Min.   :  0.00   Min.   :  0.0   Min.   :  0.00  \n",
       " 1st Qu.: 13.00   1st Qu.:  7.00   1st Qu.:  9.0   1st Qu.:  0.00  \n",
       " Median : 35.00   Median : 32.00   Median : 61.0   Median :  5.00  \n",
       " Mean   : 51.65   Mean   : 49.13   Mean   :154.1   Mean   : 20.47  \n",
       " 3rd Qu.: 81.00   3rd Qu.: 81.00   3rd Qu.:260.0   3rd Qu.: 31.00  \n",
       " Max.   :165.00   Max.   :165.00   Max.   :716.0   Max.   :192.00  \n",
       "                  NA's   :1406     NA's   :6413    NA's   :6413    \n",
       "       H               X2B            X3B               HR        \n",
       " Min.   :  0.00   Min.   : 0.0   Min.   : 0.000   Min.   : 0.000  \n",
       " 1st Qu.:  1.00   1st Qu.: 0.0   1st Qu.: 0.000   1st Qu.: 0.000  \n",
       " Median : 12.00   Median : 2.0   Median : 0.000   Median : 0.000  \n",
       " Mean   : 40.37   Mean   : 6.8   Mean   : 1.424   Mean   : 3.002  \n",
       " 3rd Qu.: 66.00   3rd Qu.:10.0   3rd Qu.: 2.000   3rd Qu.: 3.000  \n",
       " Max.   :262.00   Max.   :67.0   Max.   :36.000   Max.   :73.000  \n",
       " NA's   :6413     NA's   :6413   NA's   :6413     NA's   :6413    \n",
       "      RBI               SB                CS               BB        \n",
       " Min.   :  0.00   Min.   :  0.000   Min.   : 0.000   Min.   :  0.00  \n",
       " 1st Qu.:  0.00   1st Qu.:  0.000   1st Qu.: 0.000   1st Qu.:  0.00  \n",
       " Median :  5.00   Median :  0.000   Median : 0.000   Median :  4.00  \n",
       " Mean   : 18.47   Mean   :  3.265   Mean   : 1.385   Mean   : 14.21  \n",
       " 3rd Qu.: 28.00   3rd Qu.:  2.000   3rd Qu.: 1.000   3rd Qu.: 21.00  \n",
       " Max.   :191.00   Max.   :138.000   Max.   :42.000   Max.   :232.00  \n",
       " NA's   :6837     NA's   :7713      NA's   :29867    NA's   :6413    \n",
       "       SO              IBB              HBP               SH        \n",
       " Min.   :  0.00   Min.   :  0.00   Min.   : 0.000   Min.   : 0.000  \n",
       " 1st Qu.:  2.00   1st Qu.:  0.00   1st Qu.: 0.000   1st Qu.: 0.000  \n",
       " Median : 11.00   Median :  0.00   Median : 0.000   Median : 1.000  \n",
       " Mean   : 21.95   Mean   :  1.28   Mean   : 1.136   Mean   : 2.564  \n",
       " 3rd Qu.: 31.00   3rd Qu.:  1.00   3rd Qu.: 1.000   3rd Qu.: 3.000  \n",
       " Max.   :223.00   Max.   :120.00   Max.   :51.000   Max.   :67.000  \n",
       " NA's   :14251    NA's   :42977    NA's   :9233     NA's   :12751   \n",
       "       SF             GIDP           G_old              BA       \n",
       " Min.   : 0.0    Min.   : 0.00   Min.   :  0.00   Min.   :0.000  \n",
       " 1st Qu.: 0.0    1st Qu.: 0.00   1st Qu.: 11.00   1st Qu.:0.148  \n",
       " Median : 0.0    Median : 1.00   Median : 34.00   Median :0.231  \n",
       " Mean   : 1.2    Mean   : 3.33   Mean   : 50.99   Mean   :0.209  \n",
       " 3rd Qu.: 2.0    3rd Qu.: 5.00   3rd Qu.: 82.00   3rd Qu.:0.275  \n",
       " Max.   :19.0    Max.   :36.00   Max.   :165.00   Max.   :1.000  \n",
       " NA's   :42446   NA's   :32521   NA's   :5189     NA's   :13520  \n",
       "      OBP             X1B              SLG       \n",
       " Min.   :0.00    Min.   :  0.00   Min.   :0.000  \n",
       " 1st Qu.:0.19    1st Qu.:  1.00   1st Qu.:0.197  \n",
       " Median :0.29    Median :  9.00   Median :0.356  \n",
       " Mean   :0.26    Mean   : 29.14   Mean   :0.342  \n",
       " 3rd Qu.:0.34    3rd Qu.: 48.00   3rd Qu.:0.474  \n",
       " Max.   :1.00    Max.   :225.00   Max.   :5.000  \n",
       " NA's   :49115   NA's   :6413     NA's   :13520  "
      ]
     },
     "metadata": {},
     "output_type": "display_data"
    }
   ],
   "source": [
    "summary(batting)"
   ]
  },
  {
   "cell_type": "code",
   "execution_count": 23,
   "metadata": {
    "collapsed": true
   },
   "outputs": [],
   "source": [
    "batting <- subset(batting, yearID >= 1985)"
   ]
  },
  {
   "cell_type": "code",
   "execution_count": 24,
   "metadata": {
    "collapsed": false
   },
   "outputs": [
    {
     "data": {
      "text/plain": [
       "      playerID         yearID         stint          teamID      lgID      \n",
       " moyerja01:   27   Min.   :1985   Min.   :1.00   SDN    : 1313   AA:    0  \n",
       " mulhote01:   26   1st Qu.:1993   1st Qu.:1.00   CLE    : 1306   AL:17226  \n",
       " weathda01:   26   Median :2000   Median :1.00   PIT    : 1299   FL:    0  \n",
       " maddugr01:   25   Mean   :2000   Mean   :1.08   NYN    : 1297   NL:18426  \n",
       " sierrru01:   25   3rd Qu.:2007   3rd Qu.:1.00   BOS    : 1279   PL:    0  \n",
       " thomeji01:   25   Max.   :2013   Max.   :4.00   CIN    : 1279   UA:    0  \n",
       " (Other)  :35498                                 (Other):27879             \n",
       "       G           G_batting            AB              R         \n",
       " Min.   :  1.0   Min.   :  0.00   Min.   :  0.0   Min.   :  0.00  \n",
       " 1st Qu.: 14.0   1st Qu.:  4.00   1st Qu.:  3.0   1st Qu.:  0.00  \n",
       " Median : 34.0   Median : 27.00   Median : 47.0   Median :  4.00  \n",
       " Mean   : 51.7   Mean   : 46.28   Mean   :144.7   Mean   : 19.44  \n",
       " 3rd Qu.: 77.0   3rd Qu.: 77.00   3rd Qu.:241.0   3rd Qu.: 30.00  \n",
       " Max.   :163.0   Max.   :163.00   Max.   :716.0   Max.   :152.00  \n",
       "                 NA's   :1406     NA's   :4377    NA's   :4377    \n",
       "       H               X2B              X3B               HR        \n",
       " Min.   :  0.00   Min.   : 0.000   Min.   : 0.000   Min.   : 0.000  \n",
       " 1st Qu.:  0.00   1st Qu.: 0.000   1st Qu.: 0.000   1st Qu.: 0.000  \n",
       " Median :  8.00   Median : 1.000   Median : 0.000   Median : 0.000  \n",
       " Mean   : 37.95   Mean   : 7.293   Mean   : 0.824   Mean   : 4.169  \n",
       " 3rd Qu.: 61.00   3rd Qu.:11.000   3rd Qu.: 1.000   3rd Qu.: 5.000  \n",
       " Max.   :262.00   Max.   :59.000   Max.   :23.000   Max.   :73.000  \n",
       " NA's   :4377     NA's   :4377     NA's   :4377     NA's   :4377    \n",
       "      RBI               SB                CS               BB        \n",
       " Min.   :  0.00   Min.   :  0.000   Min.   : 0.000   Min.   :  0.00  \n",
       " 1st Qu.:  0.00   1st Qu.:  0.000   1st Qu.: 0.000   1st Qu.:  0.00  \n",
       " Median :  3.00   Median :  0.000   Median : 0.000   Median :  3.00  \n",
       " Mean   : 18.41   Mean   :  2.811   Mean   : 1.219   Mean   : 14.06  \n",
       " 3rd Qu.: 27.00   3rd Qu.:  2.000   3rd Qu.: 1.000   3rd Qu.: 21.00  \n",
       " Max.   :165.00   Max.   :110.000   Max.   :29.000   Max.   :232.00  \n",
       " NA's   :4377     NA's   :4377      NA's   :4377     NA's   :4377    \n",
       "       SO              IBB               HBP               SH        \n",
       " Min.   :  0.00   Min.   :  0.000   Min.   : 0.000   Min.   : 0.000  \n",
       " 1st Qu.:  1.00   1st Qu.:  0.000   1st Qu.: 0.000   1st Qu.: 0.000  \n",
       " Median : 12.00   Median :  0.000   Median : 0.000   Median : 0.000  \n",
       " Mean   : 27.03   Mean   :  1.171   Mean   : 1.273   Mean   : 1.465  \n",
       " 3rd Qu.: 42.00   3rd Qu.:  1.000   3rd Qu.: 1.000   3rd Qu.: 2.000  \n",
       " Max.   :223.00   Max.   :120.000   Max.   :35.000   Max.   :39.000  \n",
       " NA's   :4377     NA's   :4378      NA's   :4387     NA's   :4377    \n",
       "       SF              GIDP           G_old             BA       \n",
       " Min.   : 0.000   Min.   : 0.00   Min.   :  0.0   Min.   :0.000  \n",
       " 1st Qu.: 0.000   1st Qu.: 0.00   1st Qu.: 11.0   1st Qu.:0.136  \n",
       " Median : 0.000   Median : 1.00   Median : 32.0   Median :0.233  \n",
       " Mean   : 1.212   Mean   : 3.25   Mean   : 49.7   Mean   :0.205  \n",
       " 3rd Qu.: 2.000   3rd Qu.: 5.00   3rd Qu.: 77.0   3rd Qu.:0.274  \n",
       " Max.   :17.000   Max.   :35.00   Max.   :163.0   Max.   :1.000  \n",
       " NA's   :4378     NA's   :4377    NA's   :5189    NA's   :8905   \n",
       "      OBP             X1B              SLG       \n",
       " Min.   :0.000   Min.   :  0.00   Min.   :0.000  \n",
       " 1st Qu.:0.188   1st Qu.:  0.00   1st Qu.:0.182  \n",
       " Median :0.296   Median :  6.00   Median :0.396  \n",
       " Mean   :0.262   Mean   : 25.66   Mean   :0.363  \n",
       " 3rd Qu.:0.342   3rd Qu.: 42.00   3rd Qu.:0.510  \n",
       " Max.   :1.000   Max.   :225.00   Max.   :5.000  \n",
       " NA's   :8821    NA's   :4377     NA's   :8905   "
      ]
     },
     "metadata": {},
     "output_type": "display_data"
    }
   ],
   "source": [
    "summary(batting)"
   ]
  },
  {
   "cell_type": "code",
   "execution_count": 25,
   "metadata": {
    "collapsed": false
   },
   "outputs": [
    {
     "name": "stdout",
     "output_type": "stream",
     "text": [
      "'data.frame':\t23956 obs. of  5 variables:\n",
      " $ yearID  : int  1985 1985 1985 1985 1985 1985 1985 1985 1985 1985 ...\n",
      " $ teamID  : Factor w/ 35 levels \"ANA\",\"ARI\",\"ATL\",..: 4 4 4 4 4 4 4 4 4 4 ...\n",
      " $ lgID    : Factor w/ 2 levels \"AL\",\"NL\": 1 1 1 1 1 1 1 1 1 1 ...\n",
      " $ playerID: Factor w/ 4668 levels \"aardsda01\",\"aasedo01\",..: 2961 2517 3566 2304 1332 394 4061 2604 3634 2722 ...\n",
      " $ salary  : int  1472819 1090000 800000 725000 641667 625000 581250 560000 558333 547143 ...\n"
     ]
    }
   ],
   "source": [
    "str(sal)"
   ]
  },
  {
   "cell_type": "code",
   "execution_count": 26,
   "metadata": {
    "collapsed": false
   },
   "outputs": [
    {
     "data": {
      "text/plain": [
       "     yearID         teamID      lgID            playerID         salary        \n",
       " Min.   :1985   CLE    :  867   AL:11744   moyerja01:   25   Min.   :       0  \n",
       " 1st Qu.:1993   LAN    :  861   NL:12212   vizquom01:   24   1st Qu.:  250000  \n",
       " Median :1999   PHI    :  861              glavito02:   23   Median :  507950  \n",
       " Mean   :1999   SLN    :  858              bondsba01:   22   Mean   : 1864357  \n",
       " 3rd Qu.:2006   BAL    :  855              griffke02:   22   3rd Qu.: 2100000  \n",
       " Max.   :2013   NYA    :  855              thomeji01:   22   Max.   :33000000  \n",
       "                (Other):18799              (Other)  :23818                     "
      ]
     },
     "metadata": {},
     "output_type": "display_data"
    }
   ],
   "source": [
    "summary(sal)"
   ]
  },
  {
   "cell_type": "code",
   "execution_count": 27,
   "metadata": {
    "collapsed": true
   },
   "outputs": [],
   "source": [
    "combo <- merge(batting,sal,by=c('playerID','yearID'))"
   ]
  },
  {
   "cell_type": "code",
   "execution_count": 28,
   "metadata": {
    "collapsed": false
   },
   "outputs": [
    {
     "name": "stdout",
     "output_type": "stream",
     "text": [
      "'data.frame':\t25397 obs. of  31 variables:\n",
      " $ playerID : Factor w/ 18107 levels \"aardsda01\",\"aaronha01\",..: 1 1 1 1 1 1 4 4 4 4 ...\n",
      " $ yearID   : int  2004 2007 2008 2009 2010 2012 1986 1987 1988 1989 ...\n",
      " $ stint    : int  1 1 1 1 1 1 1 1 1 1 ...\n",
      " $ teamID.x : Factor w/ 149 levels \"ALT\",\"ANA\",\"ARI\",..: 117 33 16 116 116 93 5 5 5 94 ...\n",
      " $ lgID.x   : Factor w/ 6 levels \"AA\",\"AL\",\"FL\",..: 4 2 2 2 2 2 2 2 2 4 ...\n",
      " $ G        : int  11 25 47 73 53 1 66 7 35 49 ...\n",
      " $ G_batting: int  11 2 5 3 4 NA 0 0 0 49 ...\n",
      " $ AB       : int  0 0 1 0 0 NA NA NA NA 5 ...\n",
      " $ R        : int  0 0 0 0 0 NA NA NA NA 0 ...\n",
      " $ H        : int  0 0 0 0 0 NA NA NA NA 0 ...\n",
      " $ X2B      : int  0 0 0 0 0 NA NA NA NA 0 ...\n",
      " $ X3B      : int  0 0 0 0 0 NA NA NA NA 0 ...\n",
      " $ HR       : int  0 0 0 0 0 NA NA NA NA 0 ...\n",
      " $ RBI      : int  0 0 0 0 0 NA NA NA NA 0 ...\n",
      " $ SB       : int  0 0 0 0 0 NA NA NA NA 0 ...\n",
      " $ CS       : int  0 0 0 0 0 NA NA NA NA 0 ...\n",
      " $ BB       : int  0 0 0 0 0 NA NA NA NA 0 ...\n",
      " $ SO       : int  0 0 1 0 0 NA NA NA NA 3 ...\n",
      " $ IBB      : int  0 0 0 0 0 NA NA NA NA 0 ...\n",
      " $ HBP      : int  0 0 0 0 0 NA NA NA NA 0 ...\n",
      " $ SH       : int  0 0 0 0 0 NA NA NA NA 0 ...\n",
      " $ SF       : int  0 0 0 0 0 NA NA NA NA 0 ...\n",
      " $ GIDP     : int  0 0 0 0 0 NA NA NA NA 0 ...\n",
      " $ G_old    : int  11 2 5 NA NA NA 66 7 35 49 ...\n",
      " $ BA       : num  NaN NaN 0 NaN NaN NA NA NA NA 0 ...\n",
      " $ OBP      : num  NaN NaN 0 NaN NaN NA NA NA NA 0 ...\n",
      " $ X1B      : int  0 0 0 0 0 NA NA NA NA 0 ...\n",
      " $ SLG      : num  NaN NaN 0 NaN NaN NA NA NA NA 0 ...\n",
      " $ teamID.y : Factor w/ 35 levels \"ANA\",\"ARI\",\"ATL\",..: 30 7 5 29 29 23 4 4 4 24 ...\n",
      " $ lgID.y   : Factor w/ 2 levels \"AL\",\"NL\": 2 1 1 1 1 1 1 1 1 2 ...\n",
      " $ salary   : int  300000 387500 403250 419000 2750000 500000 600000 625000 675000 400000 ...\n"
     ]
    }
   ],
   "source": [
    "str(combo)"
   ]
  },
  {
   "cell_type": "code",
   "execution_count": 29,
   "metadata": {
    "collapsed": true
   },
   "outputs": [],
   "source": [
    "lost_players <- subset(combo,playerID %in% c('giambja01','damonjo01','saenzol01') )"
   ]
  },
  {
   "cell_type": "code",
   "execution_count": 30,
   "metadata": {
    "collapsed": false
   },
   "outputs": [
    {
     "data": {
      "text/html": [
       "<table>\n",
       "<thead><tr><th></th><th scope=col>playerID</th><th scope=col>yearID</th><th scope=col>stint</th><th scope=col>teamID.x</th><th scope=col>lgID.x</th><th scope=col>G</th><th scope=col>G_batting</th><th scope=col>AB</th><th scope=col>R</th><th scope=col>H</th><th scope=col>⋯</th><th scope=col>SF</th><th scope=col>GIDP</th><th scope=col>G_old</th><th scope=col>BA</th><th scope=col>OBP</th><th scope=col>X1B</th><th scope=col>SLG</th><th scope=col>teamID.y</th><th scope=col>lgID.y</th><th scope=col>salary</th></tr></thead>\n",
       "<tbody>\n",
       "\t<tr><th scope=row>5135</th><td>damonjo01</td><td>1995     </td><td>1        </td><td>KCA      </td><td>AL       </td><td> 47      </td><td> 47      </td><td>188      </td><td> 32      </td><td> 53      </td><td>⋯        </td><td> 3       </td><td> 2       </td><td> 47      </td><td>0.2819149</td><td>0.3235294</td><td> 34      </td><td>0.5425532</td><td>KCA      </td><td>AL       </td><td>  109000 </td></tr>\n",
       "\t<tr><th scope=row>5136</th><td>damonjo01</td><td>1996     </td><td>1        </td><td>KCA      </td><td>AL       </td><td>145      </td><td>145      </td><td>517      </td><td> 61      </td><td>140      </td><td>⋯        </td><td> 5       </td><td> 4       </td><td>145      </td><td>0.2707930</td><td>0.3129496</td><td>107      </td><td>0.4313346</td><td>KCA      </td><td>AL       </td><td>  180000 </td></tr>\n",
       "\t<tr><th scope=row>5137</th><td>damonjo01</td><td>1997     </td><td>1        </td><td>KCA      </td><td>AL       </td><td>146      </td><td>146      </td><td>472      </td><td> 70      </td><td>130      </td><td>⋯        </td><td> 1       </td><td> 3       </td><td>146      </td><td>0.2754237</td><td>0.3378378</td><td>102      </td><td>0.4449153</td><td>KCA      </td><td>AL       </td><td>  240000 </td></tr>\n",
       "\t<tr><th scope=row>5138</th><td>damonjo01</td><td>1998     </td><td>1        </td><td>KCA      </td><td>AL       </td><td>161      </td><td>161      </td><td>642      </td><td>104      </td><td>178      </td><td>⋯        </td><td> 3       </td><td> 4       </td><td>161      </td><td>0.2772586</td><td>0.3394625</td><td>120      </td><td>0.5295950</td><td>KCA      </td><td>AL       </td><td>  460000 </td></tr>\n",
       "\t<tr><th scope=row>5139</th><td>damonjo01</td><td>1999     </td><td>1        </td><td>KCA      </td><td>AL       </td><td>145      </td><td>145      </td><td>583      </td><td>101      </td><td>179      </td><td>⋯        </td><td> 4       </td><td>13       </td><td>145      </td><td>0.3070326</td><td>0.3789954</td><td>117      </td><td>0.5831904</td><td>KCA      </td><td>AL       </td><td> 2100000 </td></tr>\n",
       "\t<tr><th scope=row>5140</th><td>damonjo01</td><td>2000     </td><td>1        </td><td>KCA      </td><td>AL       </td><td>159      </td><td>159      </td><td>655      </td><td>136      </td><td>214      </td><td>⋯        </td><td>12       </td><td> 7       </td><td>159      </td><td>0.3267176</td><td>0.3819918</td><td>146      </td><td>0.5984733</td><td>KCA      </td><td>AL       </td><td> 4000000 </td></tr>\n",
       "\t<tr><th scope=row>5141</th><td>damonjo01</td><td>2001     </td><td>1        </td><td>OAK      </td><td>AL       </td><td>155      </td><td>155      </td><td>644      </td><td>108      </td><td>165      </td><td>⋯        </td><td> 4       </td><td> 7       </td><td>155      </td><td>0.2562112</td><td>0.3235294</td><td>118      </td><td>0.4363354</td><td>OAK      </td><td>AL       </td><td> 7100000 </td></tr>\n",
       "\t<tr><th scope=row>5142</th><td>damonjo01</td><td>2002     </td><td>1        </td><td>BOS      </td><td>AL       </td><td>154      </td><td>154      </td><td>623      </td><td>118      </td><td>178      </td><td>⋯        </td><td> 5       </td><td> 4       </td><td>154      </td><td>0.2857143</td><td>0.3562232</td><td>119      </td><td>0.5377207</td><td>BOS      </td><td>AL       </td><td> 7250000 </td></tr>\n",
       "\t<tr><th scope=row>5143</th><td>damonjo01</td><td>2003     </td><td>1        </td><td>BOS      </td><td>AL       </td><td>145      </td><td>145      </td><td>608      </td><td>103      </td><td>166      </td><td>⋯        </td><td> 6       </td><td> 5       </td><td>145      </td><td>0.2730263</td><td>0.3450292</td><td>116      </td><td>0.4868421</td><td>BOS      </td><td>AL       </td><td> 7500000 </td></tr>\n",
       "\t<tr><th scope=row>5144</th><td>damonjo01</td><td>2004     </td><td>1        </td><td>BOS      </td><td>AL       </td><td>150      </td><td>150      </td><td>621      </td><td>123      </td><td>189      </td><td>⋯        </td><td> 3       </td><td> 8       </td><td>150      </td><td>0.3043478</td><td>0.3803419</td><td>128      </td><td>0.5748792</td><td>BOS      </td><td>AL       </td><td> 8000000 </td></tr>\n",
       "\t<tr><th scope=row>5145</th><td>damonjo01</td><td>2005     </td><td>1        </td><td>BOS      </td><td>AL       </td><td>148      </td><td>148      </td><td>624      </td><td>117      </td><td>197      </td><td>⋯        </td><td> 9       </td><td> 5       </td><td>148      </td><td>0.3157051</td><td>0.3662791</td><td>146      </td><td>0.5208333</td><td>BOS      </td><td>AL       </td><td> 8250000 </td></tr>\n",
       "\t<tr><th scope=row>5146</th><td>damonjo01</td><td>2006     </td><td>1        </td><td>NYA      </td><td>AL       </td><td>149      </td><td>149      </td><td>593      </td><td>115      </td><td>169      </td><td>⋯        </td><td> 5       </td><td> 4       </td><td>149      </td><td>0.2849916</td><td>0.3587444</td><td>105      </td><td>0.5902192</td><td>NYA      </td><td>AL       </td><td>13000000 </td></tr>\n",
       "\t<tr><th scope=row>5147</th><td>damonjo01</td><td>2007     </td><td>1        </td><td>NYA      </td><td>AL       </td><td>141      </td><td>141      </td><td>533      </td><td> 93      </td><td>144      </td><td>⋯        </td><td> 3       </td><td> 4       </td><td>141      </td><td>0.2701689</td><td>0.3509934</td><td>103      </td><td>0.4727955</td><td>NYA      </td><td>AL       </td><td>13000000 </td></tr>\n",
       "\t<tr><th scope=row>5148</th><td>damonjo01</td><td>2008     </td><td>1        </td><td>NYA      </td><td>AL       </td><td>143      </td><td>143      </td><td>555      </td><td> 95      </td><td>168      </td><td>⋯        </td><td> 1       </td><td> 5       </td><td>143      </td><td>0.3027027</td><td>0.3752013</td><td>119      </td><td>0.5495495</td><td>NYA      </td><td>AL       </td><td>13000000 </td></tr>\n",
       "\t<tr><th scope=row>5149</th><td>damonjo01</td><td>2009     </td><td>1        </td><td>NYA      </td><td>AL       </td><td>143      </td><td>143      </td><td>550      </td><td>107      </td><td>155      </td><td>⋯        </td><td> 1       </td><td> 9       </td><td> NA      </td><td>0.2818182</td><td>0.3653846</td><td> 92      </td><td>0.6036364</td><td>NYA      </td><td>AL       </td><td>13000000 </td></tr>\n",
       "\t<tr><th scope=row>5150</th><td>damonjo01</td><td>2010     </td><td>1        </td><td>DET      </td><td>AL       </td><td>145      </td><td>145      </td><td>539      </td><td> 81      </td><td>146      </td><td>⋯        </td><td> 1       </td><td> 5       </td><td> NA      </td><td>0.2708720</td><td>0.3551555</td><td> 97      </td><td>0.4916512</td><td>DET      </td><td>AL       </td><td> 8000000 </td></tr>\n",
       "\t<tr><th scope=row>5151</th><td>damonjo01</td><td>2011     </td><td>1        </td><td>TBA      </td><td>AL       </td><td>150      </td><td>150      </td><td>582      </td><td> 79      </td><td>152      </td><td>⋯        </td><td> 5       </td><td> 4       </td><td>150      </td><td>0.2611684</td><td>0.3255814</td><td>100      </td><td>0.5068729</td><td>TBA      </td><td>AL       </td><td> 5250000 </td></tr>\n",
       "\t<tr><th scope=row>7872</th><td>giambja01</td><td>1995     </td><td>1        </td><td>OAK      </td><td>AL       </td><td> 54      </td><td> 54      </td><td>176      </td><td> 27      </td><td> 45      </td><td>⋯        </td><td> 2       </td><td> 4       </td><td> 54      </td><td>0.2556818</td><td>0.3636364</td><td> 32      </td><td>0.4715909</td><td>OAK      </td><td>AL       </td><td>  109000 </td></tr>\n",
       "\t<tr><th scope=row>7873</th><td>giambja01</td><td>1996     </td><td>1        </td><td>OAK      </td><td>AL       </td><td>140      </td><td>140      </td><td>536      </td><td> 84      </td><td>156      </td><td>⋯        </td><td> 5       </td><td>15       </td><td>140      </td><td>0.2910448</td><td>0.3551089</td><td> 95      </td><td>0.5951493</td><td>OAK      </td><td>AL       </td><td>  120000 </td></tr>\n",
       "\t<tr><th scope=row>7874</th><td>giambja01</td><td>1997     </td><td>1        </td><td>OAK      </td><td>AL       </td><td>142      </td><td>142      </td><td>519      </td><td> 66      </td><td>152      </td><td>⋯        </td><td> 8       </td><td>11       </td><td>142      </td><td>0.2928709</td><td>0.3622449</td><td> 89      </td><td>0.6165703</td><td>OAK      </td><td>AL       </td><td>  205000 </td></tr>\n",
       "\t<tr><th scope=row>7875</th><td>giambja01</td><td>1998     </td><td>1        </td><td>OAK      </td><td>AL       </td><td>153      </td><td>153      </td><td>562      </td><td> 92      </td><td>166      </td><td>⋯        </td><td> 9       </td><td>16       </td><td>153      </td><td>0.2953737</td><td>0.3835616</td><td>111      </td><td>0.5871886</td><td>OAK      </td><td>AL       </td><td>  315000 </td></tr>\n",
       "\t<tr><th scope=row>7876</th><td>giambja01</td><td>1999     </td><td>1        </td><td>OAK      </td><td>AL       </td><td>158      </td><td>158      </td><td>575      </td><td>115      </td><td>181      </td><td>⋯        </td><td> 8       </td><td>11       </td><td>158      </td><td>0.3147826</td><td>0.4215827</td><td>111      </td><td>0.6747826</td><td>OAK      </td><td>AL       </td><td> 2103333 </td></tr>\n",
       "\t<tr><th scope=row>7877</th><td>giambja01</td><td>2000     </td><td>1        </td><td>OAK      </td><td>AL       </td><td>152      </td><td>152      </td><td>510      </td><td>108      </td><td>170      </td><td>⋯        </td><td> 8       </td><td> 9       </td><td>152      </td><td>0.3333333</td><td>0.4759036</td><td> 97      </td><td>0.7901961</td><td>OAK      </td><td>AL       </td><td> 3103333 </td></tr>\n",
       "\t<tr><th scope=row>7878</th><td>giambja01</td><td>2001     </td><td>1        </td><td>OAK      </td><td>AL       </td><td>154      </td><td>154      </td><td>520      </td><td>109      </td><td>178      </td><td>⋯        </td><td> 9       </td><td>17       </td><td>154      </td><td>0.3423077</td><td>0.4769001</td><td> 91      </td><td>0.8269231</td><td>OAK      </td><td>AL       </td><td> 4103333 </td></tr>\n",
       "\t<tr><th scope=row>7879</th><td>giambja01</td><td>2002     </td><td>1        </td><td>NYA      </td><td>AL       </td><td>155      </td><td>155      </td><td>560      </td><td>120      </td><td>176      </td><td>⋯        </td><td> 5       </td><td>18       </td><td>155      </td><td>0.3142857</td><td>0.4354136</td><td>100      </td><td>0.7339286</td><td>NYA      </td><td>AL       </td><td>10428571 </td></tr>\n",
       "\t<tr><th scope=row>7880</th><td>giambja01</td><td>2003     </td><td>1        </td><td>NYA      </td><td>AL       </td><td>156      </td><td>156      </td><td>535      </td><td> 97      </td><td>134      </td><td>⋯        </td><td> 5       </td><td> 9       </td><td>156      </td><td>0.2504673</td><td>0.4115942</td><td> 68      </td><td>0.6504673</td><td>NYA      </td><td>AL       </td><td>11428571 </td></tr>\n",
       "\t<tr><th scope=row>7881</th><td>giambja01</td><td>2004     </td><td>1        </td><td>NYA      </td><td>AL       </td><td> 80      </td><td> 80      </td><td>264      </td><td> 33      </td><td> 55      </td><td>⋯        </td><td> 3       </td><td> 5       </td><td> 80      </td><td>0.2083333</td><td>0.3416149</td><td> 34      </td><td>0.4583333</td><td>NYA      </td><td>AL       </td><td>12428571 </td></tr>\n",
       "\t<tr><th scope=row>7882</th><td>giambja01</td><td>2005     </td><td>1        </td><td>NYA      </td><td>AL       </td><td>139      </td><td>139      </td><td>417      </td><td> 74      </td><td>113      </td><td>⋯        </td><td> 1       </td><td> 7       </td><td>139      </td><td>0.2709832</td><td>0.4403670</td><td> 67      </td><td>0.6450839</td><td>NYA      </td><td>AL       </td><td>13428571 </td></tr>\n",
       "\t<tr><th scope=row>7883</th><td>giambja01</td><td>2006     </td><td>1        </td><td>NYA      </td><td>AL       </td><td>139      </td><td>139      </td><td>446      </td><td> 92      </td><td>113      </td><td>⋯        </td><td> 7       </td><td>10       </td><td>139      </td><td>0.2533632</td><td>0.4127807</td><td> 51      </td><td>0.6973094</td><td>NYA      </td><td>AL       </td><td>20428571 </td></tr>\n",
       "\t<tr><th scope=row>7884</th><td>giambja01</td><td>2007     </td><td>1        </td><td>NYA      </td><td>AL       </td><td> 83      </td><td> 83      </td><td>254      </td><td> 31      </td><td> 60      </td><td>⋯        </td><td> 1       </td><td> 1       </td><td> 83      </td><td>0.2362205</td><td>0.3564356</td><td> 38      </td><td>0.5196850</td><td>NYA      </td><td>AL       </td><td>23428571 </td></tr>\n",
       "\t<tr><th scope=row>7885</th><td>giambja01</td><td>2008     </td><td>1        </td><td>NYA      </td><td>AL       </td><td>145      </td><td>145      </td><td>458      </td><td> 68      </td><td>113      </td><td>⋯        </td><td> 9       </td><td> 6       </td><td>145      </td><td>0.2467249</td><td>0.3734513</td><td> 61      </td><td>0.6157205</td><td>NYA      </td><td>AL       </td><td>23428571 </td></tr>\n",
       "\t<tr><th scope=row>7886</th><td>giambja01</td><td>2009     </td><td>1        </td><td>OAK      </td><td>AL       </td><td> 83      </td><td> 83      </td><td>269      </td><td> 39      </td><td> 52      </td><td>⋯        </td><td> 2       </td><td> 6       </td><td> NA      </td><td>0.1933086</td><td>0.3323171</td><td> 28      </td><td>0.4535316</td><td>OAK      </td><td>AL       </td><td> 4000000 </td></tr>\n",
       "\t<tr><th scope=row>7887</th><td>giambja01</td><td>2009     </td><td>2        </td><td>COL      </td><td>NL       </td><td> 19      </td><td> 19      </td><td> 24      </td><td>  4      </td><td>  7      </td><td>⋯        </td><td> 0       </td><td> 0       </td><td> NA      </td><td>0.2916667</td><td>0.4516129</td><td>  4      </td><td>0.7083333</td><td>OAK      </td><td>AL       </td><td> 4000000 </td></tr>\n",
       "\t<tr><th scope=row>7888</th><td>giambja01</td><td>2010     </td><td>1        </td><td>COL      </td><td>NL       </td><td> 87      </td><td> 87      </td><td>176      </td><td> 17      </td><td> 43      </td><td>⋯        </td><td> 5       </td><td> 5       </td><td> NA      </td><td>0.2443182</td><td>0.3783784</td><td> 28      </td><td>0.4829545</td><td>COL      </td><td>NL       </td><td> 1750000 </td></tr>\n",
       "\t<tr><th scope=row>7889</th><td>giambja01</td><td>2011     </td><td>1        </td><td>COL      </td><td>NL       </td><td> 64      </td><td> 64      </td><td>131      </td><td> 20      </td><td> 34      </td><td>⋯        </td><td> 1       </td><td> 1       </td><td> 64      </td><td>0.2595420</td><td>0.3552632</td><td> 15      </td><td>0.7480916</td><td>COL      </td><td>NL       </td><td> 1000000 </td></tr>\n",
       "\t<tr><th scope=row>7890</th><td>giambja01</td><td>2012     </td><td>1        </td><td>COL      </td><td>NL       </td><td> 60      </td><td> NA      </td><td> 89      </td><td>  7      </td><td> 20      </td><td>⋯        </td><td> 2       </td><td> 4       </td><td> NA      </td><td>0.2247191</td><td>0.3716814</td><td> 15      </td><td>0.3595506</td><td>COL      </td><td>NL       </td><td> 1000000 </td></tr>\n",
       "\t<tr><th scope=row>7891</th><td>giambja01</td><td>2013     </td><td>1        </td><td>CLE      </td><td>AL       </td><td> 71      </td><td> 71      </td><td>186      </td><td> 21      </td><td> 34      </td><td>⋯        </td><td> 3       </td><td> 8       </td><td> NA      </td><td>0.1827957</td><td>0.2824074</td><td> 17      </td><td>0.4623656</td><td>CLE      </td><td>AL       </td><td>  750000 </td></tr>\n",
       "\t<tr><th scope=row>20112</th><td>saenzol01</td><td>1999     </td><td>1        </td><td>OAK      </td><td>AL       </td><td> 97      </td><td> 97      </td><td>255      </td><td> 41      </td><td> 70      </td><td>⋯        </td><td> 3       </td><td> 6       </td><td> 97      </td><td>0.2745098</td><td>0.3627119</td><td> 41      </td><td>0.5882353</td><td>OAK      </td><td>AL       </td><td>  240000 </td></tr>\n",
       "\t<tr><th scope=row>20113</th><td>saenzol01</td><td>2000     </td><td>1        </td><td>OAK      </td><td>AL       </td><td> 76      </td><td> 76      </td><td>214      </td><td> 40      </td><td> 67      </td><td>⋯        </td><td> 1       </td><td> 6       </td><td> 76      </td><td>0.3130841</td><td>0.4008097</td><td> 44      </td><td>0.6214953</td><td>OAK      </td><td>AL       </td><td>  260000 </td></tr>\n",
       "\t<tr><th scope=row>20114</th><td>saenzol01</td><td>2001     </td><td>1        </td><td>OAK      </td><td>AL       </td><td>106      </td><td>106      </td><td>305      </td><td> 33      </td><td> 67      </td><td>⋯        </td><td> 3       </td><td> 9       </td><td>106      </td><td>0.2196721</td><td>0.2911765</td><td> 36      </td><td>0.4852459</td><td>OAK      </td><td>AL       </td><td>  290000 </td></tr>\n",
       "\t<tr><th scope=row>20115</th><td>saenzol01</td><td>2002     </td><td>1        </td><td>OAK      </td><td>AL       </td><td> 68      </td><td> 68      </td><td>156      </td><td> 15      </td><td> 43      </td><td>⋯        </td><td> 2       </td><td> 2       </td><td> 68      </td><td>0.2756410</td><td>0.3539326</td><td> 26      </td><td>0.5769231</td><td>OAK      </td><td>AL       </td><td>  800000 </td></tr>\n",
       "\t<tr><th scope=row>20116</th><td>saenzol01</td><td>2005     </td><td>1        </td><td>LAN      </td><td>NL       </td><td>109      </td><td>109      </td><td>319      </td><td> 39      </td><td> 84      </td><td>⋯        </td><td> 2       </td><td>12       </td><td>109      </td><td>0.2633229</td><td>0.3247863</td><td> 45      </td><td>0.6018809</td><td>LAN      </td><td>NL       </td><td>  650000 </td></tr>\n",
       "\t<tr><th scope=row>20117</th><td>saenzol01</td><td>2006     </td><td>1        </td><td>LAN      </td><td>NL       </td><td>103      </td><td>103      </td><td>179      </td><td> 30      </td><td> 53      </td><td>⋯        </td><td> 4       </td><td> 4       </td><td>103      </td><td>0.2960894</td><td>0.3627451</td><td> 27      </td><td>0.7094972</td><td>LAN      </td><td>NL       </td><td> 1000000 </td></tr>\n",
       "\t<tr><th scope=row>20118</th><td>saenzol01</td><td>2007     </td><td>1        </td><td>LAN      </td><td>NL       </td><td> 92      </td><td> 92      </td><td>110      </td><td>  9      </td><td> 21      </td><td>⋯        </td><td> 4       </td><td> 5       </td><td> 92      </td><td>0.1909091</td><td>0.2954545</td><td> 12      </td><td>0.4272727</td><td>LAN      </td><td>NL       </td><td> 1000000 </td></tr>\n",
       "</tbody>\n",
       "</table>\n"
      ],
      "text/latex": [
       "\\begin{tabular}{r|lllllllllllllllllllllllllllllll}\n",
       "  & playerID & yearID & stint & teamID.x & lgID.x & G & G\\_batting & AB & R & H & ⋯ & SF & GIDP & G\\_old & BA & OBP & X1B & SLG & teamID.y & lgID.y & salary\\\\\n",
       "\\hline\n",
       "\t5135 & damonjo01 & 1995      & 1         & KCA       & AL        &  47       &  47       & 188       &  32       &  53       & ⋯         &  3        &  2        &  47       & 0.2819149 & 0.3235294 &  34       & 0.5425532 & KCA       & AL        &   109000 \\\\\n",
       "\t5136 & damonjo01 & 1996      & 1         & KCA       & AL        & 145       & 145       & 517       &  61       & 140       & ⋯         &  5        &  4        & 145       & 0.2707930 & 0.3129496 & 107       & 0.4313346 & KCA       & AL        &   180000 \\\\\n",
       "\t5137 & damonjo01 & 1997      & 1         & KCA       & AL        & 146       & 146       & 472       &  70       & 130       & ⋯         &  1        &  3        & 146       & 0.2754237 & 0.3378378 & 102       & 0.4449153 & KCA       & AL        &   240000 \\\\\n",
       "\t5138 & damonjo01 & 1998      & 1         & KCA       & AL        & 161       & 161       & 642       & 104       & 178       & ⋯         &  3        &  4        & 161       & 0.2772586 & 0.3394625 & 120       & 0.5295950 & KCA       & AL        &   460000 \\\\\n",
       "\t5139 & damonjo01 & 1999      & 1         & KCA       & AL        & 145       & 145       & 583       & 101       & 179       & ⋯         &  4        & 13        & 145       & 0.3070326 & 0.3789954 & 117       & 0.5831904 & KCA       & AL        &  2100000 \\\\\n",
       "\t5140 & damonjo01 & 2000      & 1         & KCA       & AL        & 159       & 159       & 655       & 136       & 214       & ⋯         & 12        &  7        & 159       & 0.3267176 & 0.3819918 & 146       & 0.5984733 & KCA       & AL        &  4000000 \\\\\n",
       "\t5141 & damonjo01 & 2001      & 1         & OAK       & AL        & 155       & 155       & 644       & 108       & 165       & ⋯         &  4        &  7        & 155       & 0.2562112 & 0.3235294 & 118       & 0.4363354 & OAK       & AL        &  7100000 \\\\\n",
       "\t5142 & damonjo01 & 2002      & 1         & BOS       & AL        & 154       & 154       & 623       & 118       & 178       & ⋯         &  5        &  4        & 154       & 0.2857143 & 0.3562232 & 119       & 0.5377207 & BOS       & AL        &  7250000 \\\\\n",
       "\t5143 & damonjo01 & 2003      & 1         & BOS       & AL        & 145       & 145       & 608       & 103       & 166       & ⋯         &  6        &  5        & 145       & 0.2730263 & 0.3450292 & 116       & 0.4868421 & BOS       & AL        &  7500000 \\\\\n",
       "\t5144 & damonjo01 & 2004      & 1         & BOS       & AL        & 150       & 150       & 621       & 123       & 189       & ⋯         &  3        &  8        & 150       & 0.3043478 & 0.3803419 & 128       & 0.5748792 & BOS       & AL        &  8000000 \\\\\n",
       "\t5145 & damonjo01 & 2005      & 1         & BOS       & AL        & 148       & 148       & 624       & 117       & 197       & ⋯         &  9        &  5        & 148       & 0.3157051 & 0.3662791 & 146       & 0.5208333 & BOS       & AL        &  8250000 \\\\\n",
       "\t5146 & damonjo01 & 2006      & 1         & NYA       & AL        & 149       & 149       & 593       & 115       & 169       & ⋯         &  5        &  4        & 149       & 0.2849916 & 0.3587444 & 105       & 0.5902192 & NYA       & AL        & 13000000 \\\\\n",
       "\t5147 & damonjo01 & 2007      & 1         & NYA       & AL        & 141       & 141       & 533       &  93       & 144       & ⋯         &  3        &  4        & 141       & 0.2701689 & 0.3509934 & 103       & 0.4727955 & NYA       & AL        & 13000000 \\\\\n",
       "\t5148 & damonjo01 & 2008      & 1         & NYA       & AL        & 143       & 143       & 555       &  95       & 168       & ⋯         &  1        &  5        & 143       & 0.3027027 & 0.3752013 & 119       & 0.5495495 & NYA       & AL        & 13000000 \\\\\n",
       "\t5149 & damonjo01 & 2009      & 1         & NYA       & AL        & 143       & 143       & 550       & 107       & 155       & ⋯         &  1        &  9        &  NA       & 0.2818182 & 0.3653846 &  92       & 0.6036364 & NYA       & AL        & 13000000 \\\\\n",
       "\t5150 & damonjo01 & 2010      & 1         & DET       & AL        & 145       & 145       & 539       &  81       & 146       & ⋯         &  1        &  5        &  NA       & 0.2708720 & 0.3551555 &  97       & 0.4916512 & DET       & AL        &  8000000 \\\\\n",
       "\t5151 & damonjo01 & 2011      & 1         & TBA       & AL        & 150       & 150       & 582       &  79       & 152       & ⋯         &  5        &  4        & 150       & 0.2611684 & 0.3255814 & 100       & 0.5068729 & TBA       & AL        &  5250000 \\\\\n",
       "\t7872 & giambja01 & 1995      & 1         & OAK       & AL        &  54       &  54       & 176       &  27       &  45       & ⋯         &  2        &  4        &  54       & 0.2556818 & 0.3636364 &  32       & 0.4715909 & OAK       & AL        &   109000 \\\\\n",
       "\t7873 & giambja01 & 1996      & 1         & OAK       & AL        & 140       & 140       & 536       &  84       & 156       & ⋯         &  5        & 15        & 140       & 0.2910448 & 0.3551089 &  95       & 0.5951493 & OAK       & AL        &   120000 \\\\\n",
       "\t7874 & giambja01 & 1997      & 1         & OAK       & AL        & 142       & 142       & 519       &  66       & 152       & ⋯         &  8        & 11        & 142       & 0.2928709 & 0.3622449 &  89       & 0.6165703 & OAK       & AL        &   205000 \\\\\n",
       "\t7875 & giambja01 & 1998      & 1         & OAK       & AL        & 153       & 153       & 562       &  92       & 166       & ⋯         &  9        & 16        & 153       & 0.2953737 & 0.3835616 & 111       & 0.5871886 & OAK       & AL        &   315000 \\\\\n",
       "\t7876 & giambja01 & 1999      & 1         & OAK       & AL        & 158       & 158       & 575       & 115       & 181       & ⋯         &  8        & 11        & 158       & 0.3147826 & 0.4215827 & 111       & 0.6747826 & OAK       & AL        &  2103333 \\\\\n",
       "\t7877 & giambja01 & 2000      & 1         & OAK       & AL        & 152       & 152       & 510       & 108       & 170       & ⋯         &  8        &  9        & 152       & 0.3333333 & 0.4759036 &  97       & 0.7901961 & OAK       & AL        &  3103333 \\\\\n",
       "\t7878 & giambja01 & 2001      & 1         & OAK       & AL        & 154       & 154       & 520       & 109       & 178       & ⋯         &  9        & 17        & 154       & 0.3423077 & 0.4769001 &  91       & 0.8269231 & OAK       & AL        &  4103333 \\\\\n",
       "\t7879 & giambja01 & 2002      & 1         & NYA       & AL        & 155       & 155       & 560       & 120       & 176       & ⋯         &  5        & 18        & 155       & 0.3142857 & 0.4354136 & 100       & 0.7339286 & NYA       & AL        & 10428571 \\\\\n",
       "\t7880 & giambja01 & 2003      & 1         & NYA       & AL        & 156       & 156       & 535       &  97       & 134       & ⋯         &  5        &  9        & 156       & 0.2504673 & 0.4115942 &  68       & 0.6504673 & NYA       & AL        & 11428571 \\\\\n",
       "\t7881 & giambja01 & 2004      & 1         & NYA       & AL        &  80       &  80       & 264       &  33       &  55       & ⋯         &  3        &  5        &  80       & 0.2083333 & 0.3416149 &  34       & 0.4583333 & NYA       & AL        & 12428571 \\\\\n",
       "\t7882 & giambja01 & 2005      & 1         & NYA       & AL        & 139       & 139       & 417       &  74       & 113       & ⋯         &  1        &  7        & 139       & 0.2709832 & 0.4403670 &  67       & 0.6450839 & NYA       & AL        & 13428571 \\\\\n",
       "\t7883 & giambja01 & 2006      & 1         & NYA       & AL        & 139       & 139       & 446       &  92       & 113       & ⋯         &  7        & 10        & 139       & 0.2533632 & 0.4127807 &  51       & 0.6973094 & NYA       & AL        & 20428571 \\\\\n",
       "\t7884 & giambja01 & 2007      & 1         & NYA       & AL        &  83       &  83       & 254       &  31       &  60       & ⋯         &  1        &  1        &  83       & 0.2362205 & 0.3564356 &  38       & 0.5196850 & NYA       & AL        & 23428571 \\\\\n",
       "\t7885 & giambja01 & 2008      & 1         & NYA       & AL        & 145       & 145       & 458       &  68       & 113       & ⋯         &  9        &  6        & 145       & 0.2467249 & 0.3734513 &  61       & 0.6157205 & NYA       & AL        & 23428571 \\\\\n",
       "\t7886 & giambja01 & 2009      & 1         & OAK       & AL        &  83       &  83       & 269       &  39       &  52       & ⋯         &  2        &  6        &  NA       & 0.1933086 & 0.3323171 &  28       & 0.4535316 & OAK       & AL        &  4000000 \\\\\n",
       "\t7887 & giambja01 & 2009      & 2         & COL       & NL        &  19       &  19       &  24       &   4       &   7       & ⋯         &  0        &  0        &  NA       & 0.2916667 & 0.4516129 &   4       & 0.7083333 & OAK       & AL        &  4000000 \\\\\n",
       "\t7888 & giambja01 & 2010      & 1         & COL       & NL        &  87       &  87       & 176       &  17       &  43       & ⋯         &  5        &  5        &  NA       & 0.2443182 & 0.3783784 &  28       & 0.4829545 & COL       & NL        &  1750000 \\\\\n",
       "\t7889 & giambja01 & 2011      & 1         & COL       & NL        &  64       &  64       & 131       &  20       &  34       & ⋯         &  1        &  1        &  64       & 0.2595420 & 0.3552632 &  15       & 0.7480916 & COL       & NL        &  1000000 \\\\\n",
       "\t7890 & giambja01 & 2012      & 1         & COL       & NL        &  60       &  NA       &  89       &   7       &  20       & ⋯         &  2        &  4        &  NA       & 0.2247191 & 0.3716814 &  15       & 0.3595506 & COL       & NL        &  1000000 \\\\\n",
       "\t7891 & giambja01 & 2013      & 1         & CLE       & AL        &  71       &  71       & 186       &  21       &  34       & ⋯         &  3        &  8        &  NA       & 0.1827957 & 0.2824074 &  17       & 0.4623656 & CLE       & AL        &   750000 \\\\\n",
       "\t20112 & saenzol01 & 1999      & 1         & OAK       & AL        &  97       &  97       & 255       &  41       &  70       & ⋯         &  3        &  6        &  97       & 0.2745098 & 0.3627119 &  41       & 0.5882353 & OAK       & AL        &   240000 \\\\\n",
       "\t20113 & saenzol01 & 2000      & 1         & OAK       & AL        &  76       &  76       & 214       &  40       &  67       & ⋯         &  1        &  6        &  76       & 0.3130841 & 0.4008097 &  44       & 0.6214953 & OAK       & AL        &   260000 \\\\\n",
       "\t20114 & saenzol01 & 2001      & 1         & OAK       & AL        & 106       & 106       & 305       &  33       &  67       & ⋯         &  3        &  9        & 106       & 0.2196721 & 0.2911765 &  36       & 0.4852459 & OAK       & AL        &   290000 \\\\\n",
       "\t20115 & saenzol01 & 2002      & 1         & OAK       & AL        &  68       &  68       & 156       &  15       &  43       & ⋯         &  2        &  2        &  68       & 0.2756410 & 0.3539326 &  26       & 0.5769231 & OAK       & AL        &   800000 \\\\\n",
       "\t20116 & saenzol01 & 2005      & 1         & LAN       & NL        & 109       & 109       & 319       &  39       &  84       & ⋯         &  2        & 12        & 109       & 0.2633229 & 0.3247863 &  45       & 0.6018809 & LAN       & NL        &   650000 \\\\\n",
       "\t20117 & saenzol01 & 2006      & 1         & LAN       & NL        & 103       & 103       & 179       &  30       &  53       & ⋯         &  4        &  4        & 103       & 0.2960894 & 0.3627451 &  27       & 0.7094972 & LAN       & NL        &  1000000 \\\\\n",
       "\t20118 & saenzol01 & 2007      & 1         & LAN       & NL        &  92       &  92       & 110       &   9       &  21       & ⋯         &  4        &  5        &  92       & 0.1909091 & 0.2954545 &  12       & 0.4272727 & LAN       & NL        &  1000000 \\\\\n",
       "\\end{tabular}\n"
      ],
      "text/markdown": [
       "\n",
       "| <!--/--> | playerID | yearID | stint | teamID.x | lgID.x | G | G_batting | AB | R | H | ⋯ | SF | GIDP | G_old | BA | OBP | X1B | SLG | teamID.y | lgID.y | salary | \n",
       "|---|---|---|---|---|---|---|---|---|---|---|---|---|---|---|---|---|---|---|---|---|---|---|---|---|---|---|---|---|---|---|---|---|---|---|---|---|---|---|---|---|---|---|---|\n",
       "| 5135 | damonjo01 | 1995      | 1         | KCA       | AL        |  47       |  47       | 188       |  32       |  53       | ⋯         |  3        |  2        |  47       | 0.2819149 | 0.3235294 |  34       | 0.5425532 | KCA       | AL        |   109000  | \n",
       "| 5136 | damonjo01 | 1996      | 1         | KCA       | AL        | 145       | 145       | 517       |  61       | 140       | ⋯         |  5        |  4        | 145       | 0.2707930 | 0.3129496 | 107       | 0.4313346 | KCA       | AL        |   180000  | \n",
       "| 5137 | damonjo01 | 1997      | 1         | KCA       | AL        | 146       | 146       | 472       |  70       | 130       | ⋯         |  1        |  3        | 146       | 0.2754237 | 0.3378378 | 102       | 0.4449153 | KCA       | AL        |   240000  | \n",
       "| 5138 | damonjo01 | 1998      | 1         | KCA       | AL        | 161       | 161       | 642       | 104       | 178       | ⋯         |  3        |  4        | 161       | 0.2772586 | 0.3394625 | 120       | 0.5295950 | KCA       | AL        |   460000  | \n",
       "| 5139 | damonjo01 | 1999      | 1         | KCA       | AL        | 145       | 145       | 583       | 101       | 179       | ⋯         |  4        | 13        | 145       | 0.3070326 | 0.3789954 | 117       | 0.5831904 | KCA       | AL        |  2100000  | \n",
       "| 5140 | damonjo01 | 2000      | 1         | KCA       | AL        | 159       | 159       | 655       | 136       | 214       | ⋯         | 12        |  7        | 159       | 0.3267176 | 0.3819918 | 146       | 0.5984733 | KCA       | AL        |  4000000  | \n",
       "| 5141 | damonjo01 | 2001      | 1         | OAK       | AL        | 155       | 155       | 644       | 108       | 165       | ⋯         |  4        |  7        | 155       | 0.2562112 | 0.3235294 | 118       | 0.4363354 | OAK       | AL        |  7100000  | \n",
       "| 5142 | damonjo01 | 2002      | 1         | BOS       | AL        | 154       | 154       | 623       | 118       | 178       | ⋯         |  5        |  4        | 154       | 0.2857143 | 0.3562232 | 119       | 0.5377207 | BOS       | AL        |  7250000  | \n",
       "| 5143 | damonjo01 | 2003      | 1         | BOS       | AL        | 145       | 145       | 608       | 103       | 166       | ⋯         |  6        |  5        | 145       | 0.2730263 | 0.3450292 | 116       | 0.4868421 | BOS       | AL        |  7500000  | \n",
       "| 5144 | damonjo01 | 2004      | 1         | BOS       | AL        | 150       | 150       | 621       | 123       | 189       | ⋯         |  3        |  8        | 150       | 0.3043478 | 0.3803419 | 128       | 0.5748792 | BOS       | AL        |  8000000  | \n",
       "| 5145 | damonjo01 | 2005      | 1         | BOS       | AL        | 148       | 148       | 624       | 117       | 197       | ⋯         |  9        |  5        | 148       | 0.3157051 | 0.3662791 | 146       | 0.5208333 | BOS       | AL        |  8250000  | \n",
       "| 5146 | damonjo01 | 2006      | 1         | NYA       | AL        | 149       | 149       | 593       | 115       | 169       | ⋯         |  5        |  4        | 149       | 0.2849916 | 0.3587444 | 105       | 0.5902192 | NYA       | AL        | 13000000  | \n",
       "| 5147 | damonjo01 | 2007      | 1         | NYA       | AL        | 141       | 141       | 533       |  93       | 144       | ⋯         |  3        |  4        | 141       | 0.2701689 | 0.3509934 | 103       | 0.4727955 | NYA       | AL        | 13000000  | \n",
       "| 5148 | damonjo01 | 2008      | 1         | NYA       | AL        | 143       | 143       | 555       |  95       | 168       | ⋯         |  1        |  5        | 143       | 0.3027027 | 0.3752013 | 119       | 0.5495495 | NYA       | AL        | 13000000  | \n",
       "| 5149 | damonjo01 | 2009      | 1         | NYA       | AL        | 143       | 143       | 550       | 107       | 155       | ⋯         |  1        |  9        |  NA       | 0.2818182 | 0.3653846 |  92       | 0.6036364 | NYA       | AL        | 13000000  | \n",
       "| 5150 | damonjo01 | 2010      | 1         | DET       | AL        | 145       | 145       | 539       |  81       | 146       | ⋯         |  1        |  5        |  NA       | 0.2708720 | 0.3551555 |  97       | 0.4916512 | DET       | AL        |  8000000  | \n",
       "| 5151 | damonjo01 | 2011      | 1         | TBA       | AL        | 150       | 150       | 582       |  79       | 152       | ⋯         |  5        |  4        | 150       | 0.2611684 | 0.3255814 | 100       | 0.5068729 | TBA       | AL        |  5250000  | \n",
       "| 7872 | giambja01 | 1995      | 1         | OAK       | AL        |  54       |  54       | 176       |  27       |  45       | ⋯         |  2        |  4        |  54       | 0.2556818 | 0.3636364 |  32       | 0.4715909 | OAK       | AL        |   109000  | \n",
       "| 7873 | giambja01 | 1996      | 1         | OAK       | AL        | 140       | 140       | 536       |  84       | 156       | ⋯         |  5        | 15        | 140       | 0.2910448 | 0.3551089 |  95       | 0.5951493 | OAK       | AL        |   120000  | \n",
       "| 7874 | giambja01 | 1997      | 1         | OAK       | AL        | 142       | 142       | 519       |  66       | 152       | ⋯         |  8        | 11        | 142       | 0.2928709 | 0.3622449 |  89       | 0.6165703 | OAK       | AL        |   205000  | \n",
       "| 7875 | giambja01 | 1998      | 1         | OAK       | AL        | 153       | 153       | 562       |  92       | 166       | ⋯         |  9        | 16        | 153       | 0.2953737 | 0.3835616 | 111       | 0.5871886 | OAK       | AL        |   315000  | \n",
       "| 7876 | giambja01 | 1999      | 1         | OAK       | AL        | 158       | 158       | 575       | 115       | 181       | ⋯         |  8        | 11        | 158       | 0.3147826 | 0.4215827 | 111       | 0.6747826 | OAK       | AL        |  2103333  | \n",
       "| 7877 | giambja01 | 2000      | 1         | OAK       | AL        | 152       | 152       | 510       | 108       | 170       | ⋯         |  8        |  9        | 152       | 0.3333333 | 0.4759036 |  97       | 0.7901961 | OAK       | AL        |  3103333  | \n",
       "| 7878 | giambja01 | 2001      | 1         | OAK       | AL        | 154       | 154       | 520       | 109       | 178       | ⋯         |  9        | 17        | 154       | 0.3423077 | 0.4769001 |  91       | 0.8269231 | OAK       | AL        |  4103333  | \n",
       "| 7879 | giambja01 | 2002      | 1         | NYA       | AL        | 155       | 155       | 560       | 120       | 176       | ⋯         |  5        | 18        | 155       | 0.3142857 | 0.4354136 | 100       | 0.7339286 | NYA       | AL        | 10428571  | \n",
       "| 7880 | giambja01 | 2003      | 1         | NYA       | AL        | 156       | 156       | 535       |  97       | 134       | ⋯         |  5        |  9        | 156       | 0.2504673 | 0.4115942 |  68       | 0.6504673 | NYA       | AL        | 11428571  | \n",
       "| 7881 | giambja01 | 2004      | 1         | NYA       | AL        |  80       |  80       | 264       |  33       |  55       | ⋯         |  3        |  5        |  80       | 0.2083333 | 0.3416149 |  34       | 0.4583333 | NYA       | AL        | 12428571  | \n",
       "| 7882 | giambja01 | 2005      | 1         | NYA       | AL        | 139       | 139       | 417       |  74       | 113       | ⋯         |  1        |  7        | 139       | 0.2709832 | 0.4403670 |  67       | 0.6450839 | NYA       | AL        | 13428571  | \n",
       "| 7883 | giambja01 | 2006      | 1         | NYA       | AL        | 139       | 139       | 446       |  92       | 113       | ⋯         |  7        | 10        | 139       | 0.2533632 | 0.4127807 |  51       | 0.6973094 | NYA       | AL        | 20428571  | \n",
       "| 7884 | giambja01 | 2007      | 1         | NYA       | AL        |  83       |  83       | 254       |  31       |  60       | ⋯         |  1        |  1        |  83       | 0.2362205 | 0.3564356 |  38       | 0.5196850 | NYA       | AL        | 23428571  | \n",
       "| 7885 | giambja01 | 2008      | 1         | NYA       | AL        | 145       | 145       | 458       |  68       | 113       | ⋯         |  9        |  6        | 145       | 0.2467249 | 0.3734513 |  61       | 0.6157205 | NYA       | AL        | 23428571  | \n",
       "| 7886 | giambja01 | 2009      | 1         | OAK       | AL        |  83       |  83       | 269       |  39       |  52       | ⋯         |  2        |  6        |  NA       | 0.1933086 | 0.3323171 |  28       | 0.4535316 | OAK       | AL        |  4000000  | \n",
       "| 7887 | giambja01 | 2009      | 2         | COL       | NL        |  19       |  19       |  24       |   4       |   7       | ⋯         |  0        |  0        |  NA       | 0.2916667 | 0.4516129 |   4       | 0.7083333 | OAK       | AL        |  4000000  | \n",
       "| 7888 | giambja01 | 2010      | 1         | COL       | NL        |  87       |  87       | 176       |  17       |  43       | ⋯         |  5        |  5        |  NA       | 0.2443182 | 0.3783784 |  28       | 0.4829545 | COL       | NL        |  1750000  | \n",
       "| 7889 | giambja01 | 2011      | 1         | COL       | NL        |  64       |  64       | 131       |  20       |  34       | ⋯         |  1        |  1        |  64       | 0.2595420 | 0.3552632 |  15       | 0.7480916 | COL       | NL        |  1000000  | \n",
       "| 7890 | giambja01 | 2012      | 1         | COL       | NL        |  60       |  NA       |  89       |   7       |  20       | ⋯         |  2        |  4        |  NA       | 0.2247191 | 0.3716814 |  15       | 0.3595506 | COL       | NL        |  1000000  | \n",
       "| 7891 | giambja01 | 2013      | 1         | CLE       | AL        |  71       |  71       | 186       |  21       |  34       | ⋯         |  3        |  8        |  NA       | 0.1827957 | 0.2824074 |  17       | 0.4623656 | CLE       | AL        |   750000  | \n",
       "| 20112 | saenzol01 | 1999      | 1         | OAK       | AL        |  97       |  97       | 255       |  41       |  70       | ⋯         |  3        |  6        |  97       | 0.2745098 | 0.3627119 |  41       | 0.5882353 | OAK       | AL        |   240000  | \n",
       "| 20113 | saenzol01 | 2000      | 1         | OAK       | AL        |  76       |  76       | 214       |  40       |  67       | ⋯         |  1        |  6        |  76       | 0.3130841 | 0.4008097 |  44       | 0.6214953 | OAK       | AL        |   260000  | \n",
       "| 20114 | saenzol01 | 2001      | 1         | OAK       | AL        | 106       | 106       | 305       |  33       |  67       | ⋯         |  3        |  9        | 106       | 0.2196721 | 0.2911765 |  36       | 0.4852459 | OAK       | AL        |   290000  | \n",
       "| 20115 | saenzol01 | 2002      | 1         | OAK       | AL        |  68       |  68       | 156       |  15       |  43       | ⋯         |  2        |  2        |  68       | 0.2756410 | 0.3539326 |  26       | 0.5769231 | OAK       | AL        |   800000  | \n",
       "| 20116 | saenzol01 | 2005      | 1         | LAN       | NL        | 109       | 109       | 319       |  39       |  84       | ⋯         |  2        | 12        | 109       | 0.2633229 | 0.3247863 |  45       | 0.6018809 | LAN       | NL        |   650000  | \n",
       "| 20117 | saenzol01 | 2006      | 1         | LAN       | NL        | 103       | 103       | 179       |  30       |  53       | ⋯         |  4        |  4        | 103       | 0.2960894 | 0.3627451 |  27       | 0.7094972 | LAN       | NL        |  1000000  | \n",
       "| 20118 | saenzol01 | 2007      | 1         | LAN       | NL        |  92       |  92       | 110       |   9       |  21       | ⋯         |  4        |  5        |  92       | 0.1909091 | 0.2954545 |  12       | 0.4272727 | LAN       | NL        |  1000000  | \n",
       "\n",
       "\n"
      ],
      "text/plain": [
       "      playerID  yearID stint teamID.x lgID.x G   G_batting AB  R   H   ⋯ SF\n",
       "5135  damonjo01 1995   1     KCA      AL      47  47       188  32  53 ⋯  3\n",
       "5136  damonjo01 1996   1     KCA      AL     145 145       517  61 140 ⋯  5\n",
       "5137  damonjo01 1997   1     KCA      AL     146 146       472  70 130 ⋯  1\n",
       "5138  damonjo01 1998   1     KCA      AL     161 161       642 104 178 ⋯  3\n",
       "5139  damonjo01 1999   1     KCA      AL     145 145       583 101 179 ⋯  4\n",
       "5140  damonjo01 2000   1     KCA      AL     159 159       655 136 214 ⋯ 12\n",
       "5141  damonjo01 2001   1     OAK      AL     155 155       644 108 165 ⋯  4\n",
       "5142  damonjo01 2002   1     BOS      AL     154 154       623 118 178 ⋯  5\n",
       "5143  damonjo01 2003   1     BOS      AL     145 145       608 103 166 ⋯  6\n",
       "5144  damonjo01 2004   1     BOS      AL     150 150       621 123 189 ⋯  3\n",
       "5145  damonjo01 2005   1     BOS      AL     148 148       624 117 197 ⋯  9\n",
       "5146  damonjo01 2006   1     NYA      AL     149 149       593 115 169 ⋯  5\n",
       "5147  damonjo01 2007   1     NYA      AL     141 141       533  93 144 ⋯  3\n",
       "5148  damonjo01 2008   1     NYA      AL     143 143       555  95 168 ⋯  1\n",
       "5149  damonjo01 2009   1     NYA      AL     143 143       550 107 155 ⋯  1\n",
       "5150  damonjo01 2010   1     DET      AL     145 145       539  81 146 ⋯  1\n",
       "5151  damonjo01 2011   1     TBA      AL     150 150       582  79 152 ⋯  5\n",
       "7872  giambja01 1995   1     OAK      AL      54  54       176  27  45 ⋯  2\n",
       "7873  giambja01 1996   1     OAK      AL     140 140       536  84 156 ⋯  5\n",
       "7874  giambja01 1997   1     OAK      AL     142 142       519  66 152 ⋯  8\n",
       "7875  giambja01 1998   1     OAK      AL     153 153       562  92 166 ⋯  9\n",
       "7876  giambja01 1999   1     OAK      AL     158 158       575 115 181 ⋯  8\n",
       "7877  giambja01 2000   1     OAK      AL     152 152       510 108 170 ⋯  8\n",
       "7878  giambja01 2001   1     OAK      AL     154 154       520 109 178 ⋯  9\n",
       "7879  giambja01 2002   1     NYA      AL     155 155       560 120 176 ⋯  5\n",
       "7880  giambja01 2003   1     NYA      AL     156 156       535  97 134 ⋯  5\n",
       "7881  giambja01 2004   1     NYA      AL      80  80       264  33  55 ⋯  3\n",
       "7882  giambja01 2005   1     NYA      AL     139 139       417  74 113 ⋯  1\n",
       "7883  giambja01 2006   1     NYA      AL     139 139       446  92 113 ⋯  7\n",
       "7884  giambja01 2007   1     NYA      AL      83  83       254  31  60 ⋯  1\n",
       "7885  giambja01 2008   1     NYA      AL     145 145       458  68 113 ⋯  9\n",
       "7886  giambja01 2009   1     OAK      AL      83  83       269  39  52 ⋯  2\n",
       "7887  giambja01 2009   2     COL      NL      19  19        24   4   7 ⋯  0\n",
       "7888  giambja01 2010   1     COL      NL      87  87       176  17  43 ⋯  5\n",
       "7889  giambja01 2011   1     COL      NL      64  64       131  20  34 ⋯  1\n",
       "7890  giambja01 2012   1     COL      NL      60  NA        89   7  20 ⋯  2\n",
       "7891  giambja01 2013   1     CLE      AL      71  71       186  21  34 ⋯  3\n",
       "20112 saenzol01 1999   1     OAK      AL      97  97       255  41  70 ⋯  3\n",
       "20113 saenzol01 2000   1     OAK      AL      76  76       214  40  67 ⋯  1\n",
       "20114 saenzol01 2001   1     OAK      AL     106 106       305  33  67 ⋯  3\n",
       "20115 saenzol01 2002   1     OAK      AL      68  68       156  15  43 ⋯  2\n",
       "20116 saenzol01 2005   1     LAN      NL     109 109       319  39  84 ⋯  2\n",
       "20117 saenzol01 2006   1     LAN      NL     103 103       179  30  53 ⋯  4\n",
       "20118 saenzol01 2007   1     LAN      NL      92  92       110   9  21 ⋯  4\n",
       "      GIDP G_old BA        OBP       X1B SLG       teamID.y lgID.y salary  \n",
       "5135   2    47   0.2819149 0.3235294  34 0.5425532 KCA      AL       109000\n",
       "5136   4   145   0.2707930 0.3129496 107 0.4313346 KCA      AL       180000\n",
       "5137   3   146   0.2754237 0.3378378 102 0.4449153 KCA      AL       240000\n",
       "5138   4   161   0.2772586 0.3394625 120 0.5295950 KCA      AL       460000\n",
       "5139  13   145   0.3070326 0.3789954 117 0.5831904 KCA      AL      2100000\n",
       "5140   7   159   0.3267176 0.3819918 146 0.5984733 KCA      AL      4000000\n",
       "5141   7   155   0.2562112 0.3235294 118 0.4363354 OAK      AL      7100000\n",
       "5142   4   154   0.2857143 0.3562232 119 0.5377207 BOS      AL      7250000\n",
       "5143   5   145   0.2730263 0.3450292 116 0.4868421 BOS      AL      7500000\n",
       "5144   8   150   0.3043478 0.3803419 128 0.5748792 BOS      AL      8000000\n",
       "5145   5   148   0.3157051 0.3662791 146 0.5208333 BOS      AL      8250000\n",
       "5146   4   149   0.2849916 0.3587444 105 0.5902192 NYA      AL     13000000\n",
       "5147   4   141   0.2701689 0.3509934 103 0.4727955 NYA      AL     13000000\n",
       "5148   5   143   0.3027027 0.3752013 119 0.5495495 NYA      AL     13000000\n",
       "5149   9    NA   0.2818182 0.3653846  92 0.6036364 NYA      AL     13000000\n",
       "5150   5    NA   0.2708720 0.3551555  97 0.4916512 DET      AL      8000000\n",
       "5151   4   150   0.2611684 0.3255814 100 0.5068729 TBA      AL      5250000\n",
       "7872   4    54   0.2556818 0.3636364  32 0.4715909 OAK      AL       109000\n",
       "7873  15   140   0.2910448 0.3551089  95 0.5951493 OAK      AL       120000\n",
       "7874  11   142   0.2928709 0.3622449  89 0.6165703 OAK      AL       205000\n",
       "7875  16   153   0.2953737 0.3835616 111 0.5871886 OAK      AL       315000\n",
       "7876  11   158   0.3147826 0.4215827 111 0.6747826 OAK      AL      2103333\n",
       "7877   9   152   0.3333333 0.4759036  97 0.7901961 OAK      AL      3103333\n",
       "7878  17   154   0.3423077 0.4769001  91 0.8269231 OAK      AL      4103333\n",
       "7879  18   155   0.3142857 0.4354136 100 0.7339286 NYA      AL     10428571\n",
       "7880   9   156   0.2504673 0.4115942  68 0.6504673 NYA      AL     11428571\n",
       "7881   5    80   0.2083333 0.3416149  34 0.4583333 NYA      AL     12428571\n",
       "7882   7   139   0.2709832 0.4403670  67 0.6450839 NYA      AL     13428571\n",
       "7883  10   139   0.2533632 0.4127807  51 0.6973094 NYA      AL     20428571\n",
       "7884   1    83   0.2362205 0.3564356  38 0.5196850 NYA      AL     23428571\n",
       "7885   6   145   0.2467249 0.3734513  61 0.6157205 NYA      AL     23428571\n",
       "7886   6    NA   0.1933086 0.3323171  28 0.4535316 OAK      AL      4000000\n",
       "7887   0    NA   0.2916667 0.4516129   4 0.7083333 OAK      AL      4000000\n",
       "7888   5    NA   0.2443182 0.3783784  28 0.4829545 COL      NL      1750000\n",
       "7889   1    64   0.2595420 0.3552632  15 0.7480916 COL      NL      1000000\n",
       "7890   4    NA   0.2247191 0.3716814  15 0.3595506 COL      NL      1000000\n",
       "7891   8    NA   0.1827957 0.2824074  17 0.4623656 CLE      AL       750000\n",
       "20112  6    97   0.2745098 0.3627119  41 0.5882353 OAK      AL       240000\n",
       "20113  6    76   0.3130841 0.4008097  44 0.6214953 OAK      AL       260000\n",
       "20114  9   106   0.2196721 0.2911765  36 0.4852459 OAK      AL       290000\n",
       "20115  2    68   0.2756410 0.3539326  26 0.5769231 OAK      AL       800000\n",
       "20116 12   109   0.2633229 0.3247863  45 0.6018809 LAN      NL       650000\n",
       "20117  4   103   0.2960894 0.3627451  27 0.7094972 LAN      NL      1000000\n",
       "20118  5    92   0.1909091 0.2954545  12 0.4272727 LAN      NL      1000000"
      ]
     },
     "metadata": {},
     "output_type": "display_data"
    }
   ],
   "source": [
    "lost_players"
   ]
  },
  {
   "cell_type": "code",
   "execution_count": 33,
   "metadata": {
    "collapsed": false
   },
   "outputs": [
    {
     "data": {
      "text/html": [
       "<table>\n",
       "<thead><tr><th></th><th scope=col>playerID</th><th scope=col>yearID</th><th scope=col>stint</th><th scope=col>teamID.x</th><th scope=col>lgID.x</th><th scope=col>G</th><th scope=col>G_batting</th><th scope=col>AB</th><th scope=col>R</th><th scope=col>H</th><th scope=col>⋯</th><th scope=col>SF</th><th scope=col>GIDP</th><th scope=col>G_old</th><th scope=col>BA</th><th scope=col>OBP</th><th scope=col>X1B</th><th scope=col>SLG</th><th scope=col>teamID.y</th><th scope=col>lgID.y</th><th scope=col>salary</th></tr></thead>\n",
       "<tbody>\n",
       "\t<tr><th scope=row>5141</th><td>damonjo01</td><td>2001     </td><td>1        </td><td>OAK      </td><td>AL       </td><td>155      </td><td>155      </td><td>644      </td><td>108      </td><td>165      </td><td>⋯        </td><td>4        </td><td> 7       </td><td>155      </td><td>0.2562112</td><td>0.3235294</td><td>118      </td><td>0.4363354</td><td>OAK      </td><td>AL       </td><td>7100000  </td></tr>\n",
       "\t<tr><th scope=row>7878</th><td>giambja01</td><td>2001     </td><td>1        </td><td>OAK      </td><td>AL       </td><td>154      </td><td>154      </td><td>520      </td><td>109      </td><td>178      </td><td>⋯        </td><td>9        </td><td>17       </td><td>154      </td><td>0.3423077</td><td>0.4769001</td><td> 91      </td><td>0.8269231</td><td>OAK      </td><td>AL       </td><td>4103333  </td></tr>\n",
       "\t<tr><th scope=row>20114</th><td>saenzol01</td><td>2001     </td><td>1        </td><td>OAK      </td><td>AL       </td><td>106      </td><td>106      </td><td>305      </td><td> 33      </td><td> 67      </td><td>⋯        </td><td>3        </td><td> 9       </td><td>106      </td><td>0.2196721</td><td>0.2911765</td><td> 36      </td><td>0.4852459</td><td>OAK      </td><td>AL       </td><td> 290000  </td></tr>\n",
       "</tbody>\n",
       "</table>\n"
      ],
      "text/latex": [
       "\\begin{tabular}{r|lllllllllllllllllllllllllllllll}\n",
       "  & playerID & yearID & stint & teamID.x & lgID.x & G & G\\_batting & AB & R & H & ⋯ & SF & GIDP & G\\_old & BA & OBP & X1B & SLG & teamID.y & lgID.y & salary\\\\\n",
       "\\hline\n",
       "\t5141 & damonjo01 & 2001      & 1         & OAK       & AL        & 155       & 155       & 644       & 108       & 165       & ⋯         & 4         &  7        & 155       & 0.2562112 & 0.3235294 & 118       & 0.4363354 & OAK       & AL        & 7100000  \\\\\n",
       "\t7878 & giambja01 & 2001      & 1         & OAK       & AL        & 154       & 154       & 520       & 109       & 178       & ⋯         & 9         & 17        & 154       & 0.3423077 & 0.4769001 &  91       & 0.8269231 & OAK       & AL        & 4103333  \\\\\n",
       "\t20114 & saenzol01 & 2001      & 1         & OAK       & AL        & 106       & 106       & 305       &  33       &  67       & ⋯         & 3         &  9        & 106       & 0.2196721 & 0.2911765 &  36       & 0.4852459 & OAK       & AL        &  290000  \\\\\n",
       "\\end{tabular}\n"
      ],
      "text/markdown": [
       "\n",
       "| <!--/--> | playerID | yearID | stint | teamID.x | lgID.x | G | G_batting | AB | R | H | ⋯ | SF | GIDP | G_old | BA | OBP | X1B | SLG | teamID.y | lgID.y | salary | \n",
       "|---|---|---|\n",
       "| 5141 | damonjo01 | 2001      | 1         | OAK       | AL        | 155       | 155       | 644       | 108       | 165       | ⋯         | 4         |  7        | 155       | 0.2562112 | 0.3235294 | 118       | 0.4363354 | OAK       | AL        | 7100000   | \n",
       "| 7878 | giambja01 | 2001      | 1         | OAK       | AL        | 154       | 154       | 520       | 109       | 178       | ⋯         | 9         | 17        | 154       | 0.3423077 | 0.4769001 |  91       | 0.8269231 | OAK       | AL        | 4103333   | \n",
       "| 20114 | saenzol01 | 2001      | 1         | OAK       | AL        | 106       | 106       | 305       |  33       |  67       | ⋯         | 3         |  9        | 106       | 0.2196721 | 0.2911765 |  36       | 0.4852459 | OAK       | AL        |  290000   | \n",
       "\n",
       "\n"
      ],
      "text/plain": [
       "      playerID  yearID stint teamID.x lgID.x G   G_batting AB  R   H   ⋯ SF\n",
       "5141  damonjo01 2001   1     OAK      AL     155 155       644 108 165 ⋯ 4 \n",
       "7878  giambja01 2001   1     OAK      AL     154 154       520 109 178 ⋯ 9 \n",
       "20114 saenzol01 2001   1     OAK      AL     106 106       305  33  67 ⋯ 3 \n",
       "      GIDP G_old BA        OBP       X1B SLG       teamID.y lgID.y salary \n",
       "5141   7   155   0.2562112 0.3235294 118 0.4363354 OAK      AL     7100000\n",
       "7878  17   154   0.3423077 0.4769001  91 0.8269231 OAK      AL     4103333\n",
       "20114  9   106   0.2196721 0.2911765  36 0.4852459 OAK      AL      290000"
      ]
     },
     "metadata": {},
     "output_type": "display_data"
    }
   ],
   "source": [
    "lost_players <- subset(lost_players,yearID == 2001)\n",
    "lost_players"
   ]
  },
  {
   "cell_type": "code",
   "execution_count": 35,
   "metadata": {
    "collapsed": false
   },
   "outputs": [
    {
     "data": {
      "text/html": [
       "<table>\n",
       "<thead><tr><th></th><th scope=col>playerID</th><th scope=col>H</th><th scope=col>X2B</th><th scope=col>X3B</th><th scope=col>HR</th><th scope=col>OBP</th><th scope=col>SLG</th><th scope=col>BA</th><th scope=col>AB</th></tr></thead>\n",
       "<tbody>\n",
       "\t<tr><th scope=row>5141</th><td>damonjo01</td><td>165      </td><td>34       </td><td>4        </td><td> 9       </td><td>0.3235294</td><td>0.4363354</td><td>0.2562112</td><td>644      </td></tr>\n",
       "\t<tr><th scope=row>7878</th><td>giambja01</td><td>178      </td><td>47       </td><td>2        </td><td>38       </td><td>0.4769001</td><td>0.8269231</td><td>0.3423077</td><td>520      </td></tr>\n",
       "\t<tr><th scope=row>20114</th><td>saenzol01</td><td> 67      </td><td>21       </td><td>1        </td><td> 9       </td><td>0.2911765</td><td>0.4852459</td><td>0.2196721</td><td>305      </td></tr>\n",
       "</tbody>\n",
       "</table>\n"
      ],
      "text/latex": [
       "\\begin{tabular}{r|lllllllll}\n",
       "  & playerID & H & X2B & X3B & HR & OBP & SLG & BA & AB\\\\\n",
       "\\hline\n",
       "\t5141 & damonjo01 & 165       & 34        & 4         &  9        & 0.3235294 & 0.4363354 & 0.2562112 & 644      \\\\\n",
       "\t7878 & giambja01 & 178       & 47        & 2         & 38        & 0.4769001 & 0.8269231 & 0.3423077 & 520      \\\\\n",
       "\t20114 & saenzol01 &  67       & 21        & 1         &  9        & 0.2911765 & 0.4852459 & 0.2196721 & 305      \\\\\n",
       "\\end{tabular}\n"
      ],
      "text/markdown": [
       "\n",
       "| <!--/--> | playerID | H | X2B | X3B | HR | OBP | SLG | BA | AB | \n",
       "|---|---|---|\n",
       "| 5141 | damonjo01 | 165       | 34        | 4         |  9        | 0.3235294 | 0.4363354 | 0.2562112 | 644       | \n",
       "| 7878 | giambja01 | 178       | 47        | 2         | 38        | 0.4769001 | 0.8269231 | 0.3423077 | 520       | \n",
       "| 20114 | saenzol01 |  67       | 21        | 1         |  9        | 0.2911765 | 0.4852459 | 0.2196721 | 305       | \n",
       "\n",
       "\n"
      ],
      "text/plain": [
       "      playerID  H   X2B X3B HR OBP       SLG       BA        AB \n",
       "5141  damonjo01 165 34  4    9 0.3235294 0.4363354 0.2562112 644\n",
       "7878  giambja01 178 47  2   38 0.4769001 0.8269231 0.3423077 520\n",
       "20114 saenzol01  67 21  1    9 0.2911765 0.4852459 0.2196721 305"
      ]
     },
     "metadata": {},
     "output_type": "display_data"
    }
   ],
   "source": [
    "lost_players <- lost_players[,c('playerID','H','X2B','X3B','HR','OBP','SLG','BA','AB')]\n",
    "lost_players"
   ]
  },
  {
   "cell_type": "code",
   "execution_count": 40,
   "metadata": {
    "collapsed": false
   },
   "outputs": [],
   "source": [
    "library(dplyr)\n",
    "avail.players <- filter(combo,yearID==2001)"
   ]
  },
  {
   "cell_type": "code",
   "execution_count": 41,
   "metadata": {
    "collapsed": false
   },
   "outputs": [
    {
     "name": "stderr",
     "output_type": "stream",
     "text": [
      "Warning message:\n",
      "“Removed 168 rows containing missing values (geom_point).”"
     ]
    },
    {
     "data": {},
     "metadata": {},
     "output_type": "display_data"
    },
    {
     "data": {
      "image/png": "[encoded data removed]",
      "text/plain": [
       "plot without title"
      ]
     },
     "metadata": {},
     "output_type": "display_data"
    }
   ],
   "source": [
    "library(ggplot2)\n",
    "ggplot(avail.players,aes(x=OBP,y=salary)) + geom_point()"
   ]
  },
  {
   "cell_type": "code",
   "execution_count": 42,
   "metadata": {
    "collapsed": false
   },
   "outputs": [],
   "source": [
    "avail.players <- filter(avail.players,salary<8000000,OBP>0)"
   ]
  },
  {
   "cell_type": "code",
   "execution_count": 43,
   "metadata": {
    "collapsed": true
   },
   "outputs": [],
   "source": [
    "avail.players <- filter(avail.players,AB >= 500)"
   ]
  },
  {
   "cell_type": "code",
   "execution_count": 44,
   "metadata": {
    "collapsed": true
   },
   "outputs": [],
   "source": [
    "possible <- head(arrange(avail.players,desc(OBP)),10)"
   ]
  },
  {
   "cell_type": "code",
   "execution_count": 45,
   "metadata": {
    "collapsed": true
   },
   "outputs": [],
   "source": [
    "possible <- possible[,c('playerID','OBP','AB','salary')]"
   ]
  },
  {
   "cell_type": "code",
   "execution_count": 46,
   "metadata": {
    "collapsed": false
   },
   "outputs": [
    {
     "data": {
      "text/html": [
       "<table>\n",
       "<thead><tr><th scope=col>playerID</th><th scope=col>OBP</th><th scope=col>AB</th><th scope=col>salary</th></tr></thead>\n",
       "<tbody>\n",
       "\t<tr><td>giambja01</td><td>0.4769001</td><td>520      </td><td>4103333  </td></tr>\n",
       "\t<tr><td>heltoto01</td><td>0.4316547</td><td>587      </td><td>4950000  </td></tr>\n",
       "\t<tr><td>berkmla01</td><td>0.4302326</td><td>577      </td><td> 305000  </td></tr>\n",
       "\t<tr><td>gonzalu01</td><td>0.4285714</td><td>609      </td><td>4833333  </td></tr>\n",
       "\t<tr><td>thomeji01</td><td>0.4161491</td><td>526      </td><td>7875000  </td></tr>\n",
       "\t<tr><td>alomaro01</td><td>0.4146707</td><td>575      </td><td>7750000  </td></tr>\n",
       "\t<tr><td>edmonji01</td><td>0.4102142</td><td>500      </td><td>6333333  </td></tr>\n",
       "\t<tr><td>gilesbr02</td><td>0.4035608</td><td>576      </td><td>7333333  </td></tr>\n",
       "\t<tr><td>pujolal01</td><td>0.4029630</td><td>590      </td><td> 200000  </td></tr>\n",
       "\t<tr><td>olerujo01</td><td>0.4011799</td><td>572      </td><td>6700000  </td></tr>\n",
       "</tbody>\n",
       "</table>\n"
      ],
      "text/latex": [
       "\\begin{tabular}{r|llll}\n",
       " playerID & OBP & AB & salary\\\\\n",
       "\\hline\n",
       "\t giambja01 & 0.4769001 & 520       & 4103333  \\\\\n",
       "\t heltoto01 & 0.4316547 & 587       & 4950000  \\\\\n",
       "\t berkmla01 & 0.4302326 & 577       &  305000  \\\\\n",
       "\t gonzalu01 & 0.4285714 & 609       & 4833333  \\\\\n",
       "\t thomeji01 & 0.4161491 & 526       & 7875000  \\\\\n",
       "\t alomaro01 & 0.4146707 & 575       & 7750000  \\\\\n",
       "\t edmonji01 & 0.4102142 & 500       & 6333333  \\\\\n",
       "\t gilesbr02 & 0.4035608 & 576       & 7333333  \\\\\n",
       "\t pujolal01 & 0.4029630 & 590       &  200000  \\\\\n",
       "\t olerujo01 & 0.4011799 & 572       & 6700000  \\\\\n",
       "\\end{tabular}\n"
      ],
      "text/markdown": [
       "\n",
       "playerID | OBP | AB | salary | \n",
       "|---|---|---|---|---|---|---|---|---|---|\n",
       "| giambja01 | 0.4769001 | 520       | 4103333   | \n",
       "| heltoto01 | 0.4316547 | 587       | 4950000   | \n",
       "| berkmla01 | 0.4302326 | 577       |  305000   | \n",
       "| gonzalu01 | 0.4285714 | 609       | 4833333   | \n",
       "| thomeji01 | 0.4161491 | 526       | 7875000   | \n",
       "| alomaro01 | 0.4146707 | 575       | 7750000   | \n",
       "| edmonji01 | 0.4102142 | 500       | 6333333   | \n",
       "| gilesbr02 | 0.4035608 | 576       | 7333333   | \n",
       "| pujolal01 | 0.4029630 | 590       |  200000   | \n",
       "| olerujo01 | 0.4011799 | 572       | 6700000   | \n",
       "\n",
       "\n"
      ],
      "text/plain": [
       "   playerID  OBP       AB  salary \n",
       "1  giambja01 0.4769001 520 4103333\n",
       "2  heltoto01 0.4316547 587 4950000\n",
       "3  berkmla01 0.4302326 577  305000\n",
       "4  gonzalu01 0.4285714 609 4833333\n",
       "5  thomeji01 0.4161491 526 7875000\n",
       "6  alomaro01 0.4146707 575 7750000\n",
       "7  edmonji01 0.4102142 500 6333333\n",
       "8  gilesbr02 0.4035608 576 7333333\n",
       "9  pujolal01 0.4029630 590  200000\n",
       "10 olerujo01 0.4011799 572 6700000"
      ]
     },
     "metadata": {},
     "output_type": "display_data"
    }
   ],
   "source": [
    "possible"
   ]
  },
  {
   "cell_type": "code",
   "execution_count": 47,
   "metadata": {
    "collapsed": false
   },
   "outputs": [
    {
     "data": {
      "text/html": [
       "<table>\n",
       "<thead><tr><th></th><th scope=col>playerID</th><th scope=col>OBP</th><th scope=col>AB</th><th scope=col>salary</th></tr></thead>\n",
       "<tbody>\n",
       "\t<tr><th scope=row>2</th><td>heltoto01</td><td>0.4316547</td><td>587      </td><td>4950000  </td></tr>\n",
       "\t<tr><th scope=row>3</th><td>berkmla01</td><td>0.4302326</td><td>577      </td><td> 305000  </td></tr>\n",
       "\t<tr><th scope=row>4</th><td>gonzalu01</td><td>0.4285714</td><td>609      </td><td>4833333  </td></tr>\n",
       "</tbody>\n",
       "</table>\n"
      ],
      "text/latex": [
       "\\begin{tabular}{r|llll}\n",
       "  & playerID & OBP & AB & salary\\\\\n",
       "\\hline\n",
       "\t2 & heltoto01 & 0.4316547 & 587       & 4950000  \\\\\n",
       "\t3 & berkmla01 & 0.4302326 & 577       &  305000  \\\\\n",
       "\t4 & gonzalu01 & 0.4285714 & 609       & 4833333  \\\\\n",
       "\\end{tabular}\n"
      ],
      "text/markdown": [
       "\n",
       "| <!--/--> | playerID | OBP | AB | salary | \n",
       "|---|---|---|\n",
       "| 2 | heltoto01 | 0.4316547 | 587       | 4950000   | \n",
       "| 3 | berkmla01 | 0.4302326 | 577       |  305000   | \n",
       "| 4 | gonzalu01 | 0.4285714 | 609       | 4833333   | \n",
       "\n",
       "\n"
      ],
      "text/plain": [
       "  playerID  OBP       AB  salary \n",
       "2 heltoto01 0.4316547 587 4950000\n",
       "3 berkmla01 0.4302326 577  305000\n",
       "4 gonzalu01 0.4285714 609 4833333"
      ]
     },
     "metadata": {},
     "output_type": "display_data"
    }
   ],
   "source": [
    "possible[2:4,]"
   ]
  },
  {
   "cell_type": "code",
   "execution_count": null,
   "metadata": {
    "collapsed": true
   },
   "outputs": [],
   "source": []
  }
 ],
 "metadata": {
  "kernelspec": {
   "display_name": "R",
   "language": "R",
   "name": "ir"
  },
  "language_info": {
   "codemirror_mode": "r",
   "file_extension": ".r",
   "mimetype": "text/x-r-source",
   "name": "R",
   "pygments_lexer": "r",
   "version": "3.3.2"
  }
 },
 "nbformat": 4,
 "nbformat_minor": 2
}
