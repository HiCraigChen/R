{
 "cells": [
  {
   "cell_type": "code",
   "execution_count": 1,
   "metadata": {
    "collapsed": false
   },
   "outputs": [
    {
     "name": "stdout",
     "output_type": "stream",
     "text": [
      "     [,1] [,2] [,3] [,4] [,5]\n",
      "[1,]  189  191  193  192  195\n",
      "[2,]  800  752  750  630  500\n"
     ]
    }
   ],
   "source": [
    "TSMC <- c(189,191,193,192,195)\n",
    "HTC  <- c(800,752,750,630,500)\n",
    "stocks <- c(TSMC,HTC)\n",
    "stock.matrix <- matrix(stocks,byrow = T,nrow = 2)\n",
    "print(stock.matrix)"
   ]
  },
  {
   "cell_type": "code",
   "execution_count": 2,
   "metadata": {
    "collapsed": true
   },
   "outputs": [],
   "source": [
    "days <- c('Mon','Tue','Wed','Thu','Fri')\n",
    "st.names <- c('TSMC','HTC')\n",
    "colnames(stock.matrix) <- days\n",
    "rownames(stock.matrix) <- st.names"
   ]
  },
  {
   "cell_type": "code",
   "execution_count": 3,
   "metadata": {
    "collapsed": false
   },
   "outputs": [
    {
     "data": {
      "text/html": [
       "<table>\n",
       "<thead><tr><th></th><th scope=col>Mon</th><th scope=col>Tue</th><th scope=col>Wed</th><th scope=col>Thu</th><th scope=col>Fri</th></tr></thead>\n",
       "<tbody>\n",
       "\t<tr><th scope=row>TSMC</th><td>189</td><td>191</td><td>193</td><td>192</td><td>195</td></tr>\n",
       "\t<tr><th scope=row>HTC</th><td>800</td><td>752</td><td>750</td><td>630</td><td>500</td></tr>\n",
       "</tbody>\n",
       "</table>\n"
      ],
      "text/latex": [
       "\\begin{tabular}{r|lllll}\n",
       "  & Mon & Tue & Wed & Thu & Fri\\\\\n",
       "\\hline\n",
       "\tTSMC & 189 & 191 & 193 & 192 & 195\\\\\n",
       "\tHTC & 800 & 752 & 750 & 630 & 500\\\\\n",
       "\\end{tabular}\n"
      ],
      "text/markdown": [
       "\n",
       "| <!--/--> | Mon | Tue | Wed | Thu | Fri | \n",
       "|---|---|\n",
       "| TSMC | 189 | 191 | 193 | 192 | 195 | \n",
       "| HTC | 800 | 752 | 750 | 630 | 500 | \n",
       "\n",
       "\n"
      ],
      "text/plain": [
       "     Mon Tue Wed Thu Fri\n",
       "TSMC 189 191 193 192 195\n",
       "HTC  800 752 750 630 500"
      ]
     },
     "metadata": {},
     "output_type": "display_data"
    }
   ],
   "source": [
    "stock.matrix"
   ]
  },
  {
   "cell_type": "code",
   "execution_count": 5,
   "metadata": {
    "collapsed": false
   },
   "outputs": [
    {
     "data": {
      "text/html": [
       "<dl class=dl-horizontal>\n",
       "\t<dt>Mon</dt>\n",
       "\t\t<dd>989</dd>\n",
       "\t<dt>Tue</dt>\n",
       "\t\t<dd>943</dd>\n",
       "\t<dt>Wed</dt>\n",
       "\t\t<dd>943</dd>\n",
       "\t<dt>Thu</dt>\n",
       "\t\t<dd>822</dd>\n",
       "\t<dt>Fri</dt>\n",
       "\t\t<dd>695</dd>\n",
       "</dl>\n"
      ],
      "text/latex": [
       "\\begin{description*}\n",
       "\\item[Mon] 989\n",
       "\\item[Tue] 943\n",
       "\\item[Wed] 943\n",
       "\\item[Thu] 822\n",
       "\\item[Fri] 695\n",
       "\\end{description*}\n"
      ],
      "text/markdown": [
       "Mon\n",
       ":   989Tue\n",
       ":   943Wed\n",
       ":   943Thu\n",
       ":   822Fri\n",
       ":   695\n",
       "\n"
      ],
      "text/plain": [
       "Mon Tue Wed Thu Fri \n",
       "989 943 943 822 695 "
      ]
     },
     "metadata": {},
     "output_type": "display_data"
    }
   ],
   "source": [
    "colSums(stock.matrix)"
   ]
  },
  {
   "cell_type": "code",
   "execution_count": 6,
   "metadata": {
    "collapsed": false
   },
   "outputs": [
    {
     "data": {
      "text/html": [
       "<dl class=dl-horizontal>\n",
       "\t<dt>TSMC</dt>\n",
       "\t\t<dd>960</dd>\n",
       "\t<dt>HTC</dt>\n",
       "\t\t<dd>3432</dd>\n",
       "</dl>\n"
      ],
      "text/latex": [
       "\\begin{description*}\n",
       "\\item[TSMC] 960\n",
       "\\item[HTC] 3432\n",
       "\\end{description*}\n"
      ],
      "text/markdown": [
       "TSMC\n",
       ":   960HTC\n",
       ":   3432\n",
       "\n"
      ],
      "text/plain": [
       "TSMC  HTC \n",
       " 960 3432 "
      ]
     },
     "metadata": {},
     "output_type": "display_data"
    }
   ],
   "source": [
    "rowSums(stock.matrix)"
   ]
  },
  {
   "cell_type": "code",
   "execution_count": 7,
   "metadata": {
    "collapsed": false
   },
   "outputs": [
    {
     "data": {
      "text/html": [
       "<dl class=dl-horizontal>\n",
       "\t<dt>TSMC</dt>\n",
       "\t\t<dd>192</dd>\n",
       "\t<dt>HTC</dt>\n",
       "\t\t<dd>686.4</dd>\n",
       "</dl>\n"
      ],
      "text/latex": [
       "\\begin{description*}\n",
       "\\item[TSMC] 192\n",
       "\\item[HTC] 686.4\n",
       "\\end{description*}\n"
      ],
      "text/markdown": [
       "TSMC\n",
       ":   192HTC\n",
       ":   686.4\n",
       "\n"
      ],
      "text/plain": [
       " TSMC   HTC \n",
       "192.0 686.4 "
      ]
     },
     "metadata": {},
     "output_type": "display_data"
    }
   ],
   "source": [
    "rowMeans(stock.matrix)"
   ]
  },
  {
   "cell_type": "code",
   "execution_count": 8,
   "metadata": {
    "collapsed": true
   },
   "outputs": [],
   "source": [
    "APP <- c(344,356,346,352,355)\n",
    "tech_stock <- rbind(stock.matrix,APP)  # rbind > row bind"
   ]
  },
  {
   "cell_type": "code",
   "execution_count": 10,
   "metadata": {
    "collapsed": false
   },
   "outputs": [
    {
     "data": {
      "text/html": [
       "<table>\n",
       "<thead><tr><th></th><th scope=col>Mon</th><th scope=col>Tue</th><th scope=col>Wed</th><th scope=col>Thu</th><th scope=col>Fri</th></tr></thead>\n",
       "<tbody>\n",
       "\t<tr><th scope=row>TSMC</th><td>189</td><td>191</td><td>193</td><td>192</td><td>195</td></tr>\n",
       "\t<tr><th scope=row>HTC</th><td>800</td><td>752</td><td>750</td><td>630</td><td>500</td></tr>\n",
       "\t<tr><th scope=row>APP</th><td>344</td><td>356</td><td>346</td><td>352</td><td>355</td></tr>\n",
       "</tbody>\n",
       "</table>\n"
      ],
      "text/latex": [
       "\\begin{tabular}{r|lllll}\n",
       "  & Mon & Tue & Wed & Thu & Fri\\\\\n",
       "\\hline\n",
       "\tTSMC & 189 & 191 & 193 & 192 & 195\\\\\n",
       "\tHTC & 800 & 752 & 750 & 630 & 500\\\\\n",
       "\tAPP & 344 & 356 & 346 & 352 & 355\\\\\n",
       "\\end{tabular}\n"
      ],
      "text/markdown": [
       "\n",
       "| <!--/--> | Mon | Tue | Wed | Thu | Fri | \n",
       "|---|---|---|\n",
       "| TSMC | 189 | 191 | 193 | 192 | 195 | \n",
       "| HTC | 800 | 752 | 750 | 630 | 500 | \n",
       "| APP | 344 | 356 | 346 | 352 | 355 | \n",
       "\n",
       "\n"
      ],
      "text/plain": [
       "     Mon Tue Wed Thu Fri\n",
       "TSMC 189 191 193 192 195\n",
       "HTC  800 752 750 630 500\n",
       "APP  344 356 346 352 355"
      ]
     },
     "metadata": {},
     "output_type": "display_data"
    }
   ],
   "source": [
    "tech_stock\n",
    "# Notice that the parameter name is the row name"
   ]
  },
  {
   "cell_type": "code",
   "execution_count": 11,
   "metadata": {
    "collapsed": false
   },
   "outputs": [
    {
     "data": {
      "text/html": [
       "<dl class=dl-horizontal>\n",
       "\t<dt>TSMC</dt>\n",
       "\t\t<dd>192</dd>\n",
       "\t<dt>HTC</dt>\n",
       "\t\t<dd>686.4</dd>\n",
       "\t<dt>APP</dt>\n",
       "\t\t<dd>350.6</dd>\n",
       "</dl>\n"
      ],
      "text/latex": [
       "\\begin{description*}\n",
       "\\item[TSMC] 192\n",
       "\\item[HTC] 686.4\n",
       "\\item[APP] 350.6\n",
       "\\end{description*}\n"
      ],
      "text/markdown": [
       "TSMC\n",
       ":   192HTC\n",
       ":   686.4APP\n",
       ":   350.6\n",
       "\n"
      ],
      "text/plain": [
       " TSMC   HTC   APP \n",
       "192.0 686.4 350.6 "
      ]
     },
     "metadata": {},
     "output_type": "display_data"
    }
   ],
   "source": [
    "avg <- rowMeans(tech_stock)\n",
    "avg"
   ]
  },
  {
   "cell_type": "code",
   "execution_count": 12,
   "metadata": {
    "collapsed": true
   },
   "outputs": [],
   "source": [
    "tech_stock <- cbind(tech_stock,avg)"
   ]
  },
  {
   "cell_type": "code",
   "execution_count": 13,
   "metadata": {
    "collapsed": false
   },
   "outputs": [
    {
     "data": {
      "text/html": [
       "<table>\n",
       "<thead><tr><th></th><th scope=col>Mon</th><th scope=col>Tue</th><th scope=col>Wed</th><th scope=col>Thu</th><th scope=col>Fri</th><th scope=col>avg</th></tr></thead>\n",
       "<tbody>\n",
       "\t<tr><th scope=row>TSMC</th><td>189  </td><td>191  </td><td>193  </td><td>192  </td><td>195  </td><td>192.0</td></tr>\n",
       "\t<tr><th scope=row>HTC</th><td>800  </td><td>752  </td><td>750  </td><td>630  </td><td>500  </td><td>686.4</td></tr>\n",
       "\t<tr><th scope=row>APP</th><td>344  </td><td>356  </td><td>346  </td><td>352  </td><td>355  </td><td>350.6</td></tr>\n",
       "</tbody>\n",
       "</table>\n"
      ],
      "text/latex": [
       "\\begin{tabular}{r|llllll}\n",
       "  & Mon & Tue & Wed & Thu & Fri & avg\\\\\n",
       "\\hline\n",
       "\tTSMC & 189   & 191   & 193   & 192   & 195   & 192.0\\\\\n",
       "\tHTC & 800   & 752   & 750   & 630   & 500   & 686.4\\\\\n",
       "\tAPP & 344   & 356   & 346   & 352   & 355   & 350.6\\\\\n",
       "\\end{tabular}\n"
      ],
      "text/markdown": [
       "\n",
       "| <!--/--> | Mon | Tue | Wed | Thu | Fri | avg | \n",
       "|---|---|---|\n",
       "| TSMC | 189   | 191   | 193   | 192   | 195   | 192.0 | \n",
       "| HTC | 800   | 752   | 750   | 630   | 500   | 686.4 | \n",
       "| APP | 344   | 356   | 346   | 352   | 355   | 350.6 | \n",
       "\n",
       "\n"
      ],
      "text/plain": [
       "     Mon Tue Wed Thu Fri avg  \n",
       "TSMC 189 191 193 192 195 192.0\n",
       "HTC  800 752 750 630 500 686.4\n",
       "APP  344 356 346 352 355 350.6"
      ]
     },
     "metadata": {},
     "output_type": "display_data"
    }
   ],
   "source": [
    "tech_stock"
   ]
  },
  {
   "cell_type": "code",
   "execution_count": null,
   "metadata": {
    "collapsed": true
   },
   "outputs": [],
   "source": []
  }
 ],
 "metadata": {
  "kernelspec": {
   "display_name": "R",
   "language": "R",
   "name": "ir"
  },
  "language_info": {
   "codemirror_mode": "r",
   "file_extension": ".r",
   "mimetype": "text/x-r-source",
   "name": "R",
   "pygments_lexer": "r",
   "version": "3.3.2"
  }
 },
 "nbformat": 4,
 "nbformat_minor": 2
}
