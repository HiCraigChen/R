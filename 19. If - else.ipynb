{
 "cells": [
  {
   "cell_type": "code",
   "execution_count": 5,
   "metadata": {
    "collapsed": false
   },
   "outputs": [
    {
     "name": "stdout",
     "output_type": "stream",
     "text": [
      "[1] \"Nothing sold!\"\n"
     ]
    }
   ],
   "source": [
    "# Items sold that day\n",
    "ham <- 0\n",
    "cheese <- 0\n",
    "\n",
    "# Report to HQ\n",
    "report <- ''\n",
    "\n",
    "if(ham >= 10 & cheese >= 10){\n",
    "    report <- \"Strong sales of both items\"\n",
    "    \n",
    "}else if(ham == 0 & cheese == 0){\n",
    "    report <- \"Nothing sold!\"\n",
    "}else{\n",
    "    report <- 'We had some sales'\n",
    "}\n",
    "print(report)"
   ]
  },
  {
   "cell_type": "code",
   "execution_count": null,
   "metadata": {
    "collapsed": true
   },
   "outputs": [],
   "source": []
  }
 ],
 "metadata": {
  "kernelspec": {
   "display_name": "R",
   "language": "R",
   "name": "ir"
  },
  "language_info": {
   "codemirror_mode": "r",
   "file_extension": ".r",
   "mimetype": "text/x-r-source",
   "name": "R",
   "pygments_lexer": "r",
   "version": "3.3.2"
  }
 },
 "nbformat": 4,
 "nbformat_minor": 2
}
