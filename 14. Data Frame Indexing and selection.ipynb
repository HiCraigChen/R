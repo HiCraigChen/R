{
 "cells": [
  {
   "cell_type": "code",
   "execution_count": 1,
   "metadata": {
    "collapsed": true
   },
   "outputs": [],
   "source": [
    "days <- c('Mon','Tue','Wed','Thu','Fri')\n",
    "temp <- c(22.2,21,23,24,25)\n",
    "rain <- c(T,T,F,T,F)\n",
    "df <- data.frame(days,temp,rain)"
   ]
  },
  {
   "cell_type": "code",
   "execution_count": 2,
   "metadata": {
    "collapsed": false
   },
   "outputs": [
    {
     "data": {
      "text/html": [
       "<table>\n",
       "<thead><tr><th scope=col>days</th><th scope=col>temp</th><th scope=col>rain</th></tr></thead>\n",
       "<tbody>\n",
       "\t<tr><td>Mon  </td><td>22.2 </td><td> TRUE</td></tr>\n",
       "\t<tr><td>Tue  </td><td>21.0 </td><td> TRUE</td></tr>\n",
       "\t<tr><td>Wed  </td><td>23.0 </td><td>FALSE</td></tr>\n",
       "\t<tr><td>Thu  </td><td>24.0 </td><td> TRUE</td></tr>\n",
       "\t<tr><td>Fri  </td><td>25.0 </td><td>FALSE</td></tr>\n",
       "</tbody>\n",
       "</table>\n"
      ],
      "text/latex": [
       "\\begin{tabular}{r|lll}\n",
       " days & temp & rain\\\\\n",
       "\\hline\n",
       "\t Mon   & 22.2  &  TRUE\\\\\n",
       "\t Tue   & 21.0  &  TRUE\\\\\n",
       "\t Wed   & 23.0  & FALSE\\\\\n",
       "\t Thu   & 24.0  &  TRUE\\\\\n",
       "\t Fri   & 25.0  & FALSE\\\\\n",
       "\\end{tabular}\n"
      ],
      "text/markdown": [
       "\n",
       "days | temp | rain | \n",
       "|---|---|---|---|---|\n",
       "| Mon   | 22.2  |  TRUE | \n",
       "| Tue   | 21.0  |  TRUE | \n",
       "| Wed   | 23.0  | FALSE | \n",
       "| Thu   | 24.0  |  TRUE | \n",
       "| Fri   | 25.0  | FALSE | \n",
       "\n",
       "\n"
      ],
      "text/plain": [
       "  days temp rain \n",
       "1 Mon  22.2  TRUE\n",
       "2 Tue  21.0  TRUE\n",
       "3 Wed  23.0 FALSE\n",
       "4 Thu  24.0  TRUE\n",
       "5 Fri  25.0 FALSE"
      ]
     },
     "metadata": {},
     "output_type": "display_data"
    }
   ],
   "source": [
    "df"
   ]
  },
  {
   "cell_type": "code",
   "execution_count": 3,
   "metadata": {
    "collapsed": false
   },
   "outputs": [
    {
     "data": {
      "text/html": [
       "<table>\n",
       "<thead><tr><th scope=col>days</th><th scope=col>temp</th><th scope=col>rain</th></tr></thead>\n",
       "<tbody>\n",
       "\t<tr><td>Mon </td><td>22.2</td><td>TRUE</td></tr>\n",
       "</tbody>\n",
       "</table>\n"
      ],
      "text/latex": [
       "\\begin{tabular}{r|lll}\n",
       " days & temp & rain\\\\\n",
       "\\hline\n",
       "\t Mon  & 22.2 & TRUE\\\\\n",
       "\\end{tabular}\n"
      ],
      "text/markdown": [
       "\n",
       "days | temp | rain | \n",
       "|---|\n",
       "| Mon  | 22.2 | TRUE | \n",
       "\n",
       "\n"
      ],
      "text/plain": [
       "  days temp rain\n",
       "1 Mon  22.2 TRUE"
      ]
     },
     "metadata": {},
     "output_type": "display_data"
    }
   ],
   "source": [
    "df[1,]"
   ]
  },
  {
   "cell_type": "code",
   "execution_count": 4,
   "metadata": {
    "collapsed": false
   },
   "outputs": [
    {
     "data": {
      "text/html": [
       "<ol class=list-inline>\n",
       "\t<li>TRUE</li>\n",
       "\t<li>TRUE</li>\n",
       "\t<li>FALSE</li>\n",
       "\t<li>TRUE</li>\n",
       "\t<li>FALSE</li>\n",
       "</ol>\n"
      ],
      "text/latex": [
       "\\begin{enumerate*}\n",
       "\\item TRUE\n",
       "\\item TRUE\n",
       "\\item FALSE\n",
       "\\item TRUE\n",
       "\\item FALSE\n",
       "\\end{enumerate*}\n"
      ],
      "text/markdown": [
       "1. TRUE\n",
       "2. TRUE\n",
       "3. FALSE\n",
       "4. TRUE\n",
       "5. FALSE\n",
       "\n",
       "\n"
      ],
      "text/plain": [
       "[1]  TRUE  TRUE FALSE  TRUE FALSE"
      ]
     },
     "metadata": {},
     "output_type": "display_data"
    }
   ],
   "source": [
    "df[,3]"
   ]
  },
  {
   "cell_type": "code",
   "execution_count": 5,
   "metadata": {
    "collapsed": false
   },
   "outputs": [
    {
     "data": {
      "text/html": [
       "<ol class=list-inline>\n",
       "\t<li>Mon</li>\n",
       "\t<li>Tue</li>\n",
       "\t<li>Wed</li>\n",
       "\t<li>Thu</li>\n",
       "\t<li>Fri</li>\n",
       "</ol>\n"
      ],
      "text/latex": [
       "\\begin{enumerate*}\n",
       "\\item Mon\n",
       "\\item Tue\n",
       "\\item Wed\n",
       "\\item Thu\n",
       "\\item Fri\n",
       "\\end{enumerate*}\n"
      ],
      "text/markdown": [
       "1. Mon\n",
       "2. Tue\n",
       "3. Wed\n",
       "4. Thu\n",
       "5. Fri\n",
       "\n",
       "\n"
      ],
      "text/plain": [
       "[1] Mon Tue Wed Thu Fri\n",
       "Levels: Fri Mon Thu Tue Wed"
      ]
     },
     "metadata": {},
     "output_type": "display_data"
    }
   ],
   "source": [
    "df[,1]"
   ]
  },
  {
   "cell_type": "code",
   "execution_count": 6,
   "metadata": {
    "collapsed": false
   },
   "outputs": [
    {
     "data": {
      "text/html": [
       "<ol class=list-inline>\n",
       "\t<li>TRUE</li>\n",
       "\t<li>TRUE</li>\n",
       "\t<li>FALSE</li>\n",
       "\t<li>TRUE</li>\n",
       "\t<li>FALSE</li>\n",
       "</ol>\n"
      ],
      "text/latex": [
       "\\begin{enumerate*}\n",
       "\\item TRUE\n",
       "\\item TRUE\n",
       "\\item FALSE\n",
       "\\item TRUE\n",
       "\\item FALSE\n",
       "\\end{enumerate*}\n"
      ],
      "text/markdown": [
       "1. TRUE\n",
       "2. TRUE\n",
       "3. FALSE\n",
       "4. TRUE\n",
       "5. FALSE\n",
       "\n",
       "\n"
      ],
      "text/plain": [
       "[1]  TRUE  TRUE FALSE  TRUE FALSE"
      ]
     },
     "metadata": {},
     "output_type": "display_data"
    }
   ],
   "source": [
    "df[,'rain']"
   ]
  },
  {
   "cell_type": "code",
   "execution_count": 8,
   "metadata": {
    "collapsed": false
   },
   "outputs": [
    {
     "data": {
      "text/html": [
       "<table>\n",
       "<thead><tr><th scope=col>days</th><th scope=col>temp</th></tr></thead>\n",
       "<tbody>\n",
       "\t<tr><td>Mon </td><td>22.2</td></tr>\n",
       "\t<tr><td>Tue </td><td>21.0</td></tr>\n",
       "\t<tr><td>Wed </td><td>23.0</td></tr>\n",
       "\t<tr><td>Thu </td><td>24.0</td></tr>\n",
       "\t<tr><td>Fri </td><td>25.0</td></tr>\n",
       "</tbody>\n",
       "</table>\n"
      ],
      "text/latex": [
       "\\begin{tabular}{r|ll}\n",
       " days & temp\\\\\n",
       "\\hline\n",
       "\t Mon  & 22.2\\\\\n",
       "\t Tue  & 21.0\\\\\n",
       "\t Wed  & 23.0\\\\\n",
       "\t Thu  & 24.0\\\\\n",
       "\t Fri  & 25.0\\\\\n",
       "\\end{tabular}\n"
      ],
      "text/markdown": [
       "\n",
       "days | temp | \n",
       "|---|---|---|---|---|\n",
       "| Mon  | 22.2 | \n",
       "| Tue  | 21.0 | \n",
       "| Wed  | 23.0 | \n",
       "| Thu  | 24.0 | \n",
       "| Fri  | 25.0 | \n",
       "\n",
       "\n"
      ],
      "text/plain": [
       "  days temp\n",
       "1 Mon  22.2\n",
       "2 Tue  21.0\n",
       "3 Wed  23.0\n",
       "4 Thu  24.0\n",
       "5 Fri  25.0"
      ]
     },
     "metadata": {},
     "output_type": "display_data"
    }
   ],
   "source": [
    "df[1:5,c('days','temp')]"
   ]
  },
  {
   "cell_type": "code",
   "execution_count": 9,
   "metadata": {
    "collapsed": false
   },
   "outputs": [
    {
     "data": {
      "text/html": [
       "<ol class=list-inline>\n",
       "\t<li>Mon</li>\n",
       "\t<li>Tue</li>\n",
       "\t<li>Wed</li>\n",
       "\t<li>Thu</li>\n",
       "\t<li>Fri</li>\n",
       "</ol>\n"
      ],
      "text/latex": [
       "\\begin{enumerate*}\n",
       "\\item Mon\n",
       "\\item Tue\n",
       "\\item Wed\n",
       "\\item Thu\n",
       "\\item Fri\n",
       "\\end{enumerate*}\n"
      ],
      "text/markdown": [
       "1. Mon\n",
       "2. Tue\n",
       "3. Wed\n",
       "4. Thu\n",
       "5. Fri\n",
       "\n",
       "\n"
      ],
      "text/plain": [
       "[1] Mon Tue Wed Thu Fri\n",
       "Levels: Fri Mon Thu Tue Wed"
      ]
     },
     "metadata": {},
     "output_type": "display_data"
    }
   ],
   "source": [
    "df$days      # Vector"
   ]
  },
  {
   "cell_type": "code",
   "execution_count": 10,
   "metadata": {
    "collapsed": false
   },
   "outputs": [
    {
     "data": {
      "text/html": [
       "<ol class=list-inline>\n",
       "\t<li>22.2</li>\n",
       "\t<li>21</li>\n",
       "\t<li>23</li>\n",
       "\t<li>24</li>\n",
       "\t<li>25</li>\n",
       "</ol>\n"
      ],
      "text/latex": [
       "\\begin{enumerate*}\n",
       "\\item 22.2\n",
       "\\item 21\n",
       "\\item 23\n",
       "\\item 24\n",
       "\\item 25\n",
       "\\end{enumerate*}\n"
      ],
      "text/markdown": [
       "1. 22.2\n",
       "2. 21\n",
       "3. 23\n",
       "4. 24\n",
       "5. 25\n",
       "\n",
       "\n"
      ],
      "text/plain": [
       "[1] 22.2 21.0 23.0 24.0 25.0"
      ]
     },
     "metadata": {},
     "output_type": "display_data"
    }
   ],
   "source": [
    "df$temp"
   ]
  },
  {
   "cell_type": "code",
   "execution_count": 11,
   "metadata": {
    "collapsed": false
   },
   "outputs": [
    {
     "data": {
      "text/html": [
       "<table>\n",
       "<thead><tr><th scope=col>days</th></tr></thead>\n",
       "<tbody>\n",
       "\t<tr><td>Mon</td></tr>\n",
       "\t<tr><td>Tue</td></tr>\n",
       "\t<tr><td>Wed</td></tr>\n",
       "\t<tr><td>Thu</td></tr>\n",
       "\t<tr><td>Fri</td></tr>\n",
       "</tbody>\n",
       "</table>\n"
      ],
      "text/latex": [
       "\\begin{tabular}{r|l}\n",
       " days\\\\\n",
       "\\hline\n",
       "\t Mon\\\\\n",
       "\t Tue\\\\\n",
       "\t Wed\\\\\n",
       "\t Thu\\\\\n",
       "\t Fri\\\\\n",
       "\\end{tabular}\n"
      ],
      "text/markdown": [
       "\n",
       "days | \n",
       "|---|---|---|---|---|\n",
       "| Mon | \n",
       "| Tue | \n",
       "| Wed | \n",
       "| Thu | \n",
       "| Fri | \n",
       "\n",
       "\n"
      ],
      "text/plain": [
       "  days\n",
       "1 Mon \n",
       "2 Tue \n",
       "3 Wed \n",
       "4 Thu \n",
       "5 Fri "
      ]
     },
     "metadata": {},
     "output_type": "display_data"
    }
   ],
   "source": [
    "df['days']   # Data Frame format"
   ]
  },
  {
   "cell_type": "code",
   "execution_count": 12,
   "metadata": {
    "collapsed": false
   },
   "outputs": [
    {
     "data": {
      "text/html": [
       "<table>\n",
       "<thead><tr><th></th><th scope=col>days</th><th scope=col>temp</th><th scope=col>rain</th></tr></thead>\n",
       "<tbody>\n",
       "\t<tr><th scope=row>1</th><td>Mon </td><td>22.2</td><td>TRUE</td></tr>\n",
       "\t<tr><th scope=row>2</th><td>Tue </td><td>21.0</td><td>TRUE</td></tr>\n",
       "\t<tr><th scope=row>4</th><td>Thu </td><td>24.0</td><td>TRUE</td></tr>\n",
       "</tbody>\n",
       "</table>\n"
      ],
      "text/latex": [
       "\\begin{tabular}{r|lll}\n",
       "  & days & temp & rain\\\\\n",
       "\\hline\n",
       "\t1 & Mon  & 22.2 & TRUE\\\\\n",
       "\t2 & Tue  & 21.0 & TRUE\\\\\n",
       "\t4 & Thu  & 24.0 & TRUE\\\\\n",
       "\\end{tabular}\n"
      ],
      "text/markdown": [
       "\n",
       "| <!--/--> | days | temp | rain | \n",
       "|---|---|---|\n",
       "| 1 | Mon  | 22.2 | TRUE | \n",
       "| 2 | Tue  | 21.0 | TRUE | \n",
       "| 4 | Thu  | 24.0 | TRUE | \n",
       "\n",
       "\n"
      ],
      "text/plain": [
       "  days temp rain\n",
       "1 Mon  22.2 TRUE\n",
       "2 Tue  21.0 TRUE\n",
       "4 Thu  24.0 TRUE"
      ]
     },
     "metadata": {},
     "output_type": "display_data"
    }
   ],
   "source": [
    "subset(df,subset = rain == T)"
   ]
  },
  {
   "cell_type": "code",
   "execution_count": 13,
   "metadata": {
    "collapsed": false
   },
   "outputs": [
    {
     "data": {
      "text/html": [
       "<table>\n",
       "<thead><tr><th></th><th scope=col>days</th><th scope=col>temp</th><th scope=col>rain</th></tr></thead>\n",
       "<tbody>\n",
       "\t<tr><th scope=row>4</th><td>Thu  </td><td>24   </td><td> TRUE</td></tr>\n",
       "\t<tr><th scope=row>5</th><td>Fri  </td><td>25   </td><td>FALSE</td></tr>\n",
       "</tbody>\n",
       "</table>\n"
      ],
      "text/latex": [
       "\\begin{tabular}{r|lll}\n",
       "  & days & temp & rain\\\\\n",
       "\\hline\n",
       "\t4 & Thu   & 24    &  TRUE\\\\\n",
       "\t5 & Fri   & 25    & FALSE\\\\\n",
       "\\end{tabular}\n"
      ],
      "text/markdown": [
       "\n",
       "| <!--/--> | days | temp | rain | \n",
       "|---|---|\n",
       "| 4 | Thu   | 24    |  TRUE | \n",
       "| 5 | Fri   | 25    | FALSE | \n",
       "\n",
       "\n"
      ],
      "text/plain": [
       "  days temp rain \n",
       "4 Thu  24    TRUE\n",
       "5 Fri  25   FALSE"
      ]
     },
     "metadata": {},
     "output_type": "display_data"
    }
   ],
   "source": [
    "subset(df,subset = temp>23)"
   ]
  },
  {
   "cell_type": "code",
   "execution_count": 14,
   "metadata": {
    "collapsed": true
   },
   "outputs": [],
   "source": [
    "sorted_temp <- order(df['temp'])"
   ]
  },
  {
   "cell_type": "code",
   "execution_count": 15,
   "metadata": {
    "collapsed": false
   },
   "outputs": [
    {
     "data": {
      "text/html": [
       "<ol class=list-inline>\n",
       "\t<li>2</li>\n",
       "\t<li>1</li>\n",
       "\t<li>3</li>\n",
       "\t<li>4</li>\n",
       "\t<li>5</li>\n",
       "</ol>\n"
      ],
      "text/latex": [
       "\\begin{enumerate*}\n",
       "\\item 2\n",
       "\\item 1\n",
       "\\item 3\n",
       "\\item 4\n",
       "\\item 5\n",
       "\\end{enumerate*}\n"
      ],
      "text/markdown": [
       "1. 2\n",
       "2. 1\n",
       "3. 3\n",
       "4. 4\n",
       "5. 5\n",
       "\n",
       "\n"
      ],
      "text/plain": [
       "[1] 2 1 3 4 5"
      ]
     },
     "metadata": {},
     "output_type": "display_data"
    }
   ],
   "source": [
    "sorted_temp"
   ]
  },
  {
   "cell_type": "code",
   "execution_count": 17,
   "metadata": {
    "collapsed": false
   },
   "outputs": [
    {
     "data": {
      "text/html": [
       "<table>\n",
       "<thead><tr><th></th><th scope=col>days</th><th scope=col>temp</th><th scope=col>rain</th></tr></thead>\n",
       "<tbody>\n",
       "\t<tr><th scope=row>2</th><td>Tue  </td><td>21.0 </td><td> TRUE</td></tr>\n",
       "\t<tr><th scope=row>1</th><td>Mon  </td><td>22.2 </td><td> TRUE</td></tr>\n",
       "\t<tr><th scope=row>3</th><td>Wed  </td><td>23.0 </td><td>FALSE</td></tr>\n",
       "\t<tr><th scope=row>4</th><td>Thu  </td><td>24.0 </td><td> TRUE</td></tr>\n",
       "\t<tr><th scope=row>5</th><td>Fri  </td><td>25.0 </td><td>FALSE</td></tr>\n",
       "</tbody>\n",
       "</table>\n"
      ],
      "text/latex": [
       "\\begin{tabular}{r|lll}\n",
       "  & days & temp & rain\\\\\n",
       "\\hline\n",
       "\t2 & Tue   & 21.0  &  TRUE\\\\\n",
       "\t1 & Mon   & 22.2  &  TRUE\\\\\n",
       "\t3 & Wed   & 23.0  & FALSE\\\\\n",
       "\t4 & Thu   & 24.0  &  TRUE\\\\\n",
       "\t5 & Fri   & 25.0  & FALSE\\\\\n",
       "\\end{tabular}\n"
      ],
      "text/markdown": [
       "\n",
       "| <!--/--> | days | temp | rain | \n",
       "|---|---|---|---|---|\n",
       "| 2 | Tue   | 21.0  |  TRUE | \n",
       "| 1 | Mon   | 22.2  |  TRUE | \n",
       "| 3 | Wed   | 23.0  | FALSE | \n",
       "| 4 | Thu   | 24.0  |  TRUE | \n",
       "| 5 | Fri   | 25.0  | FALSE | \n",
       "\n",
       "\n"
      ],
      "text/plain": [
       "  days temp rain \n",
       "2 Tue  21.0  TRUE\n",
       "1 Mon  22.2  TRUE\n",
       "3 Wed  23.0 FALSE\n",
       "4 Thu  24.0  TRUE\n",
       "5 Fri  25.0 FALSE"
      ]
     },
     "metadata": {},
     "output_type": "display_data"
    }
   ],
   "source": [
    "df[sorted_temp,]"
   ]
  },
  {
   "cell_type": "code",
   "execution_count": 18,
   "metadata": {
    "collapsed": true
   },
   "outputs": [],
   "source": [
    "desc_temp <- order(-df['temp'])"
   ]
  },
  {
   "cell_type": "code",
   "execution_count": 19,
   "metadata": {
    "collapsed": false
   },
   "outputs": [
    {
     "data": {
      "text/html": [
       "<ol class=list-inline>\n",
       "\t<li>5</li>\n",
       "\t<li>4</li>\n",
       "\t<li>3</li>\n",
       "\t<li>1</li>\n",
       "\t<li>2</li>\n",
       "</ol>\n"
      ],
      "text/latex": [
       "\\begin{enumerate*}\n",
       "\\item 5\n",
       "\\item 4\n",
       "\\item 3\n",
       "\\item 1\n",
       "\\item 2\n",
       "\\end{enumerate*}\n"
      ],
      "text/markdown": [
       "1. 5\n",
       "2. 4\n",
       "3. 3\n",
       "4. 1\n",
       "5. 2\n",
       "\n",
       "\n"
      ],
      "text/plain": [
       "[1] 5 4 3 1 2"
      ]
     },
     "metadata": {},
     "output_type": "display_data"
    }
   ],
   "source": [
    "desc_temp"
   ]
  },
  {
   "cell_type": "code",
   "execution_count": 21,
   "metadata": {
    "collapsed": false
   },
   "outputs": [
    {
     "data": {
      "text/html": [
       "<table>\n",
       "<thead><tr><th></th><th scope=col>days</th><th scope=col>temp</th><th scope=col>rain</th></tr></thead>\n",
       "<tbody>\n",
       "\t<tr><th scope=row>5</th><td>Fri  </td><td>25.0 </td><td>FALSE</td></tr>\n",
       "\t<tr><th scope=row>4</th><td>Thu  </td><td>24.0 </td><td> TRUE</td></tr>\n",
       "\t<tr><th scope=row>3</th><td>Wed  </td><td>23.0 </td><td>FALSE</td></tr>\n",
       "\t<tr><th scope=row>1</th><td>Mon  </td><td>22.2 </td><td> TRUE</td></tr>\n",
       "\t<tr><th scope=row>2</th><td>Tue  </td><td>21.0 </td><td> TRUE</td></tr>\n",
       "</tbody>\n",
       "</table>\n"
      ],
      "text/latex": [
       "\\begin{tabular}{r|lll}\n",
       "  & days & temp & rain\\\\\n",
       "\\hline\n",
       "\t5 & Fri   & 25.0  & FALSE\\\\\n",
       "\t4 & Thu   & 24.0  &  TRUE\\\\\n",
       "\t3 & Wed   & 23.0  & FALSE\\\\\n",
       "\t1 & Mon   & 22.2  &  TRUE\\\\\n",
       "\t2 & Tue   & 21.0  &  TRUE\\\\\n",
       "\\end{tabular}\n"
      ],
      "text/markdown": [
       "\n",
       "| <!--/--> | days | temp | rain | \n",
       "|---|---|---|---|---|\n",
       "| 5 | Fri   | 25.0  | FALSE | \n",
       "| 4 | Thu   | 24.0  |  TRUE | \n",
       "| 3 | Wed   | 23.0  | FALSE | \n",
       "| 1 | Mon   | 22.2  |  TRUE | \n",
       "| 2 | Tue   | 21.0  |  TRUE | \n",
       "\n",
       "\n"
      ],
      "text/plain": [
       "  days temp rain \n",
       "5 Fri  25.0 FALSE\n",
       "4 Thu  24.0  TRUE\n",
       "3 Wed  23.0 FALSE\n",
       "1 Mon  22.2  TRUE\n",
       "2 Tue  21.0  TRUE"
      ]
     },
     "metadata": {},
     "output_type": "display_data"
    }
   ],
   "source": [
    "df[desc_temp,]"
   ]
  },
  {
   "cell_type": "code",
   "execution_count": 22,
   "metadata": {
    "collapsed": true
   },
   "outputs": [],
   "source": [
    "desc_temp <- order(-df$temp)"
   ]
  },
  {
   "cell_type": "code",
   "execution_count": 23,
   "metadata": {
    "collapsed": false
   },
   "outputs": [
    {
     "data": {
      "text/html": [
       "<table>\n",
       "<thead><tr><th></th><th scope=col>days</th><th scope=col>temp</th><th scope=col>rain</th></tr></thead>\n",
       "<tbody>\n",
       "\t<tr><th scope=row>5</th><td>Fri  </td><td>25.0 </td><td>FALSE</td></tr>\n",
       "\t<tr><th scope=row>4</th><td>Thu  </td><td>24.0 </td><td> TRUE</td></tr>\n",
       "\t<tr><th scope=row>3</th><td>Wed  </td><td>23.0 </td><td>FALSE</td></tr>\n",
       "\t<tr><th scope=row>1</th><td>Mon  </td><td>22.2 </td><td> TRUE</td></tr>\n",
       "\t<tr><th scope=row>2</th><td>Tue  </td><td>21.0 </td><td> TRUE</td></tr>\n",
       "</tbody>\n",
       "</table>\n"
      ],
      "text/latex": [
       "\\begin{tabular}{r|lll}\n",
       "  & days & temp & rain\\\\\n",
       "\\hline\n",
       "\t5 & Fri   & 25.0  & FALSE\\\\\n",
       "\t4 & Thu   & 24.0  &  TRUE\\\\\n",
       "\t3 & Wed   & 23.0  & FALSE\\\\\n",
       "\t1 & Mon   & 22.2  &  TRUE\\\\\n",
       "\t2 & Tue   & 21.0  &  TRUE\\\\\n",
       "\\end{tabular}\n"
      ],
      "text/markdown": [
       "\n",
       "| <!--/--> | days | temp | rain | \n",
       "|---|---|---|---|---|\n",
       "| 5 | Fri   | 25.0  | FALSE | \n",
       "| 4 | Thu   | 24.0  |  TRUE | \n",
       "| 3 | Wed   | 23.0  | FALSE | \n",
       "| 1 | Mon   | 22.2  |  TRUE | \n",
       "| 2 | Tue   | 21.0  |  TRUE | \n",
       "\n",
       "\n"
      ],
      "text/plain": [
       "  days temp rain \n",
       "5 Fri  25.0 FALSE\n",
       "4 Thu  24.0  TRUE\n",
       "3 Wed  23.0 FALSE\n",
       "1 Mon  22.2  TRUE\n",
       "2 Tue  21.0  TRUE"
      ]
     },
     "metadata": {},
     "output_type": "display_data"
    }
   ],
   "source": [
    "df[desc_temp,]"
   ]
  },
  {
   "cell_type": "code",
   "execution_count": null,
   "metadata": {
    "collapsed": true
   },
   "outputs": [],
   "source": []
  }
 ],
 "metadata": {
  "kernelspec": {
   "display_name": "R",
   "language": "R",
   "name": "ir"
  },
  "language_info": {
   "codemirror_mode": "r",
   "file_extension": ".r",
   "mimetype": "text/x-r-source",
   "name": "R",
   "pygments_lexer": "r",
   "version": "3.3.2"
  }
 },
 "nbformat": 4,
 "nbformat_minor": 2
}
