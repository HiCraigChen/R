{
 "cells": [
  {
   "cell_type": "code",
   "execution_count": 1,
   "metadata": {
    "collapsed": false
   },
   "outputs": [
    {
     "name": "stdout",
     "output_type": "stream",
     "text": [
      "[1] \"Just a string\"\n"
     ]
    }
   ],
   "source": [
    "print('Just a string')"
   ]
  },
  {
   "cell_type": "code",
   "execution_count": 2,
   "metadata": {
    "collapsed": false
   },
   "outputs": [
    {
     "name": "stdout",
     "output_type": "stream",
     "text": [
      "My variable is:  a variable"
     ]
    }
   ],
   "source": [
    "var <- 'a variable'\n",
    "cat('My variable is: ',var)"
   ]
  },
  {
   "cell_type": "code",
   "execution_count": 3,
   "metadata": {
    "collapsed": false
   },
   "outputs": [
    {
     "name": "stdout",
     "output_type": "stream",
     "text": [
      "My number is: 25"
     ]
    }
   ],
   "source": [
    "var <- 25\n",
    "cat('My number is:',var)"
   ]
  },
  {
   "cell_type": "code",
   "execution_count": 4,
   "metadata": {
    "collapsed": false
   },
   "outputs": [
    {
     "name": "stdout",
     "output_type": "stream",
     "text": [
      "[1] \"Variable is: 25\"\n"
     ]
    }
   ],
   "source": [
    "# Could also use:\n",
    "print(paste0(\"Variable is: \", var))"
   ]
  },
  {
   "cell_type": "code",
   "execution_count": 9,
   "metadata": {
    "collapsed": false
   },
   "outputs": [
    {
     "name": "stdout",
     "output_type": "stream",
     "text": [
      "x is currently:  0[1] \" x is still less than 10, adding 1 to x\"\n",
      "x is currently:  1[1] \" x is still less than 10, adding 1 to x\"\n",
      "x is currently:  2[1] \" x is still less than 10, adding 1 to x\"\n",
      "x is currently:  3[1] \" x is still less than 10, adding 1 to x\"\n",
      "x is currently:  4[1] \" x is still less than 10, adding 1 to x\"\n",
      "x is currently:  5[1] \" x is still less than 10, adding 1 to x\"\n",
      "x is currently:  6[1] \" x is still less than 10, adding 1 to x\"\n",
      "x is currently:  7[1] \" x is still less than 10, adding 1 to x\"\n",
      "x is currently:  8[1] \" x is still less than 10, adding 1 to x\"\n",
      "x is currently:  9[1] \" x is still less than 10, adding 1 to x\"\n",
      "[1] \"x is equal to 10!\"\n"
     ]
    }
   ],
   "source": [
    "x <- 0\n",
    "\n",
    "while(x < 10){\n",
    "    \n",
    "    cat('x is currently: ',x)\n",
    "    print(' x is still less than 10, adding 1 to x')\n",
    "    \n",
    "    # add one to x\n",
    "    x <- x+1\n",
    "    if(x==10){\n",
    "        print(\"x is equal to 10!\")\n",
    "        break\n",
    "        print(\"I will also print, woohoo!\")\n",
    "    }\n",
    "}"
   ]
  },
  {
   "cell_type": "code",
   "execution_count": null,
   "metadata": {
    "collapsed": true
   },
   "outputs": [],
   "source": []
  }
 ],
 "metadata": {
  "kernelspec": {
   "display_name": "R",
   "language": "R",
   "name": "ir"
  },
  "language_info": {
   "codemirror_mode": "r",
   "file_extension": ".r",
   "mimetype": "text/x-r-source",
   "name": "R",
   "pygments_lexer": "r",
   "version": "3.3.2"
  }
 },
 "nbformat": 4,
 "nbformat_minor": 2
}
