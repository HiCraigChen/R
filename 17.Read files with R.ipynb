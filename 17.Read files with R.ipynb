{
 "cells": [
  {
   "cell_type": "code",
   "execution_count": 1,
   "metadata": {
    "collapsed": true
   },
   "outputs": [],
   "source": [
    "write.csv(mtcars,file='my_example.csv')"
   ]
  },
  {
   "cell_type": "code",
   "execution_count": 2,
   "metadata": {
    "collapsed": true
   },
   "outputs": [],
   "source": [
    "ex <- read.csv('my_example.csv')"
   ]
  },
  {
   "cell_type": "code",
   "execution_count": 3,
   "metadata": {
    "collapsed": false,
    "scrolled": true
   },
   "outputs": [
    {
     "data": {
      "text/html": [
       "<table>\n",
       "<thead><tr><th scope=col>X</th><th scope=col>mpg</th><th scope=col>cyl</th><th scope=col>disp</th><th scope=col>hp</th><th scope=col>drat</th><th scope=col>wt</th><th scope=col>qsec</th><th scope=col>vs</th><th scope=col>am</th><th scope=col>gear</th><th scope=col>carb</th></tr></thead>\n",
       "<tbody>\n",
       "\t<tr><td>Mazda RX4          </td><td>21.0               </td><td>6                  </td><td>160.0              </td><td>110                </td><td>3.90               </td><td>2.620              </td><td>16.46              </td><td>0                  </td><td>1                  </td><td>4                  </td><td>4                  </td></tr>\n",
       "\t<tr><td>Mazda RX4 Wag      </td><td>21.0               </td><td>6                  </td><td>160.0              </td><td>110                </td><td>3.90               </td><td>2.875              </td><td>17.02              </td><td>0                  </td><td>1                  </td><td>4                  </td><td>4                  </td></tr>\n",
       "\t<tr><td>Datsun 710         </td><td>22.8               </td><td>4                  </td><td>108.0              </td><td> 93                </td><td>3.85               </td><td>2.320              </td><td>18.61              </td><td>1                  </td><td>1                  </td><td>4                  </td><td>1                  </td></tr>\n",
       "\t<tr><td>Hornet 4 Drive     </td><td>21.4               </td><td>6                  </td><td>258.0              </td><td>110                </td><td>3.08               </td><td>3.215              </td><td>19.44              </td><td>1                  </td><td>0                  </td><td>3                  </td><td>1                  </td></tr>\n",
       "\t<tr><td>Hornet Sportabout  </td><td>18.7               </td><td>8                  </td><td>360.0              </td><td>175                </td><td>3.15               </td><td>3.440              </td><td>17.02              </td><td>0                  </td><td>0                  </td><td>3                  </td><td>2                  </td></tr>\n",
       "\t<tr><td>Valiant            </td><td>18.1               </td><td>6                  </td><td>225.0              </td><td>105                </td><td>2.76               </td><td>3.460              </td><td>20.22              </td><td>1                  </td><td>0                  </td><td>3                  </td><td>1                  </td></tr>\n",
       "\t<tr><td>Duster 360         </td><td>14.3               </td><td>8                  </td><td>360.0              </td><td>245                </td><td>3.21               </td><td>3.570              </td><td>15.84              </td><td>0                  </td><td>0                  </td><td>3                  </td><td>4                  </td></tr>\n",
       "\t<tr><td>Merc 240D          </td><td>24.4               </td><td>4                  </td><td>146.7              </td><td> 62                </td><td>3.69               </td><td>3.190              </td><td>20.00              </td><td>1                  </td><td>0                  </td><td>4                  </td><td>2                  </td></tr>\n",
       "\t<tr><td>Merc 230           </td><td>22.8               </td><td>4                  </td><td>140.8              </td><td> 95                </td><td>3.92               </td><td>3.150              </td><td>22.90              </td><td>1                  </td><td>0                  </td><td>4                  </td><td>2                  </td></tr>\n",
       "\t<tr><td>Merc 280           </td><td>19.2               </td><td>6                  </td><td>167.6              </td><td>123                </td><td>3.92               </td><td>3.440              </td><td>18.30              </td><td>1                  </td><td>0                  </td><td>4                  </td><td>4                  </td></tr>\n",
       "\t<tr><td>Merc 280C          </td><td>17.8               </td><td>6                  </td><td>167.6              </td><td>123                </td><td>3.92               </td><td>3.440              </td><td>18.90              </td><td>1                  </td><td>0                  </td><td>4                  </td><td>4                  </td></tr>\n",
       "\t<tr><td>Merc 450SE         </td><td>16.4               </td><td>8                  </td><td>275.8              </td><td>180                </td><td>3.07               </td><td>4.070              </td><td>17.40              </td><td>0                  </td><td>0                  </td><td>3                  </td><td>3                  </td></tr>\n",
       "\t<tr><td>Merc 450SL         </td><td>17.3               </td><td>8                  </td><td>275.8              </td><td>180                </td><td>3.07               </td><td>3.730              </td><td>17.60              </td><td>0                  </td><td>0                  </td><td>3                  </td><td>3                  </td></tr>\n",
       "\t<tr><td>Merc 450SLC        </td><td>15.2               </td><td>8                  </td><td>275.8              </td><td>180                </td><td>3.07               </td><td>3.780              </td><td>18.00              </td><td>0                  </td><td>0                  </td><td>3                  </td><td>3                  </td></tr>\n",
       "\t<tr><td>Cadillac Fleetwood </td><td>10.4               </td><td>8                  </td><td>472.0              </td><td>205                </td><td>2.93               </td><td>5.250              </td><td>17.98              </td><td>0                  </td><td>0                  </td><td>3                  </td><td>4                  </td></tr>\n",
       "\t<tr><td>Lincoln Continental</td><td>10.4               </td><td>8                  </td><td>460.0              </td><td>215                </td><td>3.00               </td><td>5.424              </td><td>17.82              </td><td>0                  </td><td>0                  </td><td>3                  </td><td>4                  </td></tr>\n",
       "\t<tr><td>Chrysler Imperial  </td><td>14.7               </td><td>8                  </td><td>440.0              </td><td>230                </td><td>3.23               </td><td>5.345              </td><td>17.42              </td><td>0                  </td><td>0                  </td><td>3                  </td><td>4                  </td></tr>\n",
       "\t<tr><td>Fiat 128           </td><td>32.4               </td><td>4                  </td><td> 78.7              </td><td> 66                </td><td>4.08               </td><td>2.200              </td><td>19.47              </td><td>1                  </td><td>1                  </td><td>4                  </td><td>1                  </td></tr>\n",
       "\t<tr><td>Honda Civic        </td><td>30.4               </td><td>4                  </td><td> 75.7              </td><td> 52                </td><td>4.93               </td><td>1.615              </td><td>18.52              </td><td>1                  </td><td>1                  </td><td>4                  </td><td>2                  </td></tr>\n",
       "\t<tr><td>Toyota Corolla     </td><td>33.9               </td><td>4                  </td><td> 71.1              </td><td> 65                </td><td>4.22               </td><td>1.835              </td><td>19.90              </td><td>1                  </td><td>1                  </td><td>4                  </td><td>1                  </td></tr>\n",
       "\t<tr><td>Toyota Corona      </td><td>21.5               </td><td>4                  </td><td>120.1              </td><td> 97                </td><td>3.70               </td><td>2.465              </td><td>20.01              </td><td>1                  </td><td>0                  </td><td>3                  </td><td>1                  </td></tr>\n",
       "\t<tr><td>Dodge Challenger   </td><td>15.5               </td><td>8                  </td><td>318.0              </td><td>150                </td><td>2.76               </td><td>3.520              </td><td>16.87              </td><td>0                  </td><td>0                  </td><td>3                  </td><td>2                  </td></tr>\n",
       "\t<tr><td>AMC Javelin        </td><td>15.2               </td><td>8                  </td><td>304.0              </td><td>150                </td><td>3.15               </td><td>3.435              </td><td>17.30              </td><td>0                  </td><td>0                  </td><td>3                  </td><td>2                  </td></tr>\n",
       "\t<tr><td>Camaro Z28         </td><td>13.3               </td><td>8                  </td><td>350.0              </td><td>245                </td><td>3.73               </td><td>3.840              </td><td>15.41              </td><td>0                  </td><td>0                  </td><td>3                  </td><td>4                  </td></tr>\n",
       "\t<tr><td>Pontiac Firebird   </td><td>19.2               </td><td>8                  </td><td>400.0              </td><td>175                </td><td>3.08               </td><td>3.845              </td><td>17.05              </td><td>0                  </td><td>0                  </td><td>3                  </td><td>2                  </td></tr>\n",
       "\t<tr><td>Fiat X1-9          </td><td>27.3               </td><td>4                  </td><td> 79.0              </td><td> 66                </td><td>4.08               </td><td>1.935              </td><td>18.90              </td><td>1                  </td><td>1                  </td><td>4                  </td><td>1                  </td></tr>\n",
       "\t<tr><td>Porsche 914-2      </td><td>26.0               </td><td>4                  </td><td>120.3              </td><td> 91                </td><td>4.43               </td><td>2.140              </td><td>16.70              </td><td>0                  </td><td>1                  </td><td>5                  </td><td>2                  </td></tr>\n",
       "\t<tr><td>Lotus Europa       </td><td>30.4               </td><td>4                  </td><td> 95.1              </td><td>113                </td><td>3.77               </td><td>1.513              </td><td>16.90              </td><td>1                  </td><td>1                  </td><td>5                  </td><td>2                  </td></tr>\n",
       "\t<tr><td>Ford Pantera L     </td><td>15.8               </td><td>8                  </td><td>351.0              </td><td>264                </td><td>4.22               </td><td>3.170              </td><td>14.50              </td><td>0                  </td><td>1                  </td><td>5                  </td><td>4                  </td></tr>\n",
       "\t<tr><td>Ferrari Dino       </td><td>19.7               </td><td>6                  </td><td>145.0              </td><td>175                </td><td>3.62               </td><td>2.770              </td><td>15.50              </td><td>0                  </td><td>1                  </td><td>5                  </td><td>6                  </td></tr>\n",
       "\t<tr><td>Maserati Bora      </td><td>15.0               </td><td>8                  </td><td>301.0              </td><td>335                </td><td>3.54               </td><td>3.570              </td><td>14.60              </td><td>0                  </td><td>1                  </td><td>5                  </td><td>8                  </td></tr>\n",
       "\t<tr><td>Volvo 142E         </td><td>21.4               </td><td>4                  </td><td>121.0              </td><td>109                </td><td>4.11               </td><td>2.780              </td><td>18.60              </td><td>1                  </td><td>1                  </td><td>4                  </td><td>2                  </td></tr>\n",
       "</tbody>\n",
       "</table>\n"
      ],
      "text/latex": [
       "\\begin{tabular}{r|llllllllllll}\n",
       " X & mpg & cyl & disp & hp & drat & wt & qsec & vs & am & gear & carb\\\\\n",
       "\\hline\n",
       "\t Mazda RX4           & 21.0                & 6                   & 160.0               & 110                 & 3.90                & 2.620               & 16.46               & 0                   & 1                   & 4                   & 4                  \\\\\n",
       "\t Mazda RX4 Wag       & 21.0                & 6                   & 160.0               & 110                 & 3.90                & 2.875               & 17.02               & 0                   & 1                   & 4                   & 4                  \\\\\n",
       "\t Datsun 710          & 22.8                & 4                   & 108.0               &  93                 & 3.85                & 2.320               & 18.61               & 1                   & 1                   & 4                   & 1                  \\\\\n",
       "\t Hornet 4 Drive      & 21.4                & 6                   & 258.0               & 110                 & 3.08                & 3.215               & 19.44               & 1                   & 0                   & 3                   & 1                  \\\\\n",
       "\t Hornet Sportabout   & 18.7                & 8                   & 360.0               & 175                 & 3.15                & 3.440               & 17.02               & 0                   & 0                   & 3                   & 2                  \\\\\n",
       "\t Valiant             & 18.1                & 6                   & 225.0               & 105                 & 2.76                & 3.460               & 20.22               & 1                   & 0                   & 3                   & 1                  \\\\\n",
       "\t Duster 360          & 14.3                & 8                   & 360.0               & 245                 & 3.21                & 3.570               & 15.84               & 0                   & 0                   & 3                   & 4                  \\\\\n",
       "\t Merc 240D           & 24.4                & 4                   & 146.7               &  62                 & 3.69                & 3.190               & 20.00               & 1                   & 0                   & 4                   & 2                  \\\\\n",
       "\t Merc 230            & 22.8                & 4                   & 140.8               &  95                 & 3.92                & 3.150               & 22.90               & 1                   & 0                   & 4                   & 2                  \\\\\n",
       "\t Merc 280            & 19.2                & 6                   & 167.6               & 123                 & 3.92                & 3.440               & 18.30               & 1                   & 0                   & 4                   & 4                  \\\\\n",
       "\t Merc 280C           & 17.8                & 6                   & 167.6               & 123                 & 3.92                & 3.440               & 18.90               & 1                   & 0                   & 4                   & 4                  \\\\\n",
       "\t Merc 450SE          & 16.4                & 8                   & 275.8               & 180                 & 3.07                & 4.070               & 17.40               & 0                   & 0                   & 3                   & 3                  \\\\\n",
       "\t Merc 450SL          & 17.3                & 8                   & 275.8               & 180                 & 3.07                & 3.730               & 17.60               & 0                   & 0                   & 3                   & 3                  \\\\\n",
       "\t Merc 450SLC         & 15.2                & 8                   & 275.8               & 180                 & 3.07                & 3.780               & 18.00               & 0                   & 0                   & 3                   & 3                  \\\\\n",
       "\t Cadillac Fleetwood  & 10.4                & 8                   & 472.0               & 205                 & 2.93                & 5.250               & 17.98               & 0                   & 0                   & 3                   & 4                  \\\\\n",
       "\t Lincoln Continental & 10.4                & 8                   & 460.0               & 215                 & 3.00                & 5.424               & 17.82               & 0                   & 0                   & 3                   & 4                  \\\\\n",
       "\t Chrysler Imperial   & 14.7                & 8                   & 440.0               & 230                 & 3.23                & 5.345               & 17.42               & 0                   & 0                   & 3                   & 4                  \\\\\n",
       "\t Fiat 128            & 32.4                & 4                   &  78.7               &  66                 & 4.08                & 2.200               & 19.47               & 1                   & 1                   & 4                   & 1                  \\\\\n",
       "\t Honda Civic         & 30.4                & 4                   &  75.7               &  52                 & 4.93                & 1.615               & 18.52               & 1                   & 1                   & 4                   & 2                  \\\\\n",
       "\t Toyota Corolla      & 33.9                & 4                   &  71.1               &  65                 & 4.22                & 1.835               & 19.90               & 1                   & 1                   & 4                   & 1                  \\\\\n",
       "\t Toyota Corona       & 21.5                & 4                   & 120.1               &  97                 & 3.70                & 2.465               & 20.01               & 1                   & 0                   & 3                   & 1                  \\\\\n",
       "\t Dodge Challenger    & 15.5                & 8                   & 318.0               & 150                 & 2.76                & 3.520               & 16.87               & 0                   & 0                   & 3                   & 2                  \\\\\n",
       "\t AMC Javelin         & 15.2                & 8                   & 304.0               & 150                 & 3.15                & 3.435               & 17.30               & 0                   & 0                   & 3                   & 2                  \\\\\n",
       "\t Camaro Z28          & 13.3                & 8                   & 350.0               & 245                 & 3.73                & 3.840               & 15.41               & 0                   & 0                   & 3                   & 4                  \\\\\n",
       "\t Pontiac Firebird    & 19.2                & 8                   & 400.0               & 175                 & 3.08                & 3.845               & 17.05               & 0                   & 0                   & 3                   & 2                  \\\\\n",
       "\t Fiat X1-9           & 27.3                & 4                   &  79.0               &  66                 & 4.08                & 1.935               & 18.90               & 1                   & 1                   & 4                   & 1                  \\\\\n",
       "\t Porsche 914-2       & 26.0                & 4                   & 120.3               &  91                 & 4.43                & 2.140               & 16.70               & 0                   & 1                   & 5                   & 2                  \\\\\n",
       "\t Lotus Europa        & 30.4                & 4                   &  95.1               & 113                 & 3.77                & 1.513               & 16.90               & 1                   & 1                   & 5                   & 2                  \\\\\n",
       "\t Ford Pantera L      & 15.8                & 8                   & 351.0               & 264                 & 4.22                & 3.170               & 14.50               & 0                   & 1                   & 5                   & 4                  \\\\\n",
       "\t Ferrari Dino        & 19.7                & 6                   & 145.0               & 175                 & 3.62                & 2.770               & 15.50               & 0                   & 1                   & 5                   & 6                  \\\\\n",
       "\t Maserati Bora       & 15.0                & 8                   & 301.0               & 335                 & 3.54                & 3.570               & 14.60               & 0                   & 1                   & 5                   & 8                  \\\\\n",
       "\t Volvo 142E          & 21.4                & 4                   & 121.0               & 109                 & 4.11                & 2.780               & 18.60               & 1                   & 1                   & 4                   & 2                  \\\\\n",
       "\\end{tabular}\n"
      ],
      "text/markdown": [
       "\n",
       "X | mpg | cyl | disp | hp | drat | wt | qsec | vs | am | gear | carb | \n",
       "|---|---|---|---|---|---|---|---|---|---|---|---|---|---|---|---|---|---|---|---|---|---|---|---|---|---|---|---|---|---|---|---|\n",
       "| Mazda RX4           | 21.0                | 6                   | 160.0               | 110                 | 3.90                | 2.620               | 16.46               | 0                   | 1                   | 4                   | 4                   | \n",
       "| Mazda RX4 Wag       | 21.0                | 6                   | 160.0               | 110                 | 3.90                | 2.875               | 17.02               | 0                   | 1                   | 4                   | 4                   | \n",
       "| Datsun 710          | 22.8                | 4                   | 108.0               |  93                 | 3.85                | 2.320               | 18.61               | 1                   | 1                   | 4                   | 1                   | \n",
       "| Hornet 4 Drive      | 21.4                | 6                   | 258.0               | 110                 | 3.08                | 3.215               | 19.44               | 1                   | 0                   | 3                   | 1                   | \n",
       "| Hornet Sportabout   | 18.7                | 8                   | 360.0               | 175                 | 3.15                | 3.440               | 17.02               | 0                   | 0                   | 3                   | 2                   | \n",
       "| Valiant             | 18.1                | 6                   | 225.0               | 105                 | 2.76                | 3.460               | 20.22               | 1                   | 0                   | 3                   | 1                   | \n",
       "| Duster 360          | 14.3                | 8                   | 360.0               | 245                 | 3.21                | 3.570               | 15.84               | 0                   | 0                   | 3                   | 4                   | \n",
       "| Merc 240D           | 24.4                | 4                   | 146.7               |  62                 | 3.69                | 3.190               | 20.00               | 1                   | 0                   | 4                   | 2                   | \n",
       "| Merc 230            | 22.8                | 4                   | 140.8               |  95                 | 3.92                | 3.150               | 22.90               | 1                   | 0                   | 4                   | 2                   | \n",
       "| Merc 280            | 19.2                | 6                   | 167.6               | 123                 | 3.92                | 3.440               | 18.30               | 1                   | 0                   | 4                   | 4                   | \n",
       "| Merc 280C           | 17.8                | 6                   | 167.6               | 123                 | 3.92                | 3.440               | 18.90               | 1                   | 0                   | 4                   | 4                   | \n",
       "| Merc 450SE          | 16.4                | 8                   | 275.8               | 180                 | 3.07                | 4.070               | 17.40               | 0                   | 0                   | 3                   | 3                   | \n",
       "| Merc 450SL          | 17.3                | 8                   | 275.8               | 180                 | 3.07                | 3.730               | 17.60               | 0                   | 0                   | 3                   | 3                   | \n",
       "| Merc 450SLC         | 15.2                | 8                   | 275.8               | 180                 | 3.07                | 3.780               | 18.00               | 0                   | 0                   | 3                   | 3                   | \n",
       "| Cadillac Fleetwood  | 10.4                | 8                   | 472.0               | 205                 | 2.93                | 5.250               | 17.98               | 0                   | 0                   | 3                   | 4                   | \n",
       "| Lincoln Continental | 10.4                | 8                   | 460.0               | 215                 | 3.00                | 5.424               | 17.82               | 0                   | 0                   | 3                   | 4                   | \n",
       "| Chrysler Imperial   | 14.7                | 8                   | 440.0               | 230                 | 3.23                | 5.345               | 17.42               | 0                   | 0                   | 3                   | 4                   | \n",
       "| Fiat 128            | 32.4                | 4                   |  78.7               |  66                 | 4.08                | 2.200               | 19.47               | 1                   | 1                   | 4                   | 1                   | \n",
       "| Honda Civic         | 30.4                | 4                   |  75.7               |  52                 | 4.93                | 1.615               | 18.52               | 1                   | 1                   | 4                   | 2                   | \n",
       "| Toyota Corolla      | 33.9                | 4                   |  71.1               |  65                 | 4.22                | 1.835               | 19.90               | 1                   | 1                   | 4                   | 1                   | \n",
       "| Toyota Corona       | 21.5                | 4                   | 120.1               |  97                 | 3.70                | 2.465               | 20.01               | 1                   | 0                   | 3                   | 1                   | \n",
       "| Dodge Challenger    | 15.5                | 8                   | 318.0               | 150                 | 2.76                | 3.520               | 16.87               | 0                   | 0                   | 3                   | 2                   | \n",
       "| AMC Javelin         | 15.2                | 8                   | 304.0               | 150                 | 3.15                | 3.435               | 17.30               | 0                   | 0                   | 3                   | 2                   | \n",
       "| Camaro Z28          | 13.3                | 8                   | 350.0               | 245                 | 3.73                | 3.840               | 15.41               | 0                   | 0                   | 3                   | 4                   | \n",
       "| Pontiac Firebird    | 19.2                | 8                   | 400.0               | 175                 | 3.08                | 3.845               | 17.05               | 0                   | 0                   | 3                   | 2                   | \n",
       "| Fiat X1-9           | 27.3                | 4                   |  79.0               |  66                 | 4.08                | 1.935               | 18.90               | 1                   | 1                   | 4                   | 1                   | \n",
       "| Porsche 914-2       | 26.0                | 4                   | 120.3               |  91                 | 4.43                | 2.140               | 16.70               | 0                   | 1                   | 5                   | 2                   | \n",
       "| Lotus Europa        | 30.4                | 4                   |  95.1               | 113                 | 3.77                | 1.513               | 16.90               | 1                   | 1                   | 5                   | 2                   | \n",
       "| Ford Pantera L      | 15.8                | 8                   | 351.0               | 264                 | 4.22                | 3.170               | 14.50               | 0                   | 1                   | 5                   | 4                   | \n",
       "| Ferrari Dino        | 19.7                | 6                   | 145.0               | 175                 | 3.62                | 2.770               | 15.50               | 0                   | 1                   | 5                   | 6                   | \n",
       "| Maserati Bora       | 15.0                | 8                   | 301.0               | 335                 | 3.54                | 3.570               | 14.60               | 0                   | 1                   | 5                   | 8                   | \n",
       "| Volvo 142E          | 21.4                | 4                   | 121.0               | 109                 | 4.11                | 2.780               | 18.60               | 1                   | 1                   | 4                   | 2                   | \n",
       "\n",
       "\n"
      ],
      "text/plain": [
       "   X                   mpg  cyl disp  hp  drat wt    qsec  vs am gear carb\n",
       "1  Mazda RX4           21.0 6   160.0 110 3.90 2.620 16.46 0  1  4    4   \n",
       "2  Mazda RX4 Wag       21.0 6   160.0 110 3.90 2.875 17.02 0  1  4    4   \n",
       "3  Datsun 710          22.8 4   108.0  93 3.85 2.320 18.61 1  1  4    1   \n",
       "4  Hornet 4 Drive      21.4 6   258.0 110 3.08 3.215 19.44 1  0  3    1   \n",
       "5  Hornet Sportabout   18.7 8   360.0 175 3.15 3.440 17.02 0  0  3    2   \n",
       "6  Valiant             18.1 6   225.0 105 2.76 3.460 20.22 1  0  3    1   \n",
       "7  Duster 360          14.3 8   360.0 245 3.21 3.570 15.84 0  0  3    4   \n",
       "8  Merc 240D           24.4 4   146.7  62 3.69 3.190 20.00 1  0  4    2   \n",
       "9  Merc 230            22.8 4   140.8  95 3.92 3.150 22.90 1  0  4    2   \n",
       "10 Merc 280            19.2 6   167.6 123 3.92 3.440 18.30 1  0  4    4   \n",
       "11 Merc 280C           17.8 6   167.6 123 3.92 3.440 18.90 1  0  4    4   \n",
       "12 Merc 450SE          16.4 8   275.8 180 3.07 4.070 17.40 0  0  3    3   \n",
       "13 Merc 450SL          17.3 8   275.8 180 3.07 3.730 17.60 0  0  3    3   \n",
       "14 Merc 450SLC         15.2 8   275.8 180 3.07 3.780 18.00 0  0  3    3   \n",
       "15 Cadillac Fleetwood  10.4 8   472.0 205 2.93 5.250 17.98 0  0  3    4   \n",
       "16 Lincoln Continental 10.4 8   460.0 215 3.00 5.424 17.82 0  0  3    4   \n",
       "17 Chrysler Imperial   14.7 8   440.0 230 3.23 5.345 17.42 0  0  3    4   \n",
       "18 Fiat 128            32.4 4    78.7  66 4.08 2.200 19.47 1  1  4    1   \n",
       "19 Honda Civic         30.4 4    75.7  52 4.93 1.615 18.52 1  1  4    2   \n",
       "20 Toyota Corolla      33.9 4    71.1  65 4.22 1.835 19.90 1  1  4    1   \n",
       "21 Toyota Corona       21.5 4   120.1  97 3.70 2.465 20.01 1  0  3    1   \n",
       "22 Dodge Challenger    15.5 8   318.0 150 2.76 3.520 16.87 0  0  3    2   \n",
       "23 AMC Javelin         15.2 8   304.0 150 3.15 3.435 17.30 0  0  3    2   \n",
       "24 Camaro Z28          13.3 8   350.0 245 3.73 3.840 15.41 0  0  3    4   \n",
       "25 Pontiac Firebird    19.2 8   400.0 175 3.08 3.845 17.05 0  0  3    2   \n",
       "26 Fiat X1-9           27.3 4    79.0  66 4.08 1.935 18.90 1  1  4    1   \n",
       "27 Porsche 914-2       26.0 4   120.3  91 4.43 2.140 16.70 0  1  5    2   \n",
       "28 Lotus Europa        30.4 4    95.1 113 3.77 1.513 16.90 1  1  5    2   \n",
       "29 Ford Pantera L      15.8 8   351.0 264 4.22 3.170 14.50 0  1  5    4   \n",
       "30 Ferrari Dino        19.7 6   145.0 175 3.62 2.770 15.50 0  1  5    6   \n",
       "31 Maserati Bora       15.0 8   301.0 335 3.54 3.570 14.60 0  1  5    8   \n",
       "32 Volvo 142E          21.4 4   121.0 109 4.11 2.780 18.60 1  1  4    2   "
      ]
     },
     "metadata": {},
     "output_type": "display_data"
    }
   ],
   "source": [
    "ex"
   ]
  },
  {
   "cell_type": "code",
   "execution_count": 4,
   "metadata": {
    "collapsed": false
   },
   "outputs": [
    {
     "data": {
      "text/html": [
       "'data.frame'"
      ],
      "text/latex": [
       "'data.frame'"
      ],
      "text/markdown": [
       "'data.frame'"
      ],
      "text/plain": [
       "[1] \"data.frame\""
      ]
     },
     "metadata": {},
     "output_type": "display_data"
    }
   ],
   "source": [
    "class(ex)"
   ]
  },
  {
   "cell_type": "code",
   "execution_count": 5,
   "metadata": {
    "collapsed": true
   },
   "outputs": [],
   "source": [
    "help('read.csv2')"
   ]
  },
  {
   "cell_type": "code",
   "execution_count": 6,
   "metadata": {
    "collapsed": false
   },
   "outputs": [
    {
     "name": "stderr",
     "output_type": "stream",
     "text": [
      "also installing the dependencies ‘rematch’, ‘lazyeval’, ‘cellranger’, ‘tibble’\n",
      "\n"
     ]
    },
    {
     "name": "stdout",
     "output_type": "stream",
     "text": [
      "\n",
      "The downloaded binary packages are in\n",
      "\t/var/folders/py/lhhb009s773f7xlgffm6ysjw0000gn/T//Rtmp4BsP5O/downloaded_packages\n"
     ]
    }
   ],
   "source": [
    "install.packages(\"readxl\")    # Install package"
   ]
  },
  {
   "cell_type": "code",
   "execution_count": 7,
   "metadata": {
    "collapsed": true
   },
   "outputs": [],
   "source": [
    "library(readxl)"
   ]
  },
  {
   "cell_type": "code",
   "execution_count": 8,
   "metadata": {
    "collapsed": false
   },
   "outputs": [
    {
     "data": {
      "text/html": [
       "'Sheet1'"
      ],
      "text/latex": [
       "'Sheet1'"
      ],
      "text/markdown": [
       "'Sheet1'"
      ],
      "text/plain": [
       "[1] \"Sheet1\""
      ]
     },
     "metadata": {},
     "output_type": "display_data"
    }
   ],
   "source": [
    "excel_sheets('Data//Sample-Sales-Data.xlsx')"
   ]
  },
  {
   "cell_type": "code",
   "execution_count": 9,
   "metadata": {
    "collapsed": true
   },
   "outputs": [],
   "source": [
    "df <- read_excel('Data//Sample-Sales-Data.xlsx',sheet = 'Sheet1')"
   ]
  },
  {
   "cell_type": "code",
   "execution_count": 11,
   "metadata": {
    "collapsed": false
   },
   "outputs": [
    {
     "data": {
      "text/html": [
       "<table>\n",
       "<thead><tr><th scope=col>Postcode</th><th scope=col>Sales_Rep_ID</th><th scope=col>Sales_Rep_Name</th><th scope=col>Year</th><th scope=col>Value</th></tr></thead>\n",
       "<tbody>\n",
       "\t<tr><td>2121    </td><td>456     </td><td>Jane    </td><td>2011    </td><td>84219.50</td></tr>\n",
       "\t<tr><td>2092    </td><td>789     </td><td>Ashish  </td><td>2012    </td><td>28322.19</td></tr>\n",
       "\t<tr><td>2128    </td><td>456     </td><td>Jane    </td><td>2013    </td><td>81879.00</td></tr>\n",
       "\t<tr><td>2073    </td><td>123     </td><td>John    </td><td>2011    </td><td>44491.14</td></tr>\n",
       "\t<tr><td>2134    </td><td>789     </td><td>Ashish  </td><td>2012    </td><td>71837.72</td></tr>\n",
       "\t<tr><td>2162    </td><td>123     </td><td>John    </td><td>2013    </td><td>64531.55</td></tr>\n",
       "</tbody>\n",
       "</table>\n"
      ],
      "text/latex": [
       "\\begin{tabular}{r|lllll}\n",
       " Postcode & Sales\\_Rep\\_ID & Sales\\_Rep\\_Name & Year & Value\\\\\n",
       "\\hline\n",
       "\t 2121     & 456      & Jane     & 2011     & 84219.50\\\\\n",
       "\t 2092     & 789      & Ashish   & 2012     & 28322.19\\\\\n",
       "\t 2128     & 456      & Jane     & 2013     & 81879.00\\\\\n",
       "\t 2073     & 123      & John     & 2011     & 44491.14\\\\\n",
       "\t 2134     & 789      & Ashish   & 2012     & 71837.72\\\\\n",
       "\t 2162     & 123      & John     & 2013     & 64531.55\\\\\n",
       "\\end{tabular}\n"
      ],
      "text/markdown": [
       "\n",
       "Postcode | Sales_Rep_ID | Sales_Rep_Name | Year | Value | \n",
       "|---|---|---|---|---|---|\n",
       "| 2121     | 456      | Jane     | 2011     | 84219.50 | \n",
       "| 2092     | 789      | Ashish   | 2012     | 28322.19 | \n",
       "| 2128     | 456      | Jane     | 2013     | 81879.00 | \n",
       "| 2073     | 123      | John     | 2011     | 44491.14 | \n",
       "| 2134     | 789      | Ashish   | 2012     | 71837.72 | \n",
       "| 2162     | 123      | John     | 2013     | 64531.55 | \n",
       "\n",
       "\n"
      ],
      "text/plain": [
       "  Postcode Sales_Rep_ID Sales_Rep_Name Year Value   \n",
       "1 2121     456          Jane           2011 84219.50\n",
       "2 2092     789          Ashish         2012 28322.19\n",
       "3 2128     456          Jane           2013 81879.00\n",
       "4 2073     123          John           2011 44491.14\n",
       "5 2134     789          Ashish         2012 71837.72\n",
       "6 2162     123          John           2013 64531.55"
      ]
     },
     "metadata": {},
     "output_type": "display_data"
    }
   ],
   "source": [
    "head(df)"
   ]
  },
  {
   "cell_type": "code",
   "execution_count": 12,
   "metadata": {
    "collapsed": false
   },
   "outputs": [
    {
     "data": {
      "text/html": [
       "<ol class=list-inline>\n",
       "\t<li>'tbl_df'</li>\n",
       "\t<li>'tbl'</li>\n",
       "\t<li>'data.frame'</li>\n",
       "</ol>\n"
      ],
      "text/latex": [
       "\\begin{enumerate*}\n",
       "\\item 'tbl\\_df'\n",
       "\\item 'tbl'\n",
       "\\item 'data.frame'\n",
       "\\end{enumerate*}\n"
      ],
      "text/markdown": [
       "1. 'tbl_df'\n",
       "2. 'tbl'\n",
       "3. 'data.frame'\n",
       "\n",
       "\n"
      ],
      "text/plain": [
       "[1] \"tbl_df\"     \"tbl\"        \"data.frame\""
      ]
     },
     "metadata": {},
     "output_type": "display_data"
    }
   ],
   "source": [
    "class(df)"
   ]
  },
  {
   "cell_type": "code",
   "execution_count": 13,
   "metadata": {
    "collapsed": false
   },
   "outputs": [
    {
     "data": {
      "text/html": [
       "19199461.4387834"
      ],
      "text/latex": [
       "19199461.4387834"
      ],
      "text/markdown": [
       "19199461.4387834"
      ],
      "text/plain": [
       "[1] 19199461"
      ]
     },
     "metadata": {},
     "output_type": "display_data"
    }
   ],
   "source": [
    "sum(df$Value)"
   ]
  },
  {
   "cell_type": "code",
   "execution_count": 14,
   "metadata": {
    "collapsed": false
   },
   "outputs": [
    {
     "data": {
      "text/plain": [
       "   Postcode          Sales_Rep_ID Sales_Rep_Name          Year     \n",
       " Length:390         Min.   :123   Length:390         Min.   :2011  \n",
       " Class :character   1st Qu.:123   Class :character   1st Qu.:2011  \n",
       " Mode  :character   Median :456   Mode  :character   Median :2012  \n",
       "                    Mean   :456                      Mean   :2012  \n",
       "                    3rd Qu.:789                      3rd Qu.:2013  \n",
       "                    Max.   :789                      Max.   :2013  \n",
       "     Value        \n",
       " Min.   :  106.4  \n",
       " 1st Qu.:26101.5  \n",
       " Median :47447.4  \n",
       " Mean   :49229.4  \n",
       " 3rd Qu.:72277.8  \n",
       " Max.   :99878.5  "
      ]
     },
     "metadata": {},
     "output_type": "display_data"
    }
   ],
   "source": [
    "summary(df)"
   ]
  },
  {
   "cell_type": "code",
   "execution_count": 15,
   "metadata": {
    "collapsed": true
   },
   "outputs": [],
   "source": [
    "# lapply > iterate all the items\n",
    "entireExcel <- lapply(excel_sheets('Data//Sample-Sales-Data.xlsx'),read_excel,path = 'Data//Sample-Sales-Data.xlsx')"
   ]
  },
  {
   "cell_type": "code",
   "execution_count": 16,
   "metadata": {
    "collapsed": false
   },
   "outputs": [
    {
     "data": {
      "text/html": [
       "<ol>\n",
       "\t<li><table>\n",
       "<thead><tr><th scope=col>Postcode</th><th scope=col>Sales_Rep_ID</th><th scope=col>Sales_Rep_Name</th><th scope=col>Year</th><th scope=col>Value</th></tr></thead>\n",
       "<tbody>\n",
       "\t<tr><td>2121     </td><td>456      </td><td>Jane     </td><td>2011     </td><td>84219.497</td></tr>\n",
       "\t<tr><td>2092     </td><td>789      </td><td>Ashish   </td><td>2012     </td><td>28322.192</td></tr>\n",
       "\t<tr><td>2128     </td><td>456      </td><td>Jane     </td><td>2013     </td><td>81878.997</td></tr>\n",
       "\t<tr><td>2073     </td><td>123      </td><td>John     </td><td>2011     </td><td>44491.142</td></tr>\n",
       "\t<tr><td>2134     </td><td>789      </td><td>Ashish   </td><td>2012     </td><td>71837.721</td></tr>\n",
       "\t<tr><td>2162     </td><td>123      </td><td>John     </td><td>2013     </td><td>64531.549</td></tr>\n",
       "\t<tr><td>2093     </td><td>456      </td><td>Jane     </td><td>2011     </td><td>58962.640</td></tr>\n",
       "\t<tr><td>2042     </td><td>789      </td><td>Ashish   </td><td>2012     </td><td>27521.792</td></tr>\n",
       "\t<tr><td>2198     </td><td>123      </td><td>John     </td><td>2013     </td><td>77985.126</td></tr>\n",
       "\t<tr><td>2043     </td><td>789      </td><td>Ashish   </td><td>2011     </td><td>49546.123</td></tr>\n",
       "\t<tr><td>2025     </td><td>789      </td><td>Ashish   </td><td>2012     </td><td>17733.775</td></tr>\n",
       "\t<tr><td>2045     </td><td>456      </td><td>Jane     </td><td>2013     </td><td>91125.996</td></tr>\n",
       "\t<tr><td>2090     </td><td>456      </td><td>Jane     </td><td>2011     </td><td>48112.765</td></tr>\n",
       "\t<tr><td>2114     </td><td>456      </td><td>Jane     </td><td>2012     </td><td>28361.338</td></tr>\n",
       "\t<tr><td>2142     </td><td>456      </td><td>Jane     </td><td>2013     </td><td>50911.555</td></tr>\n",
       "\t<tr><td>2062     </td><td>123      </td><td>John     </td><td>2011     </td><td>75538.870</td></tr>\n",
       "\t<tr><td>2049     </td><td>456      </td><td>Jane     </td><td>2012     </td><td>96922.328</td></tr>\n",
       "\t<tr><td>2204     </td><td>456      </td><td>Jane     </td><td>2013     </td><td>57838.175</td></tr>\n",
       "\t<tr><td>2000     </td><td>456      </td><td>Jane     </td><td>2011     </td><td> 4529.749</td></tr>\n",
       "\t<tr><td>2135     </td><td>123      </td><td>John     </td><td>2012     </td><td>27761.119</td></tr>\n",
       "\t<tr><td>2115     </td><td>456      </td><td>Jane     </td><td>2013     </td><td>22772.698</td></tr>\n",
       "\t<tr><td>2032     </td><td>789      </td><td>Ashish   </td><td>2011     </td><td>98780.163</td></tr>\n",
       "\t<tr><td>2068     </td><td>456      </td><td>Jane     </td><td>2012     </td><td>66043.702</td></tr>\n",
       "\t<tr><td>2119     </td><td>789      </td><td>Ashish   </td><td>2013     </td><td>32882.275</td></tr>\n",
       "\t<tr><td>2060     </td><td>456      </td><td>Jane     </td><td>2011     </td><td>75822.407</td></tr>\n",
       "\t<tr><td>2072     </td><td>456      </td><td>Jane     </td><td>2012     </td><td>36675.400</td></tr>\n",
       "\t<tr><td>2045     </td><td>123      </td><td>John     </td><td>2013     </td><td>95816.703</td></tr>\n",
       "\t<tr><td>2140     </td><td>456      </td><td>Jane     </td><td>2011     </td><td>43627.200</td></tr>\n",
       "\t<tr><td>2205     </td><td>789      </td><td>Ashish   </td><td>2012     </td><td>93306.120</td></tr>\n",
       "\t<tr><td>2060     </td><td>123      </td><td>John     </td><td>2013     </td><td>71321.532</td></tr>\n",
       "\t<tr><td>⋮</td><td>⋮</td><td>⋮</td><td>⋮</td><td>⋮</td></tr>\n",
       "\t<tr><td>2099      </td><td>123       </td><td>John      </td><td>2011      </td><td>82289.5216</td></tr>\n",
       "\t<tr><td>2125      </td><td>123       </td><td>John      </td><td>2012      </td><td>35987.1307</td></tr>\n",
       "\t<tr><td>2089      </td><td>789       </td><td>Ashish    </td><td>2013      </td><td>89068.9256</td></tr>\n",
       "\t<tr><td>2136      </td><td>123       </td><td>John      </td><td>2011      </td><td>83058.6732</td></tr>\n",
       "\t<tr><td>2022      </td><td>456       </td><td>Jane      </td><td>2012      </td><td> 1246.1058</td></tr>\n",
       "\t<tr><td>2067      </td><td>123       </td><td>John      </td><td>2013      </td><td>57862.6874</td></tr>\n",
       "\t<tr><td>2127      </td><td>789       </td><td>Ashish    </td><td>2011      </td><td>70493.8925</td></tr>\n",
       "\t<tr><td>2118      </td><td>456       </td><td>Jane      </td><td>2012      </td><td>13243.3115</td></tr>\n",
       "\t<tr><td>2065      </td><td>123       </td><td>John      </td><td>2013      </td><td>88484.9756</td></tr>\n",
       "\t<tr><td>2193      </td><td>789       </td><td>Ashish    </td><td>2011      </td><td>82687.1223</td></tr>\n",
       "\t<tr><td>2073      </td><td>456       </td><td>Jane      </td><td>2012      </td><td> 3158.1913</td></tr>\n",
       "\t<tr><td>2026      </td><td>123       </td><td>John      </td><td>2013      </td><td>55338.7023</td></tr>\n",
       "\t<tr><td>2011      </td><td>789       </td><td>Ashish    </td><td>2011      </td><td>43355.9232</td></tr>\n",
       "\t<tr><td>2087      </td><td>123       </td><td>John      </td><td>2012      </td><td> 9482.6597</td></tr>\n",
       "\t<tr><td>2024      </td><td>456       </td><td>Jane      </td><td>2013      </td><td>43002.1635</td></tr>\n",
       "\t<tr><td>2192      </td><td>789       </td><td>Ashish    </td><td>2011      </td><td>24077.8188</td></tr>\n",
       "\t<tr><td>2109      </td><td>456       </td><td>Jane      </td><td>2012      </td><td>45718.9595</td></tr>\n",
       "\t<tr><td>2130      </td><td>789       </td><td>Ashish    </td><td>2013      </td><td>51693.3607</td></tr>\n",
       "\t<tr><td>2194      </td><td>123       </td><td>John      </td><td>2011      </td><td>66864.3069</td></tr>\n",
       "\t<tr><td>2141      </td><td>123       </td><td>John      </td><td>2012      </td><td>54682.8688</td></tr>\n",
       "\t<tr><td>2136      </td><td>789       </td><td>Ashish    </td><td>2013      </td><td>  881.7744</td></tr>\n",
       "\t<tr><td>2033      </td><td>789       </td><td>Ashish    </td><td>2011      </td><td>76990.3658</td></tr>\n",
       "\t<tr><td>2072      </td><td>123       </td><td>John      </td><td>2012      </td><td>35366.4901</td></tr>\n",
       "\t<tr><td>2063      </td><td>456       </td><td>Jane      </td><td>2013      </td><td>93341.1645</td></tr>\n",
       "\t<tr><td>2018      </td><td>789       </td><td>Ashish    </td><td>2011      </td><td>97167.7845</td></tr>\n",
       "\t<tr><td>2164      </td><td>123       </td><td>John      </td><td>2012      </td><td>88884.5352</td></tr>\n",
       "\t<tr><td>2193      </td><td>456       </td><td>Jane      </td><td>2013      </td><td>79440.2908</td></tr>\n",
       "\t<tr><td>2031      </td><td>123       </td><td>John      </td><td>2011      </td><td>65643.6895</td></tr>\n",
       "\t<tr><td>2130      </td><td>456       </td><td>Jane      </td><td>2012      </td><td>66247.8749</td></tr>\n",
       "\t<tr><td>2116      </td><td>456       </td><td>Jane      </td><td>2013      </td><td> 3195.6991</td></tr>\n",
       "</tbody>\n",
       "</table>\n",
       "</li>\n",
       "</ol>\n"
      ],
      "text/latex": [
       "\\begin{enumerate}\n",
       "\\item \\begin{tabular}{r|lllll}\n",
       " Postcode & Sales\\_Rep\\_ID & Sales\\_Rep\\_Name & Year & Value\\\\\n",
       "\\hline\n",
       "\t 2121      & 456       & Jane      & 2011      & 84219.497\\\\\n",
       "\t 2092      & 789       & Ashish    & 2012      & 28322.192\\\\\n",
       "\t 2128      & 456       & Jane      & 2013      & 81878.997\\\\\n",
       "\t 2073      & 123       & John      & 2011      & 44491.142\\\\\n",
       "\t 2134      & 789       & Ashish    & 2012      & 71837.721\\\\\n",
       "\t 2162      & 123       & John      & 2013      & 64531.549\\\\\n",
       "\t 2093      & 456       & Jane      & 2011      & 58962.640\\\\\n",
       "\t 2042      & 789       & Ashish    & 2012      & 27521.792\\\\\n",
       "\t 2198      & 123       & John      & 2013      & 77985.126\\\\\n",
       "\t 2043      & 789       & Ashish    & 2011      & 49546.123\\\\\n",
       "\t 2025      & 789       & Ashish    & 2012      & 17733.775\\\\\n",
       "\t 2045      & 456       & Jane      & 2013      & 91125.996\\\\\n",
       "\t 2090      & 456       & Jane      & 2011      & 48112.765\\\\\n",
       "\t 2114      & 456       & Jane      & 2012      & 28361.338\\\\\n",
       "\t 2142      & 456       & Jane      & 2013      & 50911.555\\\\\n",
       "\t 2062      & 123       & John      & 2011      & 75538.870\\\\\n",
       "\t 2049      & 456       & Jane      & 2012      & 96922.328\\\\\n",
       "\t 2204      & 456       & Jane      & 2013      & 57838.175\\\\\n",
       "\t 2000      & 456       & Jane      & 2011      &  4529.749\\\\\n",
       "\t 2135      & 123       & John      & 2012      & 27761.119\\\\\n",
       "\t 2115      & 456       & Jane      & 2013      & 22772.698\\\\\n",
       "\t 2032      & 789       & Ashish    & 2011      & 98780.163\\\\\n",
       "\t 2068      & 456       & Jane      & 2012      & 66043.702\\\\\n",
       "\t 2119      & 789       & Ashish    & 2013      & 32882.275\\\\\n",
       "\t 2060      & 456       & Jane      & 2011      & 75822.407\\\\\n",
       "\t 2072      & 456       & Jane      & 2012      & 36675.400\\\\\n",
       "\t 2045      & 123       & John      & 2013      & 95816.703\\\\\n",
       "\t 2140      & 456       & Jane      & 2011      & 43627.200\\\\\n",
       "\t 2205      & 789       & Ashish    & 2012      & 93306.120\\\\\n",
       "\t 2060      & 123       & John      & 2013      & 71321.532\\\\\n",
       "\t ⋮ & ⋮ & ⋮ & ⋮ & ⋮\\\\\n",
       "\t 2099       & 123        & John       & 2011       & 82289.5216\\\\\n",
       "\t 2125       & 123        & John       & 2012       & 35987.1307\\\\\n",
       "\t 2089       & 789        & Ashish     & 2013       & 89068.9256\\\\\n",
       "\t 2136       & 123        & John       & 2011       & 83058.6732\\\\\n",
       "\t 2022       & 456        & Jane       & 2012       &  1246.1058\\\\\n",
       "\t 2067       & 123        & John       & 2013       & 57862.6874\\\\\n",
       "\t 2127       & 789        & Ashish     & 2011       & 70493.8925\\\\\n",
       "\t 2118       & 456        & Jane       & 2012       & 13243.3115\\\\\n",
       "\t 2065       & 123        & John       & 2013       & 88484.9756\\\\\n",
       "\t 2193       & 789        & Ashish     & 2011       & 82687.1223\\\\\n",
       "\t 2073       & 456        & Jane       & 2012       &  3158.1913\\\\\n",
       "\t 2026       & 123        & John       & 2013       & 55338.7023\\\\\n",
       "\t 2011       & 789        & Ashish     & 2011       & 43355.9232\\\\\n",
       "\t 2087       & 123        & John       & 2012       &  9482.6597\\\\\n",
       "\t 2024       & 456        & Jane       & 2013       & 43002.1635\\\\\n",
       "\t 2192       & 789        & Ashish     & 2011       & 24077.8188\\\\\n",
       "\t 2109       & 456        & Jane       & 2012       & 45718.9595\\\\\n",
       "\t 2130       & 789        & Ashish     & 2013       & 51693.3607\\\\\n",
       "\t 2194       & 123        & John       & 2011       & 66864.3069\\\\\n",
       "\t 2141       & 123        & John       & 2012       & 54682.8688\\\\\n",
       "\t 2136       & 789        & Ashish     & 2013       &   881.7744\\\\\n",
       "\t 2033       & 789        & Ashish     & 2011       & 76990.3658\\\\\n",
       "\t 2072       & 123        & John       & 2012       & 35366.4901\\\\\n",
       "\t 2063       & 456        & Jane       & 2013       & 93341.1645\\\\\n",
       "\t 2018       & 789        & Ashish     & 2011       & 97167.7845\\\\\n",
       "\t 2164       & 123        & John       & 2012       & 88884.5352\\\\\n",
       "\t 2193       & 456        & Jane       & 2013       & 79440.2908\\\\\n",
       "\t 2031       & 123        & John       & 2011       & 65643.6895\\\\\n",
       "\t 2130       & 456        & Jane       & 2012       & 66247.8749\\\\\n",
       "\t 2116       & 456        & Jane       & 2013       &  3195.6991\\\\\n",
       "\\end{tabular}\n",
       "\n",
       "\\end{enumerate}\n"
      ],
      "text/markdown": [
       "1. \n",
       "Postcode | Sales_Rep_ID | Sales_Rep_Name | Year | Value | \n",
       "|---|---|---|---|---|---|---|---|---|---|---|---|---|---|---|---|---|---|---|---|---|---|---|---|---|---|---|---|---|---|---|---|---|---|---|---|---|---|---|---|---|---|---|---|---|---|---|---|---|---|---|---|---|---|---|---|---|---|---|---|---|\n",
       "| 2121      | 456       | Jane      | 2011      | 84219.497 | \n",
       "| 2092      | 789       | Ashish    | 2012      | 28322.192 | \n",
       "| 2128      | 456       | Jane      | 2013      | 81878.997 | \n",
       "| 2073      | 123       | John      | 2011      | 44491.142 | \n",
       "| 2134      | 789       | Ashish    | 2012      | 71837.721 | \n",
       "| 2162      | 123       | John      | 2013      | 64531.549 | \n",
       "| 2093      | 456       | Jane      | 2011      | 58962.640 | \n",
       "| 2042      | 789       | Ashish    | 2012      | 27521.792 | \n",
       "| 2198      | 123       | John      | 2013      | 77985.126 | \n",
       "| 2043      | 789       | Ashish    | 2011      | 49546.123 | \n",
       "| 2025      | 789       | Ashish    | 2012      | 17733.775 | \n",
       "| 2045      | 456       | Jane      | 2013      | 91125.996 | \n",
       "| 2090      | 456       | Jane      | 2011      | 48112.765 | \n",
       "| 2114      | 456       | Jane      | 2012      | 28361.338 | \n",
       "| 2142      | 456       | Jane      | 2013      | 50911.555 | \n",
       "| 2062      | 123       | John      | 2011      | 75538.870 | \n",
       "| 2049      | 456       | Jane      | 2012      | 96922.328 | \n",
       "| 2204      | 456       | Jane      | 2013      | 57838.175 | \n",
       "| 2000      | 456       | Jane      | 2011      |  4529.749 | \n",
       "| 2135      | 123       | John      | 2012      | 27761.119 | \n",
       "| 2115      | 456       | Jane      | 2013      | 22772.698 | \n",
       "| 2032      | 789       | Ashish    | 2011      | 98780.163 | \n",
       "| 2068      | 456       | Jane      | 2012      | 66043.702 | \n",
       "| 2119      | 789       | Ashish    | 2013      | 32882.275 | \n",
       "| 2060      | 456       | Jane      | 2011      | 75822.407 | \n",
       "| 2072      | 456       | Jane      | 2012      | 36675.400 | \n",
       "| 2045      | 123       | John      | 2013      | 95816.703 | \n",
       "| 2140      | 456       | Jane      | 2011      | 43627.200 | \n",
       "| 2205      | 789       | Ashish    | 2012      | 93306.120 | \n",
       "| 2060      | 123       | John      | 2013      | 71321.532 | \n",
       "| ⋮ | ⋮ | ⋮ | ⋮ | ⋮ | \n",
       "| 2099       | 123        | John       | 2011       | 82289.5216 | \n",
       "| 2125       | 123        | John       | 2012       | 35987.1307 | \n",
       "| 2089       | 789        | Ashish     | 2013       | 89068.9256 | \n",
       "| 2136       | 123        | John       | 2011       | 83058.6732 | \n",
       "| 2022       | 456        | Jane       | 2012       |  1246.1058 | \n",
       "| 2067       | 123        | John       | 2013       | 57862.6874 | \n",
       "| 2127       | 789        | Ashish     | 2011       | 70493.8925 | \n",
       "| 2118       | 456        | Jane       | 2012       | 13243.3115 | \n",
       "| 2065       | 123        | John       | 2013       | 88484.9756 | \n",
       "| 2193       | 789        | Ashish     | 2011       | 82687.1223 | \n",
       "| 2073       | 456        | Jane       | 2012       |  3158.1913 | \n",
       "| 2026       | 123        | John       | 2013       | 55338.7023 | \n",
       "| 2011       | 789        | Ashish     | 2011       | 43355.9232 | \n",
       "| 2087       | 123        | John       | 2012       |  9482.6597 | \n",
       "| 2024       | 456        | Jane       | 2013       | 43002.1635 | \n",
       "| 2192       | 789        | Ashish     | 2011       | 24077.8188 | \n",
       "| 2109       | 456        | Jane       | 2012       | 45718.9595 | \n",
       "| 2130       | 789        | Ashish     | 2013       | 51693.3607 | \n",
       "| 2194       | 123        | John       | 2011       | 66864.3069 | \n",
       "| 2141       | 123        | John       | 2012       | 54682.8688 | \n",
       "| 2136       | 789        | Ashish     | 2013       |   881.7744 | \n",
       "| 2033       | 789        | Ashish     | 2011       | 76990.3658 | \n",
       "| 2072       | 123        | John       | 2012       | 35366.4901 | \n",
       "| 2063       | 456        | Jane       | 2013       | 93341.1645 | \n",
       "| 2018       | 789        | Ashish     | 2011       | 97167.7845 | \n",
       "| 2164       | 123        | John       | 2012       | 88884.5352 | \n",
       "| 2193       | 456        | Jane       | 2013       | 79440.2908 | \n",
       "| 2031       | 123        | John       | 2011       | 65643.6895 | \n",
       "| 2130       | 456        | Jane       | 2012       | 66247.8749 | \n",
       "| 2116       | 456        | Jane       | 2013       |  3195.6991 | \n",
       "\n",
       "\n",
       "\n",
       "\n",
       "\n"
      ],
      "text/plain": [
       "[[1]]\n",
       "# A tibble: 390 × 5\n",
       "   Postcode Sales_Rep_ID Sales_Rep_Name  Year    Value\n",
       "      <chr>        <dbl>          <chr> <dbl>    <dbl>\n",
       "1      2121          456           Jane  2011 84219.50\n",
       "2      2092          789         Ashish  2012 28322.19\n",
       "3      2128          456           Jane  2013 81879.00\n",
       "4      2073          123           John  2011 44491.14\n",
       "5      2134          789         Ashish  2012 71837.72\n",
       "6      2162          123           John  2013 64531.55\n",
       "7      2093          456           Jane  2011 58962.64\n",
       "8      2042          789         Ashish  2012 27521.79\n",
       "9      2198          123           John  2013 77985.13\n",
       "10     2043          789         Ashish  2011 49546.12\n",
       "# ... with 380 more rows\n"
      ]
     },
     "metadata": {},
     "output_type": "display_data"
    }
   ],
   "source": [
    "entireExcel"
   ]
  },
  {
   "cell_type": "code",
   "execution_count": 17,
   "metadata": {
    "collapsed": false
   },
   "outputs": [
    {
     "name": "stderr",
     "output_type": "stream",
     "text": [
      "also installing the dependencies ‘rJava’, ‘xlsxjars’\n",
      "\n"
     ]
    },
    {
     "name": "stdout",
     "output_type": "stream",
     "text": [
      "\n",
      "The downloaded binary packages are in\n",
      "\t/var/folders/py/lhhb009s773f7xlgffm6ysjw0000gn/T//Rtmp4BsP5O/downloaded_packages\n"
     ]
    }
   ],
   "source": [
    "install.packages('xlsx')"
   ]
  },
  {
   "cell_type": "code",
   "execution_count": 18,
   "metadata": {
    "collapsed": false
   },
   "outputs": [
    {
     "name": "stderr",
     "output_type": "stream",
     "text": [
      "Loading required package: rJava\n",
      "Loading required package: xlsxjars\n"
     ]
    }
   ],
   "source": [
    "library(xlsx)"
   ]
  },
  {
   "cell_type": "code",
   "execution_count": 19,
   "metadata": {
    "collapsed": false
   },
   "outputs": [
    {
     "data": {
      "text/html": [
       "<table>\n",
       "<thead><tr><th></th><th scope=col>mpg</th><th scope=col>cyl</th><th scope=col>disp</th><th scope=col>hp</th><th scope=col>drat</th><th scope=col>wt</th><th scope=col>qsec</th><th scope=col>vs</th><th scope=col>am</th><th scope=col>gear</th><th scope=col>carb</th></tr></thead>\n",
       "<tbody>\n",
       "\t<tr><th scope=row>Mazda RX4</th><td>21.0 </td><td>6    </td><td>160  </td><td>110  </td><td>3.90 </td><td>2.620</td><td>16.46</td><td>0    </td><td>1    </td><td>4    </td><td>4    </td></tr>\n",
       "\t<tr><th scope=row>Mazda RX4 Wag</th><td>21.0 </td><td>6    </td><td>160  </td><td>110  </td><td>3.90 </td><td>2.875</td><td>17.02</td><td>0    </td><td>1    </td><td>4    </td><td>4    </td></tr>\n",
       "\t<tr><th scope=row>Datsun 710</th><td>22.8 </td><td>4    </td><td>108  </td><td> 93  </td><td>3.85 </td><td>2.320</td><td>18.61</td><td>1    </td><td>1    </td><td>4    </td><td>1    </td></tr>\n",
       "\t<tr><th scope=row>Hornet 4 Drive</th><td>21.4 </td><td>6    </td><td>258  </td><td>110  </td><td>3.08 </td><td>3.215</td><td>19.44</td><td>1    </td><td>0    </td><td>3    </td><td>1    </td></tr>\n",
       "\t<tr><th scope=row>Hornet Sportabout</th><td>18.7 </td><td>8    </td><td>360  </td><td>175  </td><td>3.15 </td><td>3.440</td><td>17.02</td><td>0    </td><td>0    </td><td>3    </td><td>2    </td></tr>\n",
       "\t<tr><th scope=row>Valiant</th><td>18.1 </td><td>6    </td><td>225  </td><td>105  </td><td>2.76 </td><td>3.460</td><td>20.22</td><td>1    </td><td>0    </td><td>3    </td><td>1    </td></tr>\n",
       "</tbody>\n",
       "</table>\n"
      ],
      "text/latex": [
       "\\begin{tabular}{r|lllllllllll}\n",
       "  & mpg & cyl & disp & hp & drat & wt & qsec & vs & am & gear & carb\\\\\n",
       "\\hline\n",
       "\tMazda RX4 & 21.0  & 6     & 160   & 110   & 3.90  & 2.620 & 16.46 & 0     & 1     & 4     & 4    \\\\\n",
       "\tMazda RX4 Wag & 21.0  & 6     & 160   & 110   & 3.90  & 2.875 & 17.02 & 0     & 1     & 4     & 4    \\\\\n",
       "\tDatsun 710 & 22.8  & 4     & 108   &  93   & 3.85  & 2.320 & 18.61 & 1     & 1     & 4     & 1    \\\\\n",
       "\tHornet 4 Drive & 21.4  & 6     & 258   & 110   & 3.08  & 3.215 & 19.44 & 1     & 0     & 3     & 1    \\\\\n",
       "\tHornet Sportabout & 18.7  & 8     & 360   & 175   & 3.15  & 3.440 & 17.02 & 0     & 0     & 3     & 2    \\\\\n",
       "\tValiant & 18.1  & 6     & 225   & 105   & 2.76  & 3.460 & 20.22 & 1     & 0     & 3     & 1    \\\\\n",
       "\\end{tabular}\n"
      ],
      "text/markdown": [
       "\n",
       "| <!--/--> | mpg | cyl | disp | hp | drat | wt | qsec | vs | am | gear | carb | \n",
       "|---|---|---|---|---|---|\n",
       "| Mazda RX4 | 21.0  | 6     | 160   | 110   | 3.90  | 2.620 | 16.46 | 0     | 1     | 4     | 4     | \n",
       "| Mazda RX4 Wag | 21.0  | 6     | 160   | 110   | 3.90  | 2.875 | 17.02 | 0     | 1     | 4     | 4     | \n",
       "| Datsun 710 | 22.8  | 4     | 108   |  93   | 3.85  | 2.320 | 18.61 | 1     | 1     | 4     | 1     | \n",
       "| Hornet 4 Drive | 21.4  | 6     | 258   | 110   | 3.08  | 3.215 | 19.44 | 1     | 0     | 3     | 1     | \n",
       "| Hornet Sportabout | 18.7  | 8     | 360   | 175   | 3.15  | 3.440 | 17.02 | 0     | 0     | 3     | 2     | \n",
       "| Valiant | 18.1  | 6     | 225   | 105   | 2.76  | 3.460 | 20.22 | 1     | 0     | 3     | 1     | \n",
       "\n",
       "\n"
      ],
      "text/plain": [
       "                  mpg  cyl disp hp  drat wt    qsec  vs am gear carb\n",
       "Mazda RX4         21.0 6   160  110 3.90 2.620 16.46 0  1  4    4   \n",
       "Mazda RX4 Wag     21.0 6   160  110 3.90 2.875 17.02 0  1  4    4   \n",
       "Datsun 710        22.8 4   108   93 3.85 2.320 18.61 1  1  4    1   \n",
       "Hornet 4 Drive    21.4 6   258  110 3.08 3.215 19.44 1  0  3    1   \n",
       "Hornet Sportabout 18.7 8   360  175 3.15 3.440 17.02 0  0  3    2   \n",
       "Valiant           18.1 6   225  105 2.76 3.460 20.22 1  0  3    1   "
      ]
     },
     "metadata": {},
     "output_type": "display_data"
    }
   ],
   "source": [
    "head(mtcars)"
   ]
  },
  {
   "cell_type": "code",
   "execution_count": 20,
   "metadata": {
    "collapsed": true
   },
   "outputs": [],
   "source": [
    "write.xlsx(mtcars,\"Data//output_example.xlsx\")"
   ]
  },
  {
   "cell_type": "markdown",
   "metadata": {},
   "source": [
    "# SQL"
   ]
  },
  {
   "cell_type": "code",
   "execution_count": 21,
   "metadata": {
    "collapsed": false
   },
   "outputs": [
    {
     "name": "stderr",
     "output_type": "stream",
     "text": [
      "Package which is only available in source form, and may need\n",
      "  compilation of C/C++/Fortran: ‘RODBC’\n",
      "installing the source package ‘RODBC’\n",
      "\n",
      "Warning message in install.packages(\"RODBC\"):\n",
      "“installation of package ‘RODBC’ had non-zero exit status”"
     ]
    }
   ],
   "source": [
    "install.packages(\"RODBC\") "
   ]
  },
  {
   "cell_type": "code",
   "execution_count": 22,
   "metadata": {
    "collapsed": false
   },
   "outputs": [
    {
     "ename": "ERROR",
     "evalue": "Error in library(RODBC): there is no package called ‘RODBC’\n",
     "output_type": "error",
     "traceback": [
      "Error in library(RODBC): there is no package called ‘RODBC’\nTraceback:\n",
      "1. library(RODBC)",
      "2. stop(txt, domain = NA)"
     ]
    }
   ],
   "source": [
    "library(RODBC)"
   ]
  },
  {
   "cell_type": "code",
   "execution_count": 23,
   "metadata": {
    "collapsed": false
   },
   "outputs": [
    {
     "name": "stderr",
     "output_type": "stream",
     "text": [
      "also installing the dependencies ‘BH’, ‘xml2’, ‘selectr’\n",
      "\n"
     ]
    },
    {
     "name": "stdout",
     "output_type": "stream",
     "text": [
      "\n",
      "The downloaded binary packages are in\n",
      "\t/var/folders/py/lhhb009s773f7xlgffm6ysjw0000gn/T//Rtmp4BsP5O/downloaded_packages\n"
     ]
    }
   ],
   "source": [
    "install.packages('rvest')"
   ]
  },
  {
   "cell_type": "code",
   "execution_count": 24,
   "metadata": {
    "collapsed": false
   },
   "outputs": [
    {
     "name": "stderr",
     "output_type": "stream",
     "text": [
      "Loading required package: xml2\n"
     ]
    }
   ],
   "source": [
    "library(rvest)"
   ]
  },
  {
   "cell_type": "code",
   "execution_count": 25,
   "metadata": {
    "collapsed": true
   },
   "outputs": [],
   "source": [
    "demo(package = 'rvest')"
   ]
  },
  {
   "cell_type": "code",
   "execution_count": 26,
   "metadata": {
    "collapsed": false
   },
   "outputs": [
    {
     "name": "stdout",
     "output_type": "stream",
     "text": [
      "\n",
      "\n",
      "\tdemo(tripadvisor)\n",
      "\t---- ~~~~~~~~~~~\n",
      "\n",
      "> # Inspired by\n",
      "> # http://notesofdabbler.github.io/201408_hotelReview/scrapeTripAdvisor.html\n",
      "> \n",
      "> library(rvest)\n",
      "\n",
      "> url <- \"http://www.tripadvisor.com/Hotel_Review-g37209-d1762915-Reviews-JW_Marriott_Indianapolis-Indianapolis_Indiana.html\"\n",
      "\n",
      "> reviews <- url %>%\n",
      "+   read_html() %>%\n",
      "+   html_nodes(\"#REVIEWS .innerBubble\")\n",
      "\n",
      "> id <- reviews %>%\n",
      "+   html_node(\".quote a\") %>%\n",
      "+   html_attr(\"id\")\n",
      "\n",
      "> quote <- reviews %>%\n",
      "+   html_node(\".quote span\") %>%\n",
      "+   html_text()\n",
      "\n",
      "> rating <- reviews %>%\n",
      "+   html_node(\".rating .rating_s_fill\") %>%\n",
      "+   html_attr(\"alt\") %>%\n",
      "+   gsub(\" of 5 stars\", \"\", .) %>%\n",
      "+   as.integer()\n",
      "\n",
      "> date <- reviews %>%\n",
      "+   html_node(\".rating .ratingDate\") %>%\n",
      "+   html_attr(\"title\") %>%\n",
      "+   strptime(\"%b %d, %Y\") %>%\n",
      "+   as.POSIXct()\n",
      "\n",
      "> review <- reviews %>%\n",
      "+   html_node(\".entry .partial_entry\") %>%\n",
      "+   html_text()\n",
      "\n",
      "> data.frame(id, quote, rating, date, review, stringsAsFactors = FALSE) %>% View()\n"
     ]
    },
    {
     "ename": "ERROR",
     "evalue": "Error in View(.): ‘View()’ not yet supported in the Jupyter R kernel\n",
     "output_type": "error",
     "traceback": [
      "Error in View(.): ‘View()’ not yet supported in the Jupyter R kernel\nTraceback:\n",
      "1. demo(package = \"rvest\", topic = tripadvisor)",
      "2. source(available, echo = echo, max.deparse.length = Inf, keep.source = TRUE, \n .     encoding = encoding)",
      "3. withVisible(eval(ei, envir))",
      "4. eval(ei, envir)",
      "5. eval(expr, envir, enclos)",
      "6. data.frame(id, quote, rating, date, review, stringsAsFactors = FALSE) %>% \n .     View()   # at line 36 of file /Library/Frameworks/R.framework/Versions/3.3/Resources/library/rvest/demo/tripadvisor.R",
      "7. withVisible(eval(quote(`_fseq`(`_lhs`)), env, env))",
      "8. eval(quote(`_fseq`(`_lhs`)), env, env)",
      "9. eval(expr, envir, enclos)",
      "10. `_fseq`(`_lhs`)",
      "11. freduce(value, `_function_list`)",
      "12. withVisible(function_list[[k]](value))",
      "13. function_list[[k]](value)",
      "14. View(.)",
      "15. stop(sQuote(\"View()\"), \" not yet supported in the Jupyter R kernel\")"
     ]
    }
   ],
   "source": [
    "demo(package = 'rvest',topic = tripadvisor)"
   ]
  },
  {
   "cell_type": "code",
   "execution_count": 27,
   "metadata": {
    "collapsed": true
   },
   "outputs": [],
   "source": [
    "lego_movie <- read_html(\"http://www.imdb.com/title/tt1490017/\")"
   ]
  },
  {
   "cell_type": "code",
   "execution_count": 32,
   "metadata": {
    "collapsed": false
   },
   "outputs": [],
   "source": [
    "rate <-\n",
    "lego_movie %>% \n",
    "  html_node(\"strong span\") %>%\n",
    "  html_text() %>%\n",
    "  as.numeric()"
   ]
  },
  {
   "cell_type": "code",
   "execution_count": 33,
   "metadata": {
    "collapsed": false
   },
   "outputs": [
    {
     "data": {
      "text/html": [
       "7.8"
      ],
      "text/latex": [
       "7.8"
      ],
      "text/markdown": [
       "7.8"
      ],
      "text/plain": [
       "[1] 7.8"
      ]
     },
     "metadata": {},
     "output_type": "display_data"
    }
   ],
   "source": [
    "rate"
   ]
  },
  {
   "cell_type": "code",
   "execution_count": 34,
   "metadata": {
    "collapsed": false
   },
   "outputs": [
    {
     "data": {
      "text/html": [
       "<ol class=list-inline>\n",
       "\t<li>'Will Arnett'</li>\n",
       "\t<li>'Elizabeth Banks'</li>\n",
       "\t<li>'Craig Berry'</li>\n",
       "\t<li>'Alison Brie'</li>\n",
       "\t<li>'David Burrows'</li>\n",
       "\t<li>'Anthony Daniels'</li>\n",
       "\t<li>'Charlie Day'</li>\n",
       "\t<li>'Amanda Farinos'</li>\n",
       "\t<li>'Keith Ferguson'</li>\n",
       "\t<li>'Will Ferrell'</li>\n",
       "\t<li>'Will Forte'</li>\n",
       "\t<li>'Dave Franco'</li>\n",
       "\t<li>'Morgan Freeman'</li>\n",
       "\t<li>'Todd Hansen'</li>\n",
       "\t<li>'Jonah Hill'</li>\n",
       "</ol>\n"
      ],
      "text/latex": [
       "\\begin{enumerate*}\n",
       "\\item 'Will Arnett'\n",
       "\\item 'Elizabeth Banks'\n",
       "\\item 'Craig Berry'\n",
       "\\item 'Alison Brie'\n",
       "\\item 'David Burrows'\n",
       "\\item 'Anthony Daniels'\n",
       "\\item 'Charlie Day'\n",
       "\\item 'Amanda Farinos'\n",
       "\\item 'Keith Ferguson'\n",
       "\\item 'Will Ferrell'\n",
       "\\item 'Will Forte'\n",
       "\\item 'Dave Franco'\n",
       "\\item 'Morgan Freeman'\n",
       "\\item 'Todd Hansen'\n",
       "\\item 'Jonah Hill'\n",
       "\\end{enumerate*}\n"
      ],
      "text/markdown": [
       "1. 'Will Arnett'\n",
       "2. 'Elizabeth Banks'\n",
       "3. 'Craig Berry'\n",
       "4. 'Alison Brie'\n",
       "5. 'David Burrows'\n",
       "6. 'Anthony Daniels'\n",
       "7. 'Charlie Day'\n",
       "8. 'Amanda Farinos'\n",
       "9. 'Keith Ferguson'\n",
       "10. 'Will Ferrell'\n",
       "11. 'Will Forte'\n",
       "12. 'Dave Franco'\n",
       "13. 'Morgan Freeman'\n",
       "14. 'Todd Hansen'\n",
       "15. 'Jonah Hill'\n",
       "\n",
       "\n"
      ],
      "text/plain": [
       " [1] \"Will Arnett\"     \"Elizabeth Banks\" \"Craig Berry\"     \"Alison Brie\"    \n",
       " [5] \"David Burrows\"   \"Anthony Daniels\" \"Charlie Day\"     \"Amanda Farinos\" \n",
       " [9] \"Keith Ferguson\"  \"Will Ferrell\"    \"Will Forte\"      \"Dave Franco\"    \n",
       "[13] \"Morgan Freeman\"  \"Todd Hansen\"     \"Jonah Hill\"     "
      ]
     },
     "metadata": {},
     "output_type": "display_data"
    }
   ],
   "source": [
    "lego_movie %>%\n",
    "  html_nodes(\"#titleCast .itemprop span\") %>%\n",
    "  html_text()"
   ]
  },
  {
   "cell_type": "code",
   "execution_count": 54,
   "metadata": {
    "collapsed": false
   },
   "outputs": [
    {
     "ename": "ERROR",
     "evalue": "Error in .[[3]]: subscript out of bounds\n",
     "output_type": "error",
     "traceback": [
      "Error in .[[3]]: subscript out of bounds\nTraceback:\n",
      "1. lego_movie %>% html_nodes(\"#titleCast .cast_list\") %>% .[[3]] %>% \n .     html_table()",
      "2. withVisible(eval(quote(`_fseq`(`_lhs`)), env, env))",
      "3. eval(quote(`_fseq`(`_lhs`)), env, env)",
      "4. eval(expr, envir, enclos)",
      "5. `_fseq`(`_lhs`)",
      "6. freduce(value, `_function_list`)",
      "7. function_list[[i]](value)"
     ]
    }
   ],
   "source": [
    "Cast <-\n",
    "lego_movie %>%\n",
    "  html_nodes(\"#titleCast .cast_list\") %>%\n",
    "  #.[[3]] %>%\n",
    "  html_table()"
   ]
  },
  {
   "cell_type": "code",
   "execution_count": 53,
   "metadata": {
    "collapsed": false,
    "scrolled": true
   },
   "outputs": [
    {
     "data": {
      "text/html": [
       "<ol>\n",
       "\t<li><table>\n",
       "<thead><tr><th scope=col>X1</th><th scope=col>X2</th><th scope=col>X3</th><th scope=col>X4</th></tr></thead>\n",
       "<tbody>\n",
       "\t<tr><td>Cast overview, first billed only:                                                                  </td><td>Cast overview, first billed only:                                                                  </td><td>Cast overview, first billed only:                                                                  </td><td>Cast overview, first billed only:                                                                  </td></tr>\n",
       "\t<tr><td>                                                                                                   </td><td>Will Arnett                                                                                        </td><td>...                                                                                                </td><td>Batman /  \n",
       "            Bruce Wayne \n",
       "  \n",
       "  \n",
       "  (voice)                                            </td></tr>\n",
       "\t<tr><td>                                                                                                   </td><td>Elizabeth Banks                                                                                    </td><td>...                                                                                                </td><td>Wyldstyle /  \n",
       "            Lucy \n",
       "  \n",
       "  \n",
       "  (voice)                                                </td></tr>\n",
       "\t<tr><td>                                                                                                   </td><td>Craig Berry                                                                                        </td><td>...                                                                                                </td><td>Blake /  \n",
       "            Additional Voices \n",
       "  \n",
       "  \n",
       "  (voice)                                       </td></tr>\n",
       "\t<tr><td>                                                                                                   </td><td>Alison Brie                                                                                        </td><td>...                                                                                                </td><td>Unikitty \n",
       "  \n",
       "  \n",
       "  (voice)                                                                       </td></tr>\n",
       "\t<tr><td>                                                                                                   </td><td>David Burrows                                                                                      </td><td>...                                                                                                </td><td>Octan Robot /  \n",
       "            Additional Voices \n",
       "  \n",
       "  \n",
       "  (voice)                                 </td></tr>\n",
       "\t<tr><td>                                                                                                   </td><td>Anthony Daniels                                                                                    </td><td>...                                                                                                </td><td>C-3PO \n",
       "  \n",
       "  \n",
       "  (voice)                                                                          </td></tr>\n",
       "\t<tr><td>                                                                                                   </td><td>Charlie Day                                                                                        </td><td>...                                                                                                </td><td>Benny \n",
       "  \n",
       "  \n",
       "  (voice)                                                                          </td></tr>\n",
       "\t<tr><td>                                                                                                   </td><td>Amanda Farinos                                                                                     </td><td>...                                                                                                </td><td>Mom \n",
       "  \n",
       "  \n",
       "  (voice)                                                                            </td></tr>\n",
       "\t<tr><td>                                                                                                   </td><td>Keith Ferguson                                                                                     </td><td>...                                                                                                </td><td>Han Solo \n",
       "  \n",
       "  \n",
       "  (voice)                                                                       </td></tr>\n",
       "\t<tr><td>                                                                                                   </td><td>Will Ferrell                                                                                       </td><td>...                                                                                                </td><td>Lord Business (voice) /  \n",
       "            President Business (voice) /  \n",
       "            The Man Upstairs</td></tr>\n",
       "\t<tr><td>                                                                                                   </td><td>Will Forte                                                                                         </td><td>...                                                                                                </td><td>Abraham Lincoln \n",
       "  \n",
       "  \n",
       "  (voice) (as Orville Forte)                                             </td></tr>\n",
       "\t<tr><td>                                                                                                   </td><td>Dave Franco                                                                                        </td><td>...                                                                                                </td><td>Wally \n",
       "  \n",
       "  \n",
       "  (voice)                                                                          </td></tr>\n",
       "\t<tr><td>                                                                                                   </td><td>Morgan Freeman                                                                                     </td><td>...                                                                                                </td><td>Vitruvius \n",
       "  \n",
       "  \n",
       "  (voice)                                                                      </td></tr>\n",
       "\t<tr><td>                                                                                                   </td><td>Todd Hansen                                                                                        </td><td>...                                                                                                </td><td>Gandalf /  \n",
       "            Additional Voices \n",
       "  \n",
       "  \n",
       "  (voice)                                     </td></tr>\n",
       "\t<tr><td>                                                                                                   </td><td>Jonah Hill                                                                                         </td><td>...                                                                                                </td><td>Green Lantern \n",
       "  \n",
       "  \n",
       "  (voice)                                                                  </td></tr>\n",
       "</tbody>\n",
       "</table>\n",
       "</li>\n",
       "</ol>\n"
      ],
      "text/latex": [
       "\\begin{enumerate}\n",
       "\\item \\begin{tabular}{r|llll}\n",
       " X1 & X2 & X3 & X4\\\\\n",
       "\\hline\n",
       "\t Cast overview, first billed only:                                                                   & Cast overview, first billed only:                                                                   & Cast overview, first billed only:                                                                   & Cast overview, first billed only:                                                                  \\\\\n",
       "\t                                                                                                     & Will Arnett                                                                                         & ...                                                                                                 & Batman /  \n",
       "            Bruce Wayne \n",
       "  \n",
       "  \n",
       "  (voice)                                            \\\\\n",
       "\t                                                                                                     & Elizabeth Banks                                                                                     & ...                                                                                                 & Wyldstyle /  \n",
       "            Lucy \n",
       "  \n",
       "  \n",
       "  (voice)                                                \\\\\n",
       "\t                                                                                                     & Craig Berry                                                                                         & ...                                                                                                 & Blake /  \n",
       "            Additional Voices \n",
       "  \n",
       "  \n",
       "  (voice)                                       \\\\\n",
       "\t                                                                                                     & Alison Brie                                                                                         & ...                                                                                                 & Unikitty \n",
       "  \n",
       "  \n",
       "  (voice)                                                                       \\\\\n",
       "\t                                                                                                     & David Burrows                                                                                       & ...                                                                                                 & Octan Robot /  \n",
       "            Additional Voices \n",
       "  \n",
       "  \n",
       "  (voice)                                 \\\\\n",
       "\t                                                                                                     & Anthony Daniels                                                                                     & ...                                                                                                 & C-3PO \n",
       "  \n",
       "  \n",
       "  (voice)                                                                          \\\\\n",
       "\t                                                                                                     & Charlie Day                                                                                         & ...                                                                                                 & Benny \n",
       "  \n",
       "  \n",
       "  (voice)                                                                          \\\\\n",
       "\t                                                                                                     & Amanda Farinos                                                                                      & ...                                                                                                 & Mom \n",
       "  \n",
       "  \n",
       "  (voice)                                                                            \\\\\n",
       "\t                                                                                                     & Keith Ferguson                                                                                      & ...                                                                                                 & Han Solo \n",
       "  \n",
       "  \n",
       "  (voice)                                                                       \\\\\n",
       "\t                                                                                                     & Will Ferrell                                                                                        & ...                                                                                                 & Lord Business (voice) /  \n",
       "            President Business (voice) /  \n",
       "            The Man Upstairs\\\\\n",
       "\t                                                                                                     & Will Forte                                                                                          & ...                                                                                                 & Abraham Lincoln \n",
       "  \n",
       "  \n",
       "  (voice) (as Orville Forte)                                             \\\\\n",
       "\t                                                                                                     & Dave Franco                                                                                         & ...                                                                                                 & Wally \n",
       "  \n",
       "  \n",
       "  (voice)                                                                          \\\\\n",
       "\t                                                                                                     & Morgan Freeman                                                                                      & ...                                                                                                 & Vitruvius \n",
       "  \n",
       "  \n",
       "  (voice)                                                                      \\\\\n",
       "\t                                                                                                     & Todd Hansen                                                                                         & ...                                                                                                 & Gandalf /  \n",
       "            Additional Voices \n",
       "  \n",
       "  \n",
       "  (voice)                                     \\\\\n",
       "\t                                                                                                     & Jonah Hill                                                                                          & ...                                                                                                 & Green Lantern \n",
       "  \n",
       "  \n",
       "  (voice)                                                                  \\\\\n",
       "\\end{tabular}\n",
       "\n",
       "\\end{enumerate}\n"
      ],
      "text/markdown": [
       "1. \n",
       "X1 | X2 | X3 | X4 | \n",
       "|---|---|---|---|---|---|---|---|---|---|---|---|---|---|---|---|\n",
       "| Cast overview, first billed only:                                                                   | Cast overview, first billed only:                                                                   | Cast overview, first billed only:                                                                   | Cast overview, first billed only:                                                                   | \n",
       "|                                                                                                     | Will Arnett                                                                                         | ...                                                                                                 | Batman /  \n",
       "            Bruce Wayne \n",
       "  \n",
       "  \n",
       "  (voice)                                             | \n",
       "|                                                                                                     | Elizabeth Banks                                                                                     | ...                                                                                                 | Wyldstyle /  \n",
       "            Lucy \n",
       "  \n",
       "  \n",
       "  (voice)                                                 | \n",
       "|                                                                                                     | Craig Berry                                                                                         | ...                                                                                                 | Blake /  \n",
       "            Additional Voices \n",
       "  \n",
       "  \n",
       "  (voice)                                        | \n",
       "|                                                                                                     | Alison Brie                                                                                         | ...                                                                                                 | Unikitty \n",
       "  \n",
       "  \n",
       "  (voice)                                                                        | \n",
       "|                                                                                                     | David Burrows                                                                                       | ...                                                                                                 | Octan Robot /  \n",
       "            Additional Voices \n",
       "  \n",
       "  \n",
       "  (voice)                                  | \n",
       "|                                                                                                     | Anthony Daniels                                                                                     | ...                                                                                                 | C-3PO \n",
       "  \n",
       "  \n",
       "  (voice)                                                                           | \n",
       "|                                                                                                     | Charlie Day                                                                                         | ...                                                                                                 | Benny \n",
       "  \n",
       "  \n",
       "  (voice)                                                                           | \n",
       "|                                                                                                     | Amanda Farinos                                                                                      | ...                                                                                                 | Mom \n",
       "  \n",
       "  \n",
       "  (voice)                                                                             | \n",
       "|                                                                                                     | Keith Ferguson                                                                                      | ...                                                                                                 | Han Solo \n",
       "  \n",
       "  \n",
       "  (voice)                                                                        | \n",
       "|                                                                                                     | Will Ferrell                                                                                        | ...                                                                                                 | Lord Business (voice) /  \n",
       "            President Business (voice) /  \n",
       "            The Man Upstairs | \n",
       "|                                                                                                     | Will Forte                                                                                          | ...                                                                                                 | Abraham Lincoln \n",
       "  \n",
       "  \n",
       "  (voice) (as Orville Forte)                                              | \n",
       "|                                                                                                     | Dave Franco                                                                                         | ...                                                                                                 | Wally \n",
       "  \n",
       "  \n",
       "  (voice)                                                                           | \n",
       "|                                                                                                     | Morgan Freeman                                                                                      | ...                                                                                                 | Vitruvius \n",
       "  \n",
       "  \n",
       "  (voice)                                                                       | \n",
       "|                                                                                                     | Todd Hansen                                                                                         | ...                                                                                                 | Gandalf /  \n",
       "            Additional Voices \n",
       "  \n",
       "  \n",
       "  (voice)                                      | \n",
       "|                                                                                                     | Jonah Hill                                                                                          | ...                                                                                                 | Green Lantern \n",
       "  \n",
       "  \n",
       "  (voice)                                                                   | \n",
       "\n",
       "\n",
       "\n",
       "\n",
       "\n"
      ],
      "text/plain": [
       "[[1]]\n",
       "                                  X1                                X2\n",
       "1  Cast overview, first billed only: Cast overview, first billed only:\n",
       "2                                                          Will Arnett\n",
       "3                                                      Elizabeth Banks\n",
       "4                                                          Craig Berry\n",
       "5                                                          Alison Brie\n",
       "6                                                        David Burrows\n",
       "7                                                      Anthony Daniels\n",
       "8                                                          Charlie Day\n",
       "9                                                       Amanda Farinos\n",
       "10                                                      Keith Ferguson\n",
       "11                                                        Will Ferrell\n",
       "12                                                          Will Forte\n",
       "13                                                         Dave Franco\n",
       "14                                                      Morgan Freeman\n",
       "15                                                         Todd Hansen\n",
       "16                                                          Jonah Hill\n",
       "                                  X3\n",
       "1  Cast overview, first billed only:\n",
       "2                                ...\n",
       "3                                ...\n",
       "4                                ...\n",
       "5                                ...\n",
       "6                                ...\n",
       "7                                ...\n",
       "8                                ...\n",
       "9                                ...\n",
       "10                               ...\n",
       "11                               ...\n",
       "12                               ...\n",
       "13                               ...\n",
       "14                               ...\n",
       "15                               ...\n",
       "16                               ...\n",
       "                                                                                                    X4\n",
       "1                                                                    Cast overview, first billed only:\n",
       "2                                              Batman /  \\n            Bruce Wayne \\n  \\n  \\n  (voice)\n",
       "3                                                  Wyldstyle /  \\n            Lucy \\n  \\n  \\n  (voice)\n",
       "4                                         Blake /  \\n            Additional Voices \\n  \\n  \\n  (voice)\n",
       "5                                                                         Unikitty \\n  \\n  \\n  (voice)\n",
       "6                                   Octan Robot /  \\n            Additional Voices \\n  \\n  \\n  (voice)\n",
       "7                                                                            C-3PO \\n  \\n  \\n  (voice)\n",
       "8                                                                            Benny \\n  \\n  \\n  (voice)\n",
       "9                                                                              Mom \\n  \\n  \\n  (voice)\n",
       "10                                                                        Han Solo \\n  \\n  \\n  (voice)\n",
       "11 Lord Business (voice) /  \\n            President Business (voice) /  \\n            The Man Upstairs\n",
       "12                                              Abraham Lincoln \\n  \\n  \\n  (voice) (as Orville Forte)\n",
       "13                                                                           Wally \\n  \\n  \\n  (voice)\n",
       "14                                                                       Vitruvius \\n  \\n  \\n  (voice)\n",
       "15                                      Gandalf /  \\n            Additional Voices \\n  \\n  \\n  (voice)\n",
       "16                                                                   Green Lantern \\n  \\n  \\n  (voice)\n"
      ]
     },
     "metadata": {},
     "output_type": "display_data"
    }
   ],
   "source": [
    "Cast"
   ]
  },
  {
   "cell_type": "code",
   "execution_count": null,
   "metadata": {
    "collapsed": true
   },
   "outputs": [],
   "source": []
  }
 ],
 "metadata": {
  "kernelspec": {
   "display_name": "R",
   "language": "R",
   "name": "ir"
  },
  "language_info": {
   "codemirror_mode": "r",
   "file_extension": ".r",
   "mimetype": "text/x-r-source",
   "name": "R",
   "pygments_lexer": "r",
   "version": "3.3.2"
  }
 },
 "nbformat": 4,
 "nbformat_minor": 2
}
